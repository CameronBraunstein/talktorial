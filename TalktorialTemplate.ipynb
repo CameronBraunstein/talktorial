{
 "cells": [
  {
   "cell_type": "markdown",
   "metadata": {
    "id": "ox_JPrq8fBNu"
   },
   "source": [
    "<div class=\"alert alert-block alert-info\">\n",
    "\n",
    "<b>Note:</b> this template was adpated from TeachOpenCADD's [GitHub repository](https://github.com/volkamerlab/teachopencadd).\n",
    "\n",
    "</div>"
   ]
  },
  {
   "cell_type": "markdown",
   "metadata": {
    "id": "hyc1NuM1fBNv"
   },
   "source": [
    "# {{Talktorial topic title}}\n",
    "\n",
    "**Note:** This talktorial was created as a part of the 2024 [Hands-on Graph Neural Networks seminar](https://cms.sic.saarland/hognn2024/) at Saarland University.\n",
    "\n",
    "Author:\n",
    "- First and last name, year(s) of contribution, institution/association, (optional: link to your GitHub profile or personal website)"
   ]
  },
  {
   "cell_type": "markdown",
   "metadata": {
    "id": "0B0PBW4qfBNv"
   },
   "source": [
    "## Aim of this talktorial"
   ]
  },
  {
   "cell_type": "markdown",
   "metadata": {
    "id": "1EncFZWTfBNw"
   },
   "source": [
    "<div class=\"alert alert-block alert-info\">\n",
    "<b>Aim:</b>\n",
    "Add a short summary of this talktorial's content.\n",
    "\n",
    "</div>"
   ]
  },
  {
   "cell_type": "markdown",
   "metadata": {
    "id": "ZaWZRFi7fBNw"
   },
   "source": [
    "This tutorial serves as a brief introduction to graph neural networks, covering both theoretical and practical aspects.\n",
    "Its aim is to provide a basic understanding of the underlying concepts and to demonstrate how to apply graph neural networks to a graph-level task using a hands-on example from molecular machine learning.\n",
    "The reader should learn the basics required to work with graph neural networks within the PyTorch Geometric framework."
   ]
  },
  {
   "cell_type": "markdown",
   "metadata": {
    "id": "WysKxtuGfBNw"
   },
   "source": [
    "<div class=\"alert alert-block alert-info\">\n",
    "\n",
    "<b>Option 1 (pick one):</b> separate theory and practical parts.\n",
    "\n",
    "</div>"
   ]
  },
  {
   "cell_type": "markdown",
   "metadata": {
    "id": "RGEBLpdGfBNw"
   },
   "source": [
    "## Contents in *theory*\n",
    "\n",
    "_Add Table of Contents (TOC) for Theory section._\n",
    "\n",
    "* ...\n",
    "* ..."
   ]
  },
  {
   "cell_type": "markdown",
   "metadata": {
    "id": "505vMOryfBNw"
   },
   "source": [
    "## Contents in *practice*\n",
    "\n",
    "_Add Table of Contents (TOC) for Practical section._\n",
    "\n",
    "* ...\n",
    "* ..."
   ]
  },
  {
   "cell_type": "markdown",
   "metadata": {
    "id": "ITO_YfYqfBNw"
   },
   "source": [
    "<div class=\"alert alert-block alert-info\">\n",
    "\n",
    "<b>Option 2, used in this template</b>: interleaving theoretical and practical parts.\n",
    "\n",
    "</div>"
   ]
  },
  {
   "cell_type": "markdown",
   "metadata": {
    "id": "yIElZ-xXfBNw"
   },
   "source": [
    "## Contents\n",
    "- Why graphs\n",
    "- Graphs in Python\n",
    "- Representing graphs using tensors\n",
    "- Permutation invariance and equivariance\n",
    "- A blueprint for permutation-invariant GNNs\n",
    "- Our first GNN\n",
    "- Creating a toy dataset\n",
    "- Training our toy GNN to predict solubility"
   ]
  },
  {
   "cell_type": "markdown",
   "metadata": {
    "id": "_0BOX0KTfBNx"
   },
   "source": [
    "<div class=\"alert alert-block alert-info\">\n",
    "\n",
    "<b>Sync TOC with section titles</b>: The bullet points in your TOC should refer to the headlines of your other sections at level 3 (``### {{Section headline}}``).\n",
    "\n",
    "</div>"
   ]
  },
  {
   "cell_type": "markdown",
   "metadata": {
    "id": "haluAiVBfBNx"
   },
   "source": [
    "## References"
   ]
  },
  {
   "cell_type": "markdown",
   "metadata": {
    "id": "UFy_a-8yfBNx"
   },
   "source": [
    "<div class=\"alert alert-block alert-info\">\n",
    "\n",
    "If you refer to publications in your talktorial, please gather them here.\n",
    "If there are any other important reference you used, e.g. further reading material, external code repositories, ..., please also list them here.\n",
    "\n",
    "</div>"
   ]
  },
  {
   "cell_type": "markdown",
   "metadata": {
    "id": "sK5nb_y-fBNx"
   },
   "source": [
    "*For paper resources we suggest the following citation style:*\n",
    "- Keyword describing resource: ([1st auhtor last name ((et al.)) <i>Journal</i> (year), <b>volume</b>](link to resource))\n",
    "\n",
    "*Example:*\n",
    "- Neural message passing for quantum chemistry: [Gilmer et al., *ICML, PMLR* (2017), **70**](http://proceedings.mlr.press/v70/gilmer17a/gilmer17a.pdf)\n",
    "- ZINC15 dataset: [Irwin et al., *J. Chem. Inf. Model.* (2012), **55**](https://pubs.acs.org/doi/10.1021/ci3001277)\n",
    "- [PyTorch Geometric package](https://pytorch-geometric.readthedocs.io/en/latest/)\n",
    "\n",
    "If an in-text citation seems appropriate, use the APA format with a link, i.e. ([1st author last name et al., year](link to resource))\n",
    "\n",
    "*Example:*\n",
    "> We implement a basic GNN based on the message-passing framework introduced by ([Gilmer et al., 2017)](http://proceedings.mlr.press/v70/gilmer17a/gilmer17a.pdf).\n",
    "\n",
    "\n",
    "\n",
    "---------------\n",
    "- How Powerful are Graph Neural Networks?: [Xu et al., <i>ICLR</i> (2019)](https://arxiv.org/abs/1810.00826)\n",
    "\n",
    "- A Short Tutorial on The Weisfeiler-Lehman Test And Its Variants: ([Huang et al. <i>ICASSP</i> (2021)](https://arxiv.org/abs/2201.07083))\n"
   ]
  },
  {
   "cell_type": "markdown",
   "metadata": {
    "id": "ryyIz-q6fBNx"
   },
   "source": [
    "## Python Dependencies\n",
    "\n",
    "*If setting up a Python environment that runs your code requires some nasty extra steps, **HERE** is the place to mention them.*"
   ]
  },
  {
   "cell_type": "markdown",
   "metadata": {
    "id": "6-Ay-TP3fBNx"
   },
   "source": [
    "<div class=\"alert alert-block alert-info\">\n",
    "\n",
    "<b>Dependency management</b>:\n",
    "Please state your dependencies in a [pip-compatible](https://pip.pypa.io/en/stable/reference/requirements-file-format/) `requirements.txt` file format.\n",
    "Try to pin at least the major versions of your dependencies, e.g. PyTorch, PyTorch Geometric, pandas, etc.\n",
    "This will help to create a reproducible environment and self-contained notebook.\n",
    "\n",
    "We recommend that you work with a [virtual environment](https://docs.python.org/3/library/venv.html) locally.\n",
    "Use the conda package manager only if you think it is absolutely necessary.\n",
    "\n",
    "</div>"
   ]
  },
  {
   "cell_type": "code",
   "execution_count": null,
   "metadata": {},
   "outputs": [],
   "source": [
    "#How to set up the talktorial venv in local directory\n",
    "python -m venv talktorial\n",
    "source talktorial/bin/activate\n",
    "pip install jupyter ipykernel\n",
    "python -m ipykernel install --user --name=talktorial --display-name \"Python (talktorial)\"\n"
   ]
  },
  {
   "cell_type": "code",
   "execution_count": null,
   "metadata": {
    "id": "ewplX1wlfBNx"
   },
   "outputs": [],
   "source": [
    "#requirements = \"\"\"\n",
    "#rdkit==2024.3.6\n",
    "#torch==2.*\n",
    "#torch_geometric==2.*\n",
    "#pytorch-lightning==2.*\n",
    "#pandas==2.*\n",
    "#seaborn\n",
    "#ipykernel\n",
    "#ipython\n",
    "#black\n",
    "#\"\"\"\n",
    "\n",
    "\n",
    "\n",
    "requirements = \"\"\"\n",
    "networkx\n",
    "matplotlib\n",
    "\"\"\""
   ]
  },
  {
   "cell_type": "code",
   "execution_count": 2,
   "metadata": {
    "colab": {
     "base_uri": "https://localhost:8080/"
    },
    "id": "_SuLeNNRfBNy",
    "outputId": "34d3e060-b1a2-4ac5-bae9-663e1d2e10b7"
   },
   "outputs": [
    {
     "name": "stdout",
     "output_type": "stream",
     "text": [
      "Collecting networkx (from -r /dev/fd/63 (line 2))\n",
      "  Obtaining dependency information for networkx from https://files.pythonhosted.org/packages/b9/54/dd730b32ea14ea797530a4479b2ed46a6fb250f682a9cfb997e968bf0261/networkx-3.4.2-py3-none-any.whl.metadata\n",
      "  Downloading networkx-3.4.2-py3-none-any.whl.metadata (6.3 kB)\n",
      "Collecting matplotlib (from -r /dev/fd/63 (line 3))\n",
      "  Obtaining dependency information for matplotlib from https://files.pythonhosted.org/packages/13/53/b178d51478109f7a700edc94757dd07112e9a0c7a158653b99434b74f9fb/matplotlib-3.9.3-cp311-cp311-manylinux_2_17_x86_64.manylinux2014_x86_64.whl.metadata\n",
      "  Downloading matplotlib-3.9.3-cp311-cp311-manylinux_2_17_x86_64.manylinux2014_x86_64.whl.metadata (11 kB)\n",
      "Collecting contourpy>=1.0.1 (from matplotlib->-r /dev/fd/63 (line 3))\n",
      "  Obtaining dependency information for contourpy>=1.0.1 from https://files.pythonhosted.org/packages/85/fc/7fa5d17daf77306840a4e84668a48ddff09e6bc09ba4e37e85ffc8e4faa3/contourpy-1.3.1-cp311-cp311-manylinux_2_17_x86_64.manylinux2014_x86_64.whl.metadata\n",
      "  Downloading contourpy-1.3.1-cp311-cp311-manylinux_2_17_x86_64.manylinux2014_x86_64.whl.metadata (5.4 kB)\n",
      "Collecting cycler>=0.10 (from matplotlib->-r /dev/fd/63 (line 3))\n",
      "  Obtaining dependency information for cycler>=0.10 from https://files.pythonhosted.org/packages/e7/05/c19819d5e3d95294a6f5947fb9b9629efb316b96de511b418c53d245aae6/cycler-0.12.1-py3-none-any.whl.metadata\n",
      "  Downloading cycler-0.12.1-py3-none-any.whl.metadata (3.8 kB)\n",
      "Collecting fonttools>=4.22.0 (from matplotlib->-r /dev/fd/63 (line 3))\n",
      "  Obtaining dependency information for fonttools>=4.22.0 from https://files.pythonhosted.org/packages/47/2b/9bf7527260d265281dd812951aa22f3d1c331bcc91e86e7038dc6b9737cb/fonttools-4.55.0-cp311-cp311-manylinux_2_17_x86_64.manylinux2014_x86_64.whl.metadata\n",
      "  Downloading fonttools-4.55.0-cp311-cp311-manylinux_2_17_x86_64.manylinux2014_x86_64.whl.metadata (164 kB)\n",
      "\u001b[2K     \u001b[90m━━━━━━━━━━━━━━━━━━━━━━━━━━━━━━━━━━━━━━━\u001b[0m \u001b[32m164.5/164.5 kB\u001b[0m \u001b[31m1.7 MB/s\u001b[0m eta \u001b[36m0:00:00\u001b[0ma \u001b[36m0:00:01\u001b[0m\n",
      "\u001b[?25hCollecting kiwisolver>=1.3.1 (from matplotlib->-r /dev/fd/63 (line 3))\n",
      "  Obtaining dependency information for kiwisolver>=1.3.1 from https://files.pythonhosted.org/packages/a7/4b/2db7af3ed3af7c35f388d5f53c28e155cd402a55432d800c543dc6deb731/kiwisolver-1.4.7-cp311-cp311-manylinux_2_17_x86_64.manylinux2014_x86_64.whl.metadata\n",
      "  Downloading kiwisolver-1.4.7-cp311-cp311-manylinux_2_17_x86_64.manylinux2014_x86_64.whl.metadata (6.3 kB)\n",
      "Collecting numpy>=1.23 (from matplotlib->-r /dev/fd/63 (line 3))\n",
      "  Obtaining dependency information for numpy>=1.23 from https://files.pythonhosted.org/packages/7a/f0/80811e836484262b236c684a75dfc4ba0424bc670e765afaa911468d9f39/numpy-2.1.3-cp311-cp311-manylinux_2_17_x86_64.manylinux2014_x86_64.whl.metadata\n",
      "  Downloading numpy-2.1.3-cp311-cp311-manylinux_2_17_x86_64.manylinux2014_x86_64.whl.metadata (62 kB)\n",
      "\u001b[2K     \u001b[90m━━━━━━━━━━━━━━━━━━━━━━━━━━━━━━━━━━━━━━━━\u001b[0m \u001b[32m62.0/62.0 kB\u001b[0m \u001b[31m2.6 MB/s\u001b[0m eta \u001b[36m0:00:00\u001b[0m\n",
      "\u001b[?25hRequirement already satisfied: packaging>=20.0 in ./talktorial/lib/python3.11/site-packages (from matplotlib->-r /dev/fd/63 (line 3)) (24.2)\n",
      "Collecting pillow>=8 (from matplotlib->-r /dev/fd/63 (line 3))\n",
      "  Obtaining dependency information for pillow>=8 from https://files.pythonhosted.org/packages/39/63/b3fc299528d7df1f678b0666002b37affe6b8751225c3d9c12cf530e73ed/pillow-11.0.0-cp311-cp311-manylinux_2_28_x86_64.whl.metadata\n",
      "  Downloading pillow-11.0.0-cp311-cp311-manylinux_2_28_x86_64.whl.metadata (9.1 kB)\n",
      "Collecting pyparsing>=2.3.1 (from matplotlib->-r /dev/fd/63 (line 3))\n",
      "  Obtaining dependency information for pyparsing>=2.3.1 from https://files.pythonhosted.org/packages/be/ec/2eb3cd785efd67806c46c13a17339708ddc346cbb684eade7a6e6f79536a/pyparsing-3.2.0-py3-none-any.whl.metadata\n",
      "  Downloading pyparsing-3.2.0-py3-none-any.whl.metadata (5.0 kB)\n",
      "Requirement already satisfied: python-dateutil>=2.7 in ./talktorial/lib/python3.11/site-packages (from matplotlib->-r /dev/fd/63 (line 3)) (2.9.0.post0)\n",
      "Requirement already satisfied: six>=1.5 in ./talktorial/lib/python3.11/site-packages (from python-dateutil>=2.7->matplotlib->-r /dev/fd/63 (line 3)) (1.16.0)\n",
      "Downloading networkx-3.4.2-py3-none-any.whl (1.7 MB)\n",
      "\u001b[2K   \u001b[90m━━━━━━━━━━━━━━━━━━━━━━━━━━━━━━━━━━━━━━━━\u001b[0m \u001b[32m1.7/1.7 MB\u001b[0m \u001b[31m2.2 MB/s\u001b[0m eta \u001b[36m0:00:00\u001b[0m00:01\u001b[0m00:01\u001b[0m\n",
      "\u001b[?25hDownloading matplotlib-3.9.3-cp311-cp311-manylinux_2_17_x86_64.manylinux2014_x86_64.whl (8.3 MB)\n",
      "\u001b[2K   \u001b[90m━━━━━━━━━━━━━━━━━━━━━━━━━━━━━━━━━━━━━━━━\u001b[0m \u001b[32m8.3/8.3 MB\u001b[0m \u001b[31m2.8 MB/s\u001b[0m eta \u001b[36m0:00:00\u001b[0m00:01\u001b[0m00:01\u001b[0m\n",
      "\u001b[?25hDownloading contourpy-1.3.1-cp311-cp311-manylinux_2_17_x86_64.manylinux2014_x86_64.whl (326 kB)\n",
      "\u001b[2K   \u001b[90m━━━━━━━━━━━━━━━━━━━━━━━━━━━━━━━━━━━━━━━━\u001b[0m \u001b[32m326.2/326.2 kB\u001b[0m \u001b[31m2.9 MB/s\u001b[0m eta \u001b[36m0:00:00\u001b[0ma \u001b[36m0:00:01\u001b[0m\n",
      "\u001b[?25hUsing cached cycler-0.12.1-py3-none-any.whl (8.3 kB)\n",
      "Downloading fonttools-4.55.0-cp311-cp311-manylinux_2_17_x86_64.manylinux2014_x86_64.whl (4.9 MB)\n",
      "\u001b[2K   \u001b[90m━━━━━━━━━━━━━━━━━━━━━━━━━━━━━━━━━━━━━━━━\u001b[0m \u001b[32m4.9/4.9 MB\u001b[0m \u001b[31m3.1 MB/s\u001b[0m eta \u001b[36m0:00:00\u001b[0m00:01\u001b[0m00:01\u001b[0m\n",
      "\u001b[?25hDownloading kiwisolver-1.4.7-cp311-cp311-manylinux_2_17_x86_64.manylinux2014_x86_64.whl (1.4 MB)\n",
      "\u001b[2K   \u001b[90m━━━━━━━━━━━━━━━━━━━━━━━━━━━━━━━━━━━━━━━━\u001b[0m \u001b[32m1.4/1.4 MB\u001b[0m \u001b[31m3.3 MB/s\u001b[0m eta \u001b[36m0:00:00\u001b[0ma \u001b[36m0:00:01\u001b[0m\n",
      "\u001b[?25hDownloading numpy-2.1.3-cp311-cp311-manylinux_2_17_x86_64.manylinux2014_x86_64.whl (16.3 MB)\n",
      "\u001b[2K   \u001b[90m━━━━━━━━━━━━━━━━━━━━━━━━━━━━━━━━━━━━━━━━\u001b[0m \u001b[32m16.3/16.3 MB\u001b[0m \u001b[31m3.4 MB/s\u001b[0m eta \u001b[36m0:00:00\u001b[0m00:01\u001b[0m00:01\u001b[0m\n",
      "\u001b[?25hDownloading pillow-11.0.0-cp311-cp311-manylinux_2_28_x86_64.whl (4.4 MB)\n",
      "\u001b[2K   \u001b[90m━━━━━━━━━━━━━━━━━━━━━━━━━━━━━━━━━━━━━━━━\u001b[0m \u001b[32m4.4/4.4 MB\u001b[0m \u001b[31m3.8 MB/s\u001b[0m eta \u001b[36m0:00:00\u001b[0m00:01\u001b[0m00:01\u001b[0m\n",
      "\u001b[?25hDownloading pyparsing-3.2.0-py3-none-any.whl (106 kB)\n",
      "\u001b[2K   \u001b[90m━━━━━━━━━━━━━━━━━━━━━━━━━━━━━━━━━━━━━━━━\u001b[0m \u001b[32m106.9/106.9 kB\u001b[0m \u001b[31m6.3 MB/s\u001b[0m eta \u001b[36m0:00:00\u001b[0m\n",
      "\u001b[?25hInstalling collected packages: pyparsing, pillow, numpy, networkx, kiwisolver, fonttools, cycler, contourpy, matplotlib\n",
      "Successfully installed contourpy-1.3.1 cycler-0.12.1 fonttools-4.55.0 kiwisolver-1.4.7 matplotlib-3.9.3 networkx-3.4.2 numpy-2.1.3 pillow-11.0.0 pyparsing-3.2.0\n",
      "\n",
      "\u001b[1m[\u001b[0m\u001b[34;49mnotice\u001b[0m\u001b[1;39;49m]\u001b[0m\u001b[39;49m A new release of pip is available: \u001b[0m\u001b[31;49m23.2.1\u001b[0m\u001b[39;49m -> \u001b[0m\u001b[32;49m24.3.1\u001b[0m\n",
      "\u001b[1m[\u001b[0m\u001b[34;49mnotice\u001b[0m\u001b[1;39;49m]\u001b[0m\u001b[39;49m To update, run: \u001b[0m\u001b[32;49mpip install --upgrade pip\u001b[0m\n"
     ]
    }
   ],
   "source": [
    "!pip install -r <(echo \"$requirements\")"
   ]
  },
  {
   "cell_type": "markdown",
   "metadata": {
    "id": "G9_DaIwlfBNy"
   },
   "source": [
    "<div class=\"alert alert-block alert-info\">\n",
    "\n",
    "<b>Imports</b>: Please add all your imports in a code cell within this section, ordered by standard library / 3rd party packages.\n",
    "Read more on imports and import order in the <a href=\"https://www.python.org/dev/peps/pep-0008/#imports\">\"PEP 8 -- Style Guide for Python Code\"</a>.\n",
    "    \n",
    "</div>"
   ]
  },
  {
   "cell_type": "code",
   "execution_count": 22,
   "metadata": {
    "id": "64azXqvefBNy"
   },
   "outputs": [],
   "source": [
    "# from collections import defaultdict\n",
    "# from pathlib import Path\n",
    "\n",
    "# import torch\n",
    "# import torch.nn.functional as F\n",
    "# from torch import nn\n",
    "\n",
    "# from torch_geometric.data import Data, download_url\n",
    "# from torch_geometric.loader import DataLoader\n",
    "# from torch_geometric.utils import to_dense_batch, to_dense_adj, scatter\n",
    "# from torch_geometric.nn.pool import global_mean_pool, global_add_pool\n",
    "\n",
    "# import pytorch_lightning as pl\n",
    "# import pandas as pd\n",
    "# import numpy as np\n",
    "# import seaborn as sns\n",
    "\n",
    "# from rdkit import Chem\n",
    "# from rdkit.Chem import BondType as BT\n",
    "\n",
    "import networkx as nx\n",
    "import matplotlib.pyplot as plt\n",
    "from enum import Enum"
   ]
  },
  {
   "cell_type": "markdown",
   "metadata": {
    "id": "1ieg39qmfBNy"
   },
   "source": [
    "<div class=\"alert alert-block alert-info\">\n",
    "    \n",
    "<b>Seeding</b>: try to make your code reproducible by setting seeds for random number generators.\n",
    "\n",
    "</div>"
   ]
  },
  {
   "cell_type": "code",
   "execution_count": null,
   "metadata": {
    "colab": {
     "base_uri": "https://localhost:8080/"
    },
    "id": "KWf2cHodfBNy",
    "outputId": "5643860b-c8a9-46fe-94f8-fc269fe9fc68"
   },
   "outputs": [
    {
     "name": "stderr",
     "output_type": "stream",
     "text": [
      "Seed set to 42\n"
     ]
    },
    {
     "data": {
      "text/plain": [
       "42"
      ]
     },
     "execution_count": 4,
     "metadata": {},
     "output_type": "execute_result"
    }
   ],
   "source": [
    "#pl.seed_everything(42)"
   ]
  },
  {
   "cell_type": "markdown",
   "metadata": {
    "id": "vxMrU59FfBNy"
   },
   "source": [
    "<div class=\"alert alert-block alert-info\">\n",
    "    \n",
    "<b>Links</b>: If you place links, please link descriptive words.\n",
    "\n",
    "</div>"
   ]
  },
  {
   "cell_type": "markdown",
   "metadata": {
    "id": "9hxIi2RbfBNy"
   },
   "source": [
    "For example\n",
    "\n",
    "> __No__: PyTorch Geometric ([here](https://pytorch-geometric.readthedocs.io/en/latest/)) is a python package for graph neural networks.\n",
    "\n",
    "> __No__: PyTorch Geometric (https://pytorch-geometric.readthedocs.io/en/latest/) is a python package for graph neural networks.\n",
    "\n",
    "> __Yes__: [PyTorch Geometric](https://pytorch-geometric.readthedocs.io/en/latest/) is a python package for graph neural networks."
   ]
  },
  {
   "cell_type": "markdown",
   "metadata": {
    "id": "tYnKNDlwfBNy"
   },
   "source": [
    "## Contents\n",
    "### Why Do We Want to Distinguish Graphs?"
   ]
  },
  {
   "cell_type": "markdown",
   "metadata": {
    "id": "GrHkrq5pfBNz"
   },
   "source": [
    "<div class=\"alert alert-block alert-info\">\n",
    "    \n",
    "<b>Story/Motivation</b>: the way you explain your topic should also convey some motivation or sense for why it is important.\n",
    "\n",
    "</div>"
   ]
  },
  {
   "cell_type": "markdown",
   "metadata": {
    "id": "RtTQuqppfBNz"
   },
   "source": [
    "Graphs are powerful, discrete data structures used to model given set of objects (_nodes_) and their relations (_edges_ that connect nodes). Real world scenarios where graphs are a useful modeling tool include\n",
    "- molecules, where nodes represent atoms and edges represent covalent bonds\n",
    "- drug-drug interaction networks, where nodes represent drugs and edges represent interactions, e.g. side effects\n",
    "- the current weather, where nodes represent weather regions and edges represent spatial proximity\n",
    "\n",
    "Given the graph representation of such data, many interesting tasks, e.g. molecular property prediction, can be tackled using graph neural networks (GNNs)."
   ]
  },
  {
   "cell_type": "markdown",
   "metadata": {
    "id": "0l1DGYc4fBNz"
   },
   "source": [
    "<div class=\"alert alert-block alert-info\">\n",
    "    \n",
    "<b>Figures</b>: to ensure that the notebook is self-contained, please include figures directly in the notebook, e.g. using URLs and HTML as in the example below.\n",
    "\n",
    "</div>"
   ]
  },
  {
   "cell_type": "markdown",
   "metadata": {
    "id": "i5JSPDwXfBNz"
   },
   "source": [
    "<img src=\"https://www.dropbox.com/scl/fi/eafeop9m1jfmypu47qztn/molecular_graphs.png?rlkey=avw0gfshtygjhrd6ngw8sz8ol&st=6nklfaxi&dl=1\" style=\"width: 800px;\"/>\n",
    "\n",
    "\n",
    "**Figure 1**: an example of a molecular graph (aspirin) with nodes representing atoms and edges representing covalent bonds."
   ]
  },
  {
   "cell_type": "markdown",
   "metadata": {
    "id": "s6KV0x-7fBNz"
   },
   "source": [
    "<div class=\"alert alert-block alert-info\">\n",
    "    \n",
    "<b>Formulas</b>: Please use LaTeX to typeset formulas.\n",
    "</div>"
   ]
  },
  {
   "cell_type": "markdown",
   "metadata": {
    "id": "vvvCeVs-fBNz"
   },
   "source": [
    "Let $V$ be a finite set of nodes $v \\in V$, where each node may be annotated with *features* $l_V(v) \\in \\mathbb R^d$ where $l: V \\to \\mathbb R^d$.\n",
    "\n",
    "Relations among objects are described by *edges* $(u,v) \\in E \\subseteq V \\times V$. The relation between any two nodes may also be featurized by\n",
    "$l_E(u,v) \\in \\mathbb R^d$, $l_E: E \\to \\mathbb R^d$. An edge $(u,v)$ is *undirected* (symmetric) if $\\{(u,v), (v,u)\\} \\subset E$ and $l_E(u,v) = l_E(v,u)$. Otherwise it is *directed*. An undirected graph is a graph where all edges are undirected.\n",
    "\n",
    "Assuming wlog that $V = \\{1,...,n\\}$ (imposing an ordering on the nodes) we can also represent the edges of a graph using an adjacency matrix $A = [a_{ij}]_{n\\times n}$ where $$a_{ij} = \\mathbb I\\{(i,j) \\in E\\}$$\n",
    "\n",
    "Another useful concept are node neighborhoods: we use $\\mathcal N(v)$ to denote the set of all nodes that share an edge with $v$. We define $N(v) = \\{(u_1, u_2) \\in E \\mid u_2 = v\\}$."
   ]
  },
  {
   "cell_type": "markdown",
   "metadata": {
    "id": "yswtdD26fBNz"
   },
   "source": [
    "Using an ordering $V = \\{1,\\ldots,n\\}$ as above we can succinctly represent the graph as a tuple $(X, A, E)$ where $X \\in \\mathbb R^{n \\times d}$ is the node feature matrix, $A \\in \\{0,1\\}^{n \\times n}$ is the adjacency matrix and $E \\in \\mathbb R^{n \\times n \\times d}$ is the edge feature tensor.\n",
    "\n",
    "More precisely $X = [l_V(v)]_{v \\in V}$, $A = [a_{ij}]_{i,j \\in V}$ and $E = [l_E(u,v)]_{(u,v) \\in V^2}$.\n",
    "\n"
   ]
  },
  {
   "cell_type": "markdown",
   "metadata": {
    "id": "IeziGXqWfBNz"
   },
   "source": [
    "### Graphs in Python\n",
    "Depending on the application, there are different libraries you may consider for working with graphs. For our working examples in this notebook we will use the [RDKit](https://www.rdkit.org/docs/GettingStartedInPython.html) for working with molecular graphs. For other applications, we strongly recommend that you consider [NetworkX](https://networkx.org/), or, if runtime performance is a concern, [graph-tool](https://graph-tool.skewed.de/)."
   ]
  },
  {
   "cell_type": "markdown",
   "metadata": {
    "id": "lmyDgvFxfBNz"
   },
   "source": [
    "### Representing graphs using tensors\n",
    "Applying GNNs to graph-structured data requires representing these graphs, or mini-batches of graphs as tensors.\n",
    "There is arguably no single best choice regarding the exact type of tensor representation for graphs.\n",
    "The two most common are the sparse coordinate (COO) format and the dense format.\n"
   ]
  },
  {
   "cell_type": "markdown",
   "metadata": {
    "id": "cw7rrlpTfBNz"
   },
   "source": [
    "For our running example we now write a function that\n",
    "- loads a molecule from its [SMILES representation](https://en.wikipedia.org/wiki/Simplified_Molecular_Input_Line_Entry_System)\n",
    "- extracts minimal node features, the edges and edge features\n",
    "- generates a PyTorch Geometric `Data` object that represents the molecule as a graph in COO format"
   ]
  },
  {
   "cell_type": "markdown",
   "metadata": {
    "id": "g14NcgDufBNz"
   },
   "source": [
    "<div class=\"alert alert-block alert-info\">\n",
    "\n",
    "<b>Functions and class methods</b>:\n",
    "\n",
    "<ul>\n",
    "<li>Please add docstrings to your functions using a consistent format / level of detail.</li>\n",
    "<li>Please expose all variables used within a function in the function's signature (i.e. they must be function parameters), unless they are created within the scope of the function.</li>\n",
    "<li>Please add comments outside of docstrings purposefuly and in a measured way. Think of comments as justifications for lines of code whose purpose may not be apparent given the context.</li>\n",
    "<li>Please use meaningful class, function and parameter names. This applies also to variable names.</li>\n",
    "</ul>\n",
    "    \n",
    "</div>"
   ]
  },
  {
   "cell_type": "markdown",
   "metadata": {
    "id": "Wb47YK2HfBNz"
   },
   "source": [
    "<div class=\"alert alert-block alert-info\">\n",
    "\n",
    "<b>Formatting</b>: Use the black code formatter to ensure consistent code formatting!\n",
    "    \n",
    "</div>"
   ]
  },
  {
   "cell_type": "code",
   "execution_count": 47,
   "metadata": {},
   "outputs": [],
   "source": [
    "#These graphs have the same number of nodes and edges, but different structure\n",
    "def get_non_isomorphic_graphs():\n",
    "    G = nx.Graph()\n",
    "    G.add_node(0, color='red')\n",
    "    G.add_node(1, color='blue')\n",
    "    G.add_node(2, color='green')\n",
    "    G.add_node(3, color='red')\n",
    "    G.add_node(4, color='blue')\n",
    "    G.add_edge(0, 1)\n",
    "    G.add_edge(1, 2)\n",
    "    G.add_edge(2, 0)\n",
    "    G.add_edge(2, 3)\n",
    "    G.add_edge(2, 4)\n",
    "\n",
    "    H = nx.Graph()\n",
    "    H.add_node(0, color='red')\n",
    "    H.add_node(1, color='blue')\n",
    "    H.add_node(2, color='green')\n",
    "    H.add_node(3, color='red')\n",
    "    H.add_node(4, color='blue')\n",
    "    H.add_edge(0, 1)\n",
    "    H.add_edge(1, 2)\n",
    "    H.add_edge(2, 3)\n",
    "    H.add_edge(3, 4)\n",
    "    H.add_edge(4, 0)\n",
    "    return G,H"
   ]
  },
  {
   "cell_type": "code",
   "execution_count": 48,
   "metadata": {},
   "outputs": [],
   "source": [
    "class DisplayArgs(Enum):\n",
    "    GRAPHS = 'graphs'\n",
    "    TITLES = 'titles'\n",
    "    SEEDS = 'seeds'\n",
    "\n",
    "def display_graphs(display_args):\n",
    "    \"\"\"\n",
    "    Display multiple graphs in a row with supplied titles.\n",
    "\n",
    "    Parameters:\n",
    "    graphs (list): List of networkx graphs.\n",
    "    titles (list): List of titles for the graphs.\n",
    "    \"\"\"\n",
    "    graphs = display_args[DisplayArgs.GRAPHS]\n",
    "    titles = display_args[DisplayArgs.TITLES]\n",
    "    seeds = display_args[DisplayArgs.SEEDS]\n",
    "\n",
    "    n = len(graphs)\n",
    "    fig, axes = plt.subplots(1, n, figsize=(6 * n, 6))\n",
    "\n",
    "    if n == 1:\n",
    "        axes = [axes]\n",
    "\n",
    "    for i, (G, title,seed) in enumerate(zip(graphs, titles,seeds)):\n",
    "        pos = nx.spring_layout(G, seed=seed)\n",
    "        node_colors = [G.nodes[node].get('color', 'blue') for node in G.nodes]\n",
    "        nx.draw(G, pos, node_color=node_colors, edge_color='black', node_size=700, ax=axes[i])\n",
    "        axes[i].set_title(title)\n",
    "\n",
    "    plt.show()"
   ]
  },
  {
   "cell_type": "code",
   "execution_count": 49,
   "metadata": {
    "id": "W1pk2NZhfBNz"
   },
   "outputs": [
    {
     "data": {
      "image/png": "[encoded data removed]",
      "text/plain": [
       "<Figure size 1200x600 with 2 Axes>"
      ]
     },
     "metadata": {},
     "output_type": "display_data"
    }
   ],
   "source": [
    "G,H = get_non_isomorphic_graphs()\n",
    "\n",
    "display_args = {\n",
    "    DisplayArgs.GRAPHS: [G, H],\n",
    "    DisplayArgs.TITLES: ['G', 'H'],\n",
    "    DisplayArgs.SEEDS: [1, 0]\n",
    "}\n",
    "\n",
    "display_graphs(display_args)\n",
    "\n"
   ]
  },
  {
   "cell_type": "markdown",
   "metadata": {},
   "source": [
    "### Classical Weisfeiler Lehman Algorithm "
   ]
  },
  {
   "cell_type": "code",
   "execution_count": null,
   "metadata": {},
   "outputs": [],
   "source": [
    "def aggregate(node,tree,G,G_trees):\n",
    "    leaf_nodes = [n for n in tree.nodes if (tree.degree(n) == 1) or (tree.degree(n) == 0)]\n",
    "    leaf_dict = {n: i for i, n in enumerate(leaf_nodes)}\n",
    "    #leaf_trees = {}\n",
    "\n",
    "    new_tree = G.copy()\n",
    "    for leaf_node in leaf_nodes:\n",
    "        #leaf_trees[leaf_node] = G_trees[leaf_node]\n",
    "\n",
    "                neighbors = aggregate(G,leaf_node)\n",
    "                print('neighbors', neighbors)\n",
    "                break\n",
    "    neighbors = list(G.neighbors(node))\n",
    "    return neighbors"
   ]
  },
  {
   "cell_type": "code",
   "execution_count": 1,
   "metadata": {},
   "outputs": [],
   "source": [
    "def WL_encoding(G,K):\n",
    "    #Initialize the node labels.\n",
    "\n",
    "    G_trees = {}\n",
    "\n",
    "    #Initialize the trees.\n",
    "    for i, node in enumerate(G.nodes):\n",
    "        tree_root = nx.Graph()\n",
    "        tree_root.add_node(i,index=0,color=G.nodes[node]['color'])\n",
    "        G_trees[node] = tree_root\n",
    "\n",
    "\n",
    "    print(G_trees[0])\n",
    "    \n",
    "    for k in range(K):\n",
    "        new_G_trees = {}\n",
    "        for node,tree in G_trees.items():\n",
    "            print('tree', tree)\n",
    "            new_G_trees[node] = aggregate(node,tree,G,G_trees)\n",
    "\n",
    "            #neighbors = list(G.neighbors(node))\n",
    "            #print('node', node)\n",
    "            #print(neighbors)\n",
    "            #break\n",
    "        \n",
    "        break\n",
    "\n",
    "        #G.nodes[node]['label'] = {0: 1}\n",
    "\n",
    "    print(G_trees)"
   ]
  },
  {
   "cell_type": "code",
   "execution_count": 69,
   "metadata": {},
   "outputs": [],
   "source": [
    "def WL_test(G,H,K):\n",
    "    G_encoding = WL_encoding(G,K)\n",
    "    H_encoding = WL_encoding(H,K)\n",
    "    if G_encoding != H_encoding:\n",
    "        print(\"The graphs are not isomorphic\")\n",
    "    else:\n",
    "        print(\"WL test is inconclusive. The graphs might be isomorphic, or they might not be.\")"
   ]
  },
  {
   "cell_type": "code",
   "execution_count": null,
   "metadata": {},
   "outputs": [
    {
     "name": "stdout",
     "output_type": "stream",
     "text": [
      "Graph with 1 nodes and 0 edges\n",
      "tree Graph with 1 nodes and 0 edges\n"
     ]
    },
    {
     "ename": "NameError",
     "evalue": "name 'aggregate' is not defined",
     "output_type": "error",
     "traceback": [
      "\u001b[0;31m---------------------------------------------------------------------------\u001b[0m",
      "\u001b[0;31mNameError\u001b[0m                                 Traceback (most recent call last)",
      "Cell \u001b[0;32mIn[70], line 1\u001b[0m\n\u001b[0;32m----> 1\u001b[0m \u001b[43mWL_test\u001b[49m\u001b[43m(\u001b[49m\u001b[43mG\u001b[49m\u001b[43m,\u001b[49m\u001b[43mH\u001b[49m\u001b[43m,\u001b[49m\u001b[38;5;241;43m1\u001b[39;49m\u001b[43m)\u001b[49m\n",
      "Cell \u001b[0;32mIn[69], line 2\u001b[0m, in \u001b[0;36mWL_test\u001b[0;34m(G, H, K)\u001b[0m\n\u001b[1;32m      1\u001b[0m \u001b[38;5;28;01mdef\u001b[39;00m \u001b[38;5;21mWL_test\u001b[39m(G,H,K):\n\u001b[0;32m----> 2\u001b[0m     G_encoding \u001b[38;5;241m=\u001b[39m \u001b[43mWL_encoding\u001b[49m\u001b[43m(\u001b[49m\u001b[43mG\u001b[49m\u001b[43m,\u001b[49m\u001b[43mK\u001b[49m\u001b[43m)\u001b[49m\n\u001b[1;32m      3\u001b[0m     H_encoding \u001b[38;5;241m=\u001b[39m WL_encoding(H,K)\n\u001b[1;32m      4\u001b[0m     \u001b[38;5;28;01mif\u001b[39;00m G_encoding \u001b[38;5;241m!=\u001b[39m H_encoding:\n",
      "Cell \u001b[0;32mIn[67], line 20\u001b[0m, in \u001b[0;36mWL_encoding\u001b[0;34m(G, K)\u001b[0m\n\u001b[1;32m     18\u001b[0m \u001b[38;5;28;01mfor\u001b[39;00m node,tree \u001b[38;5;129;01min\u001b[39;00m G_trees\u001b[38;5;241m.\u001b[39mitems():\n\u001b[1;32m     19\u001b[0m     \u001b[38;5;28mprint\u001b[39m(\u001b[38;5;124m'\u001b[39m\u001b[38;5;124mtree\u001b[39m\u001b[38;5;124m'\u001b[39m, tree)\n\u001b[0;32m---> 20\u001b[0m     new_G_trees[node] \u001b[38;5;241m=\u001b[39m \u001b[43maggregate\u001b[49m(node,tree,G,G_trees)\n\u001b[1;32m     22\u001b[0m     \u001b[38;5;66;03m#neighbors = list(G.neighbors(node))\u001b[39;00m\n\u001b[1;32m     23\u001b[0m     \u001b[38;5;66;03m#print('node', node)\u001b[39;00m\n\u001b[1;32m     24\u001b[0m     \u001b[38;5;66;03m#print(neighbors)\u001b[39;00m\n\u001b[1;32m     25\u001b[0m     \u001b[38;5;66;03m#break\u001b[39;00m\n\u001b[1;32m     27\u001b[0m \u001b[38;5;28;01mbreak\u001b[39;00m\n",
      "\u001b[0;31mNameError\u001b[0m: name 'aggregate' is not defined"
     ]
    },
    {
     "ename": "",
     "evalue": "",
     "output_type": "error",
     "traceback": [
      "\u001b[1;31mThe Kernel crashed while executing code in the current cell or a previous cell. \n",
      "\u001b[1;31mPlease review the code in the cell(s) to identify a possible cause of the failure. \n",
      "\u001b[1;31mClick <a href='https://aka.ms/vscodeJupyterKernelCrash'>here</a> for more info. \n",
      "\u001b[1;31mView Jupyter <a href='command:jupyter.viewOutput'>log</a> for further details."
     ]
    }
   ],
   "source": [
    "WL_test(G,H,1)"
   ]
  },
  {
   "cell_type": "code",
   "execution_count": 6,
   "metadata": {
    "colab": {
     "base_uri": "https://localhost:8080/"
    },
    "id": "GC0YUWoSfBN0",
    "outputId": "2b68ca5f-8b69-44c8-b876-4edf78e70bbc"
   },
   "outputs": [
    {
     "data": {
      "text/plain": [
       "Data(x=[13, 8], edge_index=[2, 26], edge_attr=[26, 5])"
      ]
     },
     "execution_count": 6,
     "metadata": {},
     "output_type": "execute_result"
    }
   ],
   "source": [
    "aspirin = \"CC(=O)OC1=CC=CC=C1C(=O)O\"\n",
    "aspirin_data = graph_data_from_smiles(aspirin)\n",
    "aspirin_data"
   ]
  },
  {
   "cell_type": "code",
   "execution_count": 7,
   "metadata": {
    "colab": {
     "base_uri": "https://localhost:8080/"
    },
    "id": "GZHLNuLlfBN0",
    "outputId": "52d78ff0-b765-4550-f26e-1cf9f49929dc"
   },
   "outputs": [
    {
     "data": {
      "text/plain": [
       "Data(x=[3, 8], edge_index=[2, 4], edge_attr=[4, 5])"
      ]
     },
     "execution_count": 7,
     "metadata": {},
     "output_type": "execute_result"
    }
   ],
   "source": [
    "ethanol = \"CCO\"\n",
    "ethanol_data = graph_data_from_smiles(ethanol)\n",
    "ethanol_data"
   ]
  },
  {
   "cell_type": "markdown",
   "metadata": {
    "id": "t8rVRTI8fBN0"
   },
   "source": [
    "<div class=\"alert alert-block alert-info\">\n",
    "    \n",
    "<b>Code reference in Markdown cells</b>: If you refer to Python code or objects in your Markdown cells, please use backticks to format them.\n",
    "\n",
    "</div>"
   ]
  },
  {
   "cell_type": "markdown",
   "metadata": {
    "id": "X7TZ4Bh-fBN0"
   },
   "source": [
    "Note: the `str` representation of the PyTorch Geometric `Data` object above captures the *shape* of the node feature, edge index, and edge feature tensors."
   ]
  },
  {
   "cell_type": "markdown",
   "metadata": {
    "id": "He-FfxM1fBN0"
   },
   "source": [
    "#### Sparse COO format\n",
    "This is the most common format for representing graphs as tensors and also the one we used in the example above.\n",
    "In this format, the node features are stored in a 2D tensor of shape `(num_nodes, num_node_features)`, the edge index is stored in a 2D tensor of shape `(2, num_edges)` and the edge features are stored in a 2D tensor of shape `(num_edges, num_edge_features)`.\n",
    "\n",
    "As we will see later, this format allows for efficient message passing in GNNs.\n",
    "\n",
    "It also allows for easy batching of graphs, as we can simply\n",
    "- concatenate the node features and edge features along the first dimension\n",
    "- concatenate the edge index along the second dimension and increment the contents piecewise by the number of nodes in the previous graphs\n",
    "- create an index tensor of shape `(total_num_nodes,)` that maps each node to its corresponding graph within the batch\n",
    "\n",
    "This is taken care of by the PyTorch Geometric `DataLoader` class."
   ]
  },
  {
   "cell_type": "code",
   "execution_count": 8,
   "metadata": {
    "colab": {
     "base_uri": "https://localhost:8080/"
    },
    "id": "_PNddnDyfBN0",
    "outputId": "f33da97d-03ae-4fce-fd0e-3de325fa7f15"
   },
   "outputs": [
    {
     "data": {
      "text/plain": [
       "DataBatch(x=[16, 8], edge_index=[2, 30], edge_attr=[30, 5], batch=[16], ptr=[3])"
      ]
     },
     "execution_count": 8,
     "metadata": {},
     "output_type": "execute_result"
    }
   ],
   "source": [
    "loader = DataLoader([aspirin_data, ethanol_data], batch_size=2)\n",
    "batch = next(iter(loader))\n",
    "batch"
   ]
  },
  {
   "cell_type": "markdown",
   "metadata": {
    "id": "lOJT1zIZfBN0"
   },
   "source": [
    "The `batch.batch` attribute is a long tensor that maps each node to its respective graph."
   ]
  },
  {
   "cell_type": "code",
   "execution_count": 9,
   "metadata": {
    "colab": {
     "base_uri": "https://localhost:8080/"
    },
    "id": "D_JGLQpffBN0",
    "outputId": "9ff13b01-e662-460c-8918-36cc8c83d699"
   },
   "outputs": [
    {
     "data": {
      "text/plain": [
       "tensor([0, 0, 0, 0, 0, 0, 0, 0, 0, 0, 0, 0, 0, 1, 1, 1])"
      ]
     },
     "execution_count": 9,
     "metadata": {},
     "output_type": "execute_result"
    }
   ],
   "source": [
    "batch.batch"
   ]
  },
  {
   "cell_type": "markdown",
   "metadata": {
    "id": "Si9OBt6TfBN0"
   },
   "source": [
    "Note how the number of zeros and ones in this tensor corresponds to the number of atoms (nodes) in the aspirin and ethanol molecular graphs respectively."
   ]
  },
  {
   "cell_type": "markdown",
   "metadata": {
    "id": "ZIloX_AffBN0"
   },
   "source": [
    "The values in `batch.edge_index` are incremented by the number of nodes in the previous graph to account for stacking node features along the first dimension."
   ]
  },
  {
   "cell_type": "code",
   "execution_count": 10,
   "metadata": {
    "colab": {
     "base_uri": "https://localhost:8080/"
    },
    "id": "UqzD9qS5fBN1",
    "outputId": "8bea192a-aa07-4dfc-98ae-aed3ad2154c6"
   },
   "outputs": [
    {
     "data": {
      "text/plain": [
       "tensor([[13, 14, 14, 15],\n",
       "        [14, 13, 15, 14]])"
      ]
     },
     "execution_count": 10,
     "metadata": {},
     "output_type": "execute_result"
    }
   ],
   "source": [
    "# select the edges that belong to the ethanol molecule\n",
    "batch.edge_index[:, aspirin_data.num_edges :]"
   ]
  },
  {
   "cell_type": "markdown",
   "metadata": {
    "id": "4E_tgljcfBN1"
   },
   "source": [
    "#### Dense format\n",
    "The dense tensor representation of a graph with `n` nodes materialises the entire adjacency matrix using a respective tensor of shape `(n,n)`. This can be very memory-inefficient for large graphs, but is useful for certain types of GNNs, e.g. graph transformers that compute self-attention over all nodes.\n",
    "\n",
    "We can switch between the sparse and dense tensor representation using the `torch_geometric.utils.to_dense_adj` and `torch_geometric.utils.to_dense_batch` functions."
   ]
  },
  {
   "cell_type": "markdown",
   "metadata": {
    "id": "T1sqotD6fBN1"
   },
   "source": [
    "The edges and edge features are converted to a dense tensor representation using `torch_geometric.utils.to_dense_adj`"
   ]
  },
  {
   "cell_type": "code",
   "execution_count": 11,
   "metadata": {
    "colab": {
     "base_uri": "https://localhost:8080/"
    },
    "id": "QBTHU7JzfBN1",
    "outputId": "601e4bb6-554c-4484-f051-a707e4b1d5bb"
   },
   "outputs": [
    {
     "data": {
      "text/plain": [
       "torch.Size([2, 13, 13])"
      ]
     },
     "execution_count": 11,
     "metadata": {},
     "output_type": "execute_result"
    }
   ],
   "source": [
    "dense_adj = to_dense_adj(batch.edge_index, batch.batch)\n",
    "\n",
    "row, col = aspirin_data.edge_index\n",
    "assert torch.isclose(dense_adj[0, row, col], torch.ones(1)).all()\n",
    "\n",
    "# shape (batch_size, num_nodes, num_nodes)\n",
    "dense_adj.size()"
   ]
  },
  {
   "cell_type": "code",
   "execution_count": 12,
   "metadata": {
    "colab": {
     "base_uri": "https://localhost:8080/"
    },
    "id": "kixXRJH4fBN1",
    "outputId": "a047c3bb-4718-4dcf-f8bd-6b2a364cefaa"
   },
   "outputs": [
    {
     "data": {
      "text/plain": [
       "torch.Size([2, 13, 13, 5])"
      ]
     },
     "execution_count": 12,
     "metadata": {},
     "output_type": "execute_result"
    }
   ],
   "source": [
    "edge_feature_matrix = to_dense_adj(batch.edge_index, batch.batch, batch.edge_attr)\n",
    "\n",
    "# shape (batch_size, num_nodes, num_nodes, num_edge_features)\n",
    "edge_feature_matrix.size()"
   ]
  },
  {
   "cell_type": "markdown",
   "metadata": {
    "id": "pghGtLrKfBN1"
   },
   "source": [
    "The node features are converted to a dense tensor representation using `torch_geometric.utils.to_dense_batch`"
   ]
  },
  {
   "cell_type": "code",
   "execution_count": 13,
   "metadata": {
    "colab": {
     "base_uri": "https://localhost:8080/"
    },
    "id": "Ym7KiGNZfBN1",
    "outputId": "823e2e17-e7da-4874-89d3-e070c0143bcf"
   },
   "outputs": [
    {
     "data": {
      "text/plain": [
       "(torch.Size([2, 13, 8]), torch.Size([2, 13]))"
      ]
     },
     "execution_count": 13,
     "metadata": {},
     "output_type": "execute_result"
    }
   ],
   "source": [
    "x, mask = to_dense_batch(batch.x, batch.batch)\n",
    "# shape (batch_size, num_nodes, num_node_features) and (batch_size, num_nodes)\n",
    "x.size(), mask.size()"
   ]
  },
  {
   "cell_type": "markdown",
   "metadata": {
    "id": "0gOLL5cvfBN1"
   },
   "source": [
    "Note how dense graphs are batched along a new leading dimension. This requires padding if not all graphs are of the same size.\n",
    "The `mask` tensor is a binary tensor that indicates which entries along the second dimension of `x` represent actual nodes, and which are padding."
   ]
  },
  {
   "cell_type": "markdown",
   "metadata": {
    "id": "-Or8oCRefBN1"
   },
   "source": [
    "### Permutation invariance and equivariance\n",
    "By representing graphs as tensors, we impose an implicit ordering on the nodes and edges. This is a problem, as the nodes and edges of a graph are inherently unordered.\n",
    "\n",
    "Any function (i.e. GNN) that operates on these representations should be *permutation-invariant* or *permutation-equivariant*, where the objects being permuted are the nodes and edges of the graph.\n",
    "\n",
    "A permutation matrix is a square matrix that has exactly one entry of 1 in each row and each column, and zeros elsewhere. Given such a matrix $\\mathbf P$ we can express permutation invariance as\n",
    "$$\n",
    "f(\\mathbf P\\mathbf X, \\mathbf P \\mathbf A \\mathbf P^T) = f(\\mathbf X, \\mathbf A)\n",
    "$$\n",
    "and permutation-equivariance as\n",
    "\n",
    "$$\n",
    "    f(\\mathbf P\\mathbf X, \\mathbf P \\mathbf A \\mathbf P^T) = \\mathbf Pf(\\mathbf X, \\mathbf A)\n",
    "$$"
   ]
  },
  {
   "cell_type": "markdown",
   "metadata": {
    "id": "swZUZCWyfBN1"
   },
   "source": [
    "<img src=\"https://www.dropbox.com/scl/fi/5gbx1ynveimd56whtahj3/invariance.png?rlkey=v5ne85wbcz9hxlpeb90isxrys&st=b8w2muv2&dl=1\" style=\"width: 800px;\"/>\n",
    "\n",
    "**Figure 2**: an example of a GNN that is **not** permutation invariant."
   ]
  },
  {
   "cell_type": "markdown",
   "metadata": {
    "id": "rYbNDOiYfBN1"
   },
   "source": [
    "### A blueprint for permutation-invariant GNNs\n",
    "The central idea behind GNNs is to combine element-wise (permutation-equivariant) functions that operate in a node-wise manner with a permutation-invariant function that aggregates information from the neighborhood of each node.\n",
    "\n",
    "<img src=\"https://www.dropbox.com/scl/fi/ozz2av8lcbcdbyef6u4dg/gnn_conceptual.png?rlkey=4q5ncwu9xinxgcjwazly5lu0u&st=mwc72qv2&dl=1\" style=\"width: 800px;\"/>\n",
    "\n",
    "**Figure 3**: a conceptual overview of a GNN, where each layer operates in a node-wise manner and aggregates information from the neighborhood of each node."
   ]
  },
  {
   "cell_type": "markdown",
   "metadata": {
    "id": "LRFGR7l6fBN1"
   },
   "source": [
    "One framework that expresses this mathematically is the following blueprint for message-passing GNNs ([Gilmer et al., 2017](http://proceedings.mlr.press/v70/gilmer17a/gilmer17a.pdf)):\n",
    "\n",
    "$$\n",
    "    \\mathbf h^{(l+1)}_i =\n",
    "    \\phi\\left(\n",
    "    \\mathbf h^{(l)}_i,\n",
    "    \\bigoplus_{j \\in \\mathcal N(i)}\n",
    "    \\psi\\left(\\mathbf h^{(l)}_j, \\mathbf e_{ij}\\right)\n",
    "    \\right)\n",
    "$$\n",
    "\n",
    "where\n",
    "- $\\mathbf h^{(0)}_i = l_V(i)$ is the initial node embedding of node $i$ (i.e. the node feature vector)\n",
    "- $\\mathbf e_{ij} = l_E(i,j)$ is the edge feature vector between nodes $i$ and $j$\n",
    "- $\\mathbf h^{(l)}_i \\in \\mathbb R^d$ is the node embedding of node $i$ after layer $l > 0$\n",
    "- $\\mathcal N(i)$ is the neighborhood of node $i$\n",
    "- $\\psi$ is a node-wise *message* function with learnable parameters (a neural network)\n",
    "- $\\bigoplus$ is a permutation-invariant *aggregate* function that combines the messages from the neighborhood, e.g. via summation\n",
    "- $\\phi$ is a node-wise *update* function that combines the previous node embedding with the aggregated messages"
   ]
  },
  {
   "cell_type": "markdown",
   "metadata": {
    "id": "Pyf4cXeofBN2"
   },
   "source": [
    "Stacking $L$ such layers results in node embeddings $\\mathbf h^{(L)}$ that are permutation-equivariant.\n",
    "These then can then be used for various downstream tasks, e.g. node classification, graph classification, or regression.\n",
    "\n",
    "We will focus on graph-level regression for the remainder of this talktorial.\n",
    "\n",
    "To make a permutation-invariant prediction for the entire graph, we can use a readout function that aggregates the node embeddings of the graph. A simple choice is to use the sum of the node embeddings and apply an small multi-layer perceptron (MLP) to make the final prediction, i.e.,\n",
    "\n",
    "$$\n",
    "    \\hat y = \\text{MLP}\\left(\\sum_{i=1}^n \\mathbf h^{(L)}_i\\right)\n",
    "$$"
   ]
  },
  {
   "cell_type": "markdown",
   "metadata": {
    "id": "rH1p9StCfBN2"
   },
   "source": [
    "<div class=\"alert alert-block alert-info\">\n",
    "    \n",
    "<b>A note on detail</b>: the level of detail and thoroughness of the theoretical parts in this *template talktorial* is not necessarily indicative of the level of detail and thoroughness that should be present in your talktorial.\n",
    "\n",
    "The larger level of detail of the practical aspects is due to the fact that these are likely novel and thus might be to be more useful to you in the preparation of your own talktorials.\n",
    "\n",
    "</div>"
   ]
  },
  {
   "cell_type": "markdown",
   "metadata": {
    "id": "q51gORzAfBN2"
   },
   "source": [
    "### Our first GNN\n",
    "\n",
    "**NOTE 1**: Please do check out the excellent [PyTorch Geometric documentation](https://pytorch-geometric.readthedocs.io/en/latest/tutorial/create_gnn.html) for a more principled and streamlined approach to implementing more general message passing neural networks.\n",
    "\n",
    "**NOTE 2**: unless it is instructive (as is the case here) you do not need to implement your own GNNs from scratch. PyTorch Geometric provides a wide range of pre-implemented GNNs that you may use out of the box in some of the topics.\n",
    "\n",
    "\n",
    "Here we implement a simple message-passing GNN that instantiates the frame above directly using the PyTorch Geometric [scatter](https://pytorch-scatter.readthedocs.io/en/latest/functions/scatter.html) operation to shed some light on what is happening under the hood.\n"
   ]
  },
  {
   "cell_type": "markdown",
   "metadata": {
    "id": "q7nJ3a3NfBN2"
   },
   "source": [
    "The messages will be computed as\n",
    "$$\n",
    "    \\mathbf m_{ij} = \\psi\\left(\\mathbf h^{(l)}_i, \\mathbf e_{ij}\\right) = \\tau\\left(\\mathbf W(\\mathbf e_{ij}) \\mathbf h^{(l)}_j + \\mathbf b(\\mathbf e_{ij})\\right)\n",
    "$$\n",
    "\n",
    "where $\\tau$ is a non-linear activation function and $\\mathbf W(\\mathbf e_{ij}) \\in \\mathbb R^{d \\times d}$ and $\\mathbf b(\\mathbf e_{ij}) \\in \\mathbb R^d$ are the results of linearly transforming edge features $\\mathbf e_{ij}$."
   ]
  },
  {
   "cell_type": "code",
   "execution_count": 14,
   "metadata": {
    "id": "wTK_iZ5mfBN2"
   },
   "outputs": [],
   "source": [
    "class MessageModule(nn.Module):\n",
    "\n",
    "    def __init__(self, hidden_dim: int, edge_size: int):\n",
    "        \"\"\"\n",
    "        A message module that instantiates the function psi(..) that computes messages from the nodes.\n",
    "\n",
    "        Args:\n",
    "            hidden_dim (int): The number of hidden units.\n",
    "        \"\"\"\n",
    "        super().__init__()\n",
    "        self.hidden_dim = hidden_dim\n",
    "        self.lin_edge = nn.Linear(edge_size, hidden_dim * (hidden_dim + 1), bias=False)\n",
    "\n",
    "    def forward(self, x_j: torch.Tensor, edge_attr: torch.Tensor) -> torch.Tensor:\n",
    "        \"\"\"\n",
    "        Compute based on neighboring nodes and connecting edge features.\n",
    "\n",
    "        Args:\n",
    "            x (torch.Tensor): The node features of neighboring nodes, shape (num_edges, hidden_dim,).\n",
    "            edge_attr (torch.Tensor): The edge features, shape (num_edges, num_edge_features,).\n",
    "\n",
    "        Returns:\n",
    "            torch.Tensor: The messages, shape (num_edges, hidden_dim,).\n",
    "        \"\"\"\n",
    "        b, W = (\n",
    "            (z := self.lin_edge(edge_attr))[:, : self.hidden_dim],\n",
    "            z[:, self.hidden_dim :].view(-1, self.hidden_dim, self.hidden_dim),\n",
    "        )\n",
    "        # W x_j + b\n",
    "        messages = torch.bmm(x_j.unsqueeze(1), W).squeeze(1) + b\n",
    "        return F.silu(messages)"
   ]
  },
  {
   "cell_type": "markdown",
   "metadata": {
    "id": "z7885iIhfBN2"
   },
   "source": [
    "Updated node embeddings are obtained from the concatenation of the previous node embeddings and the aggregated messages, i.e.,\n",
    "\\begin{align*}\n",
    "\\mathbf m_i &= \\sum_{j \\in \\mathcal N(i)} \\mathbf m_{ij} \\\\\n",
    "\\phi\\left(\\mathbf h^{(l)}_i, \\mathbf m_i\\right) &= \\tau\\left(\\mathbf W' \\mathbf [\\mathbf h^{(l)}_i, \\mathbf m_i] + \\mathbf b'\\right)\n",
    "\\end{align*}\n"
   ]
  },
  {
   "cell_type": "code",
   "execution_count": 15,
   "metadata": {
    "id": "mdEXKd18fBN2"
   },
   "outputs": [],
   "source": [
    "class UpdateModule(nn.Module):\n",
    "\n",
    "    def __init__(self, hidden_dim: int):\n",
    "        \"\"\"\n",
    "        An update module that instantiates the function phi(...) that updates the node features given aggregated messages and previous node features.\n",
    "\n",
    "        Args:\n",
    "            hidden_dim (int): The number of hidden units.\n",
    "        \"\"\"\n",
    "        super().__init__()\n",
    "        self.lin = nn.Linear(hidden_dim * 2, hidden_dim)\n",
    "\n",
    "    def forward(self, x: torch.Tensor, aggregated_messages: torch.Tensor):\n",
    "        \"\"\"\n",
    "        Update the node features given aggregated messages and previous node features.\n",
    "\n",
    "        Args:\n",
    "            x (torch.Tensor): The previous node features, shape (num_nodes, hidden_dim,).\n",
    "            aggregated_messages (torch.Tensor): The aggregated messages, shape (num_nodes, hidden_dim,).\n",
    "\n",
    "        Returns:\n",
    "            torch.Tensor: The updated node features, shape (num_nodes, hidden_dim,).\n",
    "        \"\"\"\n",
    "        return F.silu(self.lin(torch.cat([x, aggregated_messages], dim=-1)))"
   ]
  },
  {
   "cell_type": "markdown",
   "metadata": {
    "id": "KmTuQvsMfBN2"
   },
   "source": [
    "Next, we put the two toggether in a class that represents one layer of our GNN."
   ]
  },
  {
   "cell_type": "code",
   "execution_count": 16,
   "metadata": {
    "id": "MEWQFF3_fBN2"
   },
   "outputs": [],
   "source": [
    "class MessagePassingLayer(nn.Module):\n",
    "\n",
    "    def __init__(\n",
    "        self,\n",
    "        hidden_dim: int,\n",
    "        edge_size: int,\n",
    "        aggregation: str = \"sum\",\n",
    "    ):\n",
    "        \"\"\"\n",
    "        A message passing layer that combines the message and update modules.\n",
    "\n",
    "        Args:\n",
    "            hidden_dim (int): Node embedding dimensionality.\n",
    "            edge_size (int): Edge feature dimensionality.\n",
    "            aggregation (str, optional): identifies a permutation-invariant aggregation scheme. Defaults to \"sum\".\n",
    "        \"\"\"\n",
    "        super().__init__()\n",
    "        self.message_module = MessageModule(hidden_dim, edge_size)\n",
    "        self.update_module = UpdateModule(hidden_dim)\n",
    "        self.aggregation = aggregation\n",
    "\n",
    "    def forward(\n",
    "        self, x: torch.Tensor, edge_index: torch.Tensor, edge_attr: torch.Tensor\n",
    "    ) -> torch.Tensor:\n",
    "        \"\"\"\n",
    "        Do one step of message passing and return the updated node features.\n",
    "\n",
    "        Args:\n",
    "            x (torch.Tensor): The node features, shape (num_nodes, num_node_features,).\n",
    "            edge_index (torch.Tensor): The edge index, shape (2, num_edges).\n",
    "\n",
    "        Returns:\n",
    "            torch.Tensor: The updated node features.\n",
    "        \"\"\"\n",
    "        source, target = edge_index\n",
    "        messages = self.message_module(x[source], edge_attr)\n",
    "        aggregated_messages = scatter(\n",
    "            messages,\n",
    "            target,\n",
    "            reduce=self.aggregation,\n",
    "            dim=0,\n",
    "            dim_size=x.size(0),\n",
    "        )\n",
    "        return self.update_module(x, aggregated_messages)"
   ]
  },
  {
   "cell_type": "markdown",
   "metadata": {
    "id": "9xW7mH0EfBN3"
   },
   "source": [
    "Finally, we stack multiple such layers and a readout module to form a complete GNN that can be used for discriminative graph-level tasks."
   ]
  },
  {
   "cell_type": "code",
   "execution_count": 17,
   "metadata": {
    "id": "HFrDDCkJfBN3"
   },
   "outputs": [],
   "source": [
    "class DiscriminativeGNN(nn.Module):\n",
    "\n",
    "    def __init__(\n",
    "        self,\n",
    "        node_size: int,\n",
    "        edge_size: int,\n",
    "        hidden_dim: int,\n",
    "        num_layers: int,\n",
    "        output_dim: int = 1,\n",
    "        aggregation: str = \"sum\",\n",
    "    ):\n",
    "        \"\"\"\n",
    "        Initialize a discriminative graph neural network.\n",
    "\n",
    "        Args:\n",
    "            input_dim (int): The number of input features per node.\n",
    "            hidden_dim (int): The number of hidden units.\n",
    "            num_layers (int): The number of layers in the network.\n",
    "            output_dim (int): The number of output features. Defaults to 1.\n",
    "            aggregation (str, optional): The kind of aggregation scheme to use. Defaults to \"sum\".\n",
    "        \"\"\"\n",
    "        super().__init__()\n",
    "        self.lin_node = nn.Linear(node_size, hidden_dim, bias=False)\n",
    "        self.layers = nn.ModuleList()\n",
    "        for _ in range(num_layers):\n",
    "            self.layers.append(MessagePassingLayer(hidden_dim, edge_size, aggregation))\n",
    "        # graph-level readout\n",
    "        self.readout = nn.Sequential(\n",
    "            *[\n",
    "                nn.Linear(hidden_dim, hidden_dim // 2),\n",
    "                nn.SiLU(),\n",
    "                nn.Linear(hidden_dim // 2, output_dim),\n",
    "            ]\n",
    "        )\n",
    "\n",
    "    def forward(\n",
    "        self,\n",
    "        x: torch.Tensor,\n",
    "        edge_index: torch.Tensor,\n",
    "        edge_attr: torch.Tensor,\n",
    "        batch: torch.Tensor | None = None,\n",
    "    ) -> torch.Tensor:\n",
    "        \"\"\"\n",
    "        Compute the output of the graph neural network.\n",
    "\n",
    "        Args:\n",
    "            x (torch.Tensor): The node features, shape (num_nodes, num_node_features,).\n",
    "            edge_index (torch.Tensor): The edge index, shape (2, num_edges).\n",
    "            batch (torch.Tensor, optional): The batch vector, shape (num_nodes,). Defaults to None\n",
    "\n",
    "        Returns:\n",
    "            torch.Tensor: The output of the graph neural network.\n",
    "        \"\"\"\n",
    "        x = self.lin_node(x)\n",
    "        for layer in self.layers:\n",
    "            x = layer(x, edge_index, edge_attr)\n",
    "        x = global_add_pool(x, batch)\n",
    "        return self.readout(x)"
   ]
  },
  {
   "cell_type": "code",
   "execution_count": 18,
   "metadata": {
    "colab": {
     "base_uri": "https://localhost:8080/"
    },
    "id": "VD7-hAd7fBN3",
    "outputId": "841140fb-8d2b-4622-e388-55f7212ae85e"
   },
   "outputs": [
    {
     "data": {
      "text/plain": [
       "tensor([[-0.0512],\n",
       "        [-0.0463]], grad_fn=<AddmmBackward0>)"
      ]
     },
     "execution_count": 18,
     "metadata": {},
     "output_type": "execute_result"
    }
   ],
   "source": [
    "gnn = DiscriminativeGNN(batch.x.size(1), batch.edge_attr.size(1), 32, 2)\n",
    "loader = DataLoader([aspirin_data, ethanol_data], batch_size=2)\n",
    "batch = next(iter(loader))\n",
    "gnn(batch.x, batch.edge_index, batch.edge_attr, batch.batch)"
   ]
  },
  {
   "cell_type": "markdown",
   "metadata": {
    "id": "rVvqHSMDfBN3"
   },
   "source": [
    "### Creating a toy dataset\n",
    "ZINC250k is a dataset of 250k drug-like molecules that is commonly used as a benchmark in the molecular machine learning community.\n",
    "We will use a small subset of this dataset for our toy example."
   ]
  },
  {
   "cell_type": "markdown",
   "metadata": {
    "id": "LvhjFpJVfBN3"
   },
   "source": [
    "<div class=\"alert alert-block alert-info\">\n",
    "    \n",
    "<b>Data files</b>:\n",
    "if you need to load data files, please download these files on demand from your notebook instead of including them directly.\n",
    "This also ensures self-containedness of the notebook.\n",
    "\n",
    "</div>"
   ]
  },
  {
   "cell_type": "code",
   "execution_count": 19,
   "metadata": {
    "colab": {
     "base_uri": "https://localhost:8080/",
     "height": 225
    },
    "id": "oYDQOq_jfBN3",
    "outputId": "cb4cc633-137c-4c07-d731-5ee45ae8cea2"
   },
   "outputs": [
    {
     "name": "stderr",
     "output_type": "stream",
     "text": [
      "Using existing file 250k_rndm_zinc_drugs_clean_3.csv\n"
     ]
    },
    {
     "data": {
      "text/html": [
       "<div>\n",
       "<style scoped>\n",
       "    .dataframe tbody tr th:only-of-type {\n",
       "        vertical-align: middle;\n",
       "    }\n",
       "\n",
       "    .dataframe tbody tr th {\n",
       "        vertical-align: top;\n",
       "    }\n",
       "\n",
       "    .dataframe thead th {\n",
       "        text-align: right;\n",
       "    }\n",
       "</style>\n",
       "<table border=\"1\" class=\"dataframe\">\n",
       "  <thead>\n",
       "    <tr style=\"text-align: right;\">\n",
       "      <th></th>\n",
       "      <th>smiles</th>\n",
       "      <th>logP</th>\n",
       "      <th>qed</th>\n",
       "      <th>SAS</th>\n",
       "    </tr>\n",
       "  </thead>\n",
       "  <tbody>\n",
       "    <tr>\n",
       "      <th>100329</th>\n",
       "      <td>C[NH+]1CCC(NC(=O)[C@H]2CCN(c3ccc(Cl)c(Cl)c3)C2...</td>\n",
       "      <td>1.13960</td>\n",
       "      <td>0.793487</td>\n",
       "      <td>3.843395</td>\n",
       "    </tr>\n",
       "    <tr>\n",
       "      <th>12103</th>\n",
       "      <td>C[C@H]1C[C@H]1C(=O)N1CCN(C(=O)NCC(C)(C)[NH+]2C...</td>\n",
       "      <td>0.34360</td>\n",
       "      <td>0.784932</td>\n",
       "      <td>4.232355</td>\n",
       "    </tr>\n",
       "    <tr>\n",
       "      <th>170922</th>\n",
       "      <td>Cc1ccc([C@@H]2CSCCN2Cc2cc3cnn(C(C)C)c3nc2Cl)o1\\n</td>\n",
       "      <td>4.85712</td>\n",
       "      <td>0.569373</td>\n",
       "      <td>3.463493</td>\n",
       "    </tr>\n",
       "    <tr>\n",
       "      <th>106167</th>\n",
       "      <td>C=CCc1ccccc1OC(C)=O\\n</td>\n",
       "      <td>2.34040</td>\n",
       "      <td>0.401613</td>\n",
       "      <td>1.943724</td>\n",
       "    </tr>\n",
       "    <tr>\n",
       "      <th>33917</th>\n",
       "      <td>C[C@@H](c1nccs1)N(C)C(=O)c1cccc(NC(=O)C2CCCC2)...</td>\n",
       "      <td>4.10500</td>\n",
       "      <td>0.843003</td>\n",
       "      <td>2.639230</td>\n",
       "    </tr>\n",
       "  </tbody>\n",
       "</table>\n",
       "</div>"
      ],
      "text/plain": [
       "                                                   smiles     logP       qed  \\\n",
       "100329  C[NH+]1CCC(NC(=O)[C@H]2CCN(c3ccc(Cl)c(Cl)c3)C2...  1.13960  0.793487   \n",
       "12103   C[C@H]1C[C@H]1C(=O)N1CCN(C(=O)NCC(C)(C)[NH+]2C...  0.34360  0.784932   \n",
       "170922   Cc1ccc([C@@H]2CSCCN2Cc2cc3cnn(C(C)C)c3nc2Cl)o1\\n  4.85712  0.569373   \n",
       "106167                              C=CCc1ccccc1OC(C)=O\\n  2.34040  0.401613   \n",
       "33917   C[C@@H](c1nccs1)N(C)C(=O)c1cccc(NC(=O)C2CCCC2)...  4.10500  0.843003   \n",
       "\n",
       "             SAS  \n",
       "100329  3.843395  \n",
       "12103   4.232355  \n",
       "170922  3.463493  \n",
       "106167  1.943724  \n",
       "33917   2.639230  "
      ]
     },
     "execution_count": 19,
     "metadata": {},
     "output_type": "execute_result"
    }
   ],
   "source": [
    "ZINC_URL = \"https://www.dropbox.com/scl/fi/n4ucyng9fthlklqlmhvt5/250k_rndm_zinc_drugs_clean_3.csv?rlkey=5i1jt6wz6xn630e21sjrh7u45&st=6j11708a&dl=1\"\n",
    "if not (data_path := Path(\"data\")).exists():\n",
    "    data_path.mkdir()\n",
    "path_to_file = download_url(ZINC_URL, data_path)\n",
    "raw_data = pd.read_csv(path_to_file).sample(5000, random_state=42)\n",
    "raw_data.head()"
   ]
  },
  {
   "cell_type": "markdown",
   "metadata": {
    "id": "RZ0bTzYKfBN3"
   },
   "source": [
    "<div class=\"alert alert-block alert-info\">\n",
    "    \n",
    "<b>Datasets</b>:\n",
    "It's ok to use toy datasets or substes of real datasests for demonstration purposes in your own talktorial.\n",
    "But please make sure to include some context and a rudimentary explanation of the dataset you are using.\n",
    "For some topics you might also want to justify your particular choice of dataset.\n",
    "\n",
    "</div>"
   ]
  },
  {
   "cell_type": "markdown",
   "metadata": {
    "id": "_YBeYvF9fBN3"
   },
   "source": [
    "The ZINC data used here reports on three properties of drug-like molecules, namely the\n",
    "- experimental octanol-water partition coefficient measured in log-units *logP*, a measure of solubility\n",
    "- estimated drug-likeness score *qed*\n",
    "- synthetic accessibility score *SAS*"
   ]
  },
  {
   "cell_type": "code",
   "execution_count": 20,
   "metadata": {
    "colab": {
     "base_uri": "https://localhost:8080/",
     "height": 325
    },
    "id": "DIYyEhv2fBN3",
    "outputId": "89b12690-145e-4daf-c0b5-9d22d7445f86"
   },
   "outputs": [
    {
     "data": {
      "text/plain": [
       "<seaborn.axisgrid.FacetGrid at 0x15e8f7d10>"
      ]
     },
     "execution_count": 20,
     "metadata": {},
     "output_type": "execute_result"
    },
    {
     "data": {
      "image/png": "[encoded data removed]",
      "text/plain": [
       "<Figure size 679.625x300 with 1 Axes>"
      ]
     },
     "metadata": {},
     "output_type": "display_data"
    }
   ],
   "source": [
    "long_data = raw_data.melt(value_vars=[\"logP\", \"qed\", \"SAS\"], var_name=\"property\")\n",
    "sns.displot(\n",
    "    long_data, x=\"value\", hue=\"property\", kind=\"kde\", fill=True, height=3, aspect=2\n",
    ")"
   ]
  },
  {
   "cell_type": "markdown",
   "metadata": {
    "id": "HwWtJtvKfBN3"
   },
   "source": [
    "We convert the smiles strings to `Data` objects using the function we defined earlier in our running example and add the experimental solubility values as target regression labels to obtain our toy dataset as a list of `Data` objects."
   ]
  },
  {
   "cell_type": "code",
   "execution_count": 21,
   "metadata": {
    "colab": {
     "base_uri": "https://localhost:8080/"
    },
    "id": "wLhIYj7gfBN3",
    "outputId": "5885a227-3900-4a03-e675-0b400ec5a33d"
   },
   "outputs": [
    {
     "data": {
      "text/plain": [
       "Data(x=[24, 8], edge_index=[2, 52], edge_attr=[52, 5], y=[1])"
      ]
     },
     "execution_count": 21,
     "metadata": {},
     "output_type": "execute_result"
    }
   ],
   "source": [
    "dataset: list[Data] = []\n",
    "for _, row in raw_data.iterrows():\n",
    "    data = graph_data_from_smiles(row[\"smiles\"])\n",
    "    if data is None:\n",
    "        continue\n",
    "    data.y = torch.tensor([row[\"logP\"]], dtype=torch.float)\n",
    "    dataset.append(data)\n",
    "dataset[0]"
   ]
  },
  {
   "cell_type": "markdown",
   "metadata": {
    "id": "nfLhDN14fBN4"
   },
   "source": [
    "<div class=\"alert alert-block alert-info\">\n",
    "    \n",
    "<b>A note on graph data sets</b>:\n",
    "- PyTorch Geometric provides a wide range of [datasets](https://pytorch-geometric.readthedocs.io/en/latest/modules/datasets.html) that you may also use out of the box if that is convenient for your topic.\n",
    "- If you need to implement your own dataset with more complex data loading logic, please refer to the PyTorch Geometric documentation on how to [create datasets](https://pytorch-geometric.readthedocs.io/en/latest/notes/create_dataset.html).\n",
    "\n",
    "</div>"
   ]
  },
  {
   "cell_type": "markdown",
   "metadata": {
    "id": "puxy6PWjfBN4"
   },
   "source": [
    "### Training our toy GNN to predict solubility\n",
    "\n",
    "Given our toy data and model, we set up a very basic regression training pipeline using the [PyTorch Lighnting](https://lightning.ai/docs/pytorch/stable/) framework."
   ]
  },
  {
   "cell_type": "markdown",
   "metadata": {
    "id": "YWBd6vKQfBN4"
   },
   "source": [
    "We first implement a data module that encapsulates random train-test splits and data loading logic."
   ]
  },
  {
   "cell_type": "code",
   "execution_count": 22,
   "metadata": {
    "id": "mQgUt5cUfBN4"
   },
   "outputs": [],
   "source": [
    "class DataModule(pl.LightningDataModule):\n",
    "\n",
    "    def __init__(self, data_list: list[Data], batch_size: int = 32):\n",
    "        super().__init__()\n",
    "        self.data_list = data_list\n",
    "        self.batch_size = batch_size\n",
    "        perm = torch.randperm(len(self.data_list))\n",
    "        self.train_index = perm[: int(0.8 * len(perm))]\n",
    "        self.val_index = perm[int(0.8 * len(perm)) : int(0.9 * len(perm))]\n",
    "        self.test_index = perm[int(0.9 * len(perm)) :]\n",
    "\n",
    "    def loader(self, split, shuffle=False):\n",
    "        return DataLoader(\n",
    "            [self.data_list[idx] for idx in split],\n",
    "            batch_size=self.batch_size,\n",
    "            shuffle=shuffle,\n",
    "        )\n",
    "\n",
    "    def train_dataloader(self):\n",
    "        return self.loader(self.train_index, shuffle=True)\n",
    "\n",
    "    def val_dataloader(self):\n",
    "        return self.loader(self.val_index)\n",
    "\n",
    "    def test_dataloader(self):\n",
    "        return self.loader(self.test_index)"
   ]
  },
  {
   "cell_type": "markdown",
   "metadata": {
    "id": "Yk0cJw8ZfBN4"
   },
   "source": [
    "Secondly, we implement a wrapper module around our GNN model that adds the training, optimization, testing and logging logic."
   ]
  },
  {
   "cell_type": "code",
   "execution_count": 23,
   "metadata": {
    "id": "JMyd7bosfBN4"
   },
   "outputs": [],
   "source": [
    "class RegressionModule(pl.LightningModule):\n",
    "\n",
    "    def __init__(self, gnn: nn.Module):\n",
    "        super().__init__()\n",
    "        self.gnn = gnn\n",
    "\n",
    "    def forward(\n",
    "        self,\n",
    "        x: torch.Tensor,\n",
    "        edge_index: torch.Tensor,\n",
    "        edge_attr: torch.Tensor,\n",
    "        batch: torch.Tensor | None = None,\n",
    "    ) -> torch.Tensor:\n",
    "        return self.gnn(x, edge_index, edge_attr, batch)\n",
    "\n",
    "    def step(self, batch, log_key: str, progress_bar=True):\n",
    "        y_hat = self(batch.x, batch.edge_index, batch.edge_attr, batch.batch)\n",
    "        y_hat = y_hat.view(batch.y.size())\n",
    "        loss = (y_hat - batch.y).abs().mean()\n",
    "        self.log(\n",
    "            f\"{log_key}/loss\",\n",
    "            loss,\n",
    "            batch_size=batch.y.size(0),\n",
    "            on_epoch=True,\n",
    "            prog_bar=progress_bar,\n",
    "            on_step=False,\n",
    "        )\n",
    "        return loss\n",
    "\n",
    "    def training_step(self, batch, batch_idx):\n",
    "        return self.step(batch, \"train\", progress_bar=False)\n",
    "\n",
    "    def validation_step(self, batch, batch_idx):\n",
    "        return self.step(batch, \"val\", progress_bar=True)\n",
    "\n",
    "    def test_step(self, batch, batch_idx):\n",
    "        return self.step(batch, \"test\", progress_bar=False)\n",
    "\n",
    "    def predict_step(self, batch, batch_idx, dataloader_idx=None):\n",
    "        y_hat = self(batch.x, batch.edge_index, batch.edge_attr, batch.batch).squeeze()\n",
    "        return {\"y_hat\": y_hat, \"y\": batch.y.squeeze()}\n",
    "\n",
    "    def configure_optimizers(self):\n",
    "        return torch.optim.Adam(self.parameters(), lr=1e-4)"
   ]
  },
  {
   "cell_type": "markdown",
   "metadata": {
    "id": "YH5yacSMfBN4"
   },
   "source": [
    "Lastly we add a minimal logger class that logs metrics to a dictionary instead of logging to disk."
   ]
  },
  {
   "cell_type": "code",
   "execution_count": 24,
   "metadata": {
    "id": "Z2axrzslfBN4"
   },
   "outputs": [],
   "source": [
    "class DictLogger(pl.loggers.Logger):\n",
    "\n",
    "    def __init__(self):\n",
    "        super().__init__()\n",
    "        self.data = defaultdict(list)\n",
    "\n",
    "    def log_metrics(self, metrics, step):\n",
    "        for key, value in metrics.items():\n",
    "            self.data[key].append(value)\n",
    "\n",
    "    # abstract methods that we do not need\n",
    "    def log_hyperparams(self, params): ...\n",
    "\n",
    "    @property\n",
    "    def name(self): ...\n",
    "\n",
    "    @property\n",
    "    def version(self): ..."
   ]
  },
  {
   "cell_type": "markdown",
   "metadata": {},
   "source": [
    "Finally, we fit our model to the toy dataset and evaluate its performance on the test set."
   ]
  },
  {
   "cell_type": "code",
   "execution_count": 25,
   "metadata": {
    "colab": {
     "base_uri": "https://localhost:8080/",
     "height": 343,
     "referenced_widgets": [
      "999bbcc41bef48869ea265d65c636880",
      "4aeb007be23e4b5fa39ed80f068869f9",
      "a4a53d9e17aa44ca95c1173adb684aec",
      "7e267abec14a4119b7706ef37a838a6b",
      "85e01770bfaf4244a3089c411153bb8f",
      "9735583d80c9466d9ab5d589a85e33b3",
      "ad123064d54649578118ecbef4548387",
      "af53864c032446b693e631fd0cb9484d",
      "301b7be27788488ab8130bfca2921d5a",
      "e9aa5da2f136403194c36c5bbcdfe0be",
      "5ae01e44589349b093c686893aa817fc",
      "f40e29b0d4c24af0a2bf8a98d90fac25",
      "38abce7cfbda4ff08c20814cfc401704",
      "55220660c9ef4decb430a6ccd5406965",
      "6cbb215ed9da49d9b16a49551caf91e1",
      "130b302776774a0785b501dff4f2cc0f",
      "fc63d706a6134627b58f9977bdc471a2",
      "dee2ff672a88431aa25591462ffe6784",
      "a0baefff772243b7bb500a894752a1a3",
      "adf0854905a042e9be5ad64020541ade",
      "1c315ba2d4ce446e8dd518fcc9ef520a",
      "723c6ccf66e242eb993f4f4a48944386",
      "2b3315e09f5640e5a9912ea34ba08d56",
      "b5d7042653f141df89d1a140b6ac41d0",
      "2c526c7db4b84be3bfdc864b40cbe56a",
      "149d9d8e0ea44ef19ccc92aaac84e775",
      "ef8dc1815fa44771b3dcbd5d2653dc33",
      "60113245ddf54346890fbdd26585c30d",
      "4b27742f05cb40768c8b3fd8729ae70f",
      "be6879a284654b6e87bb3da74910d474",
      "970851078864459eabaee24b8e8b6ebf",
      "7ac0666c390d4d51b7498b855cd51f94",
      "1bf1a45acf514003a91f273f0737aa07",
      "cca8187bd7c449aaa33ec3fbaa9353bf",
      "fd38fed2db2c4c158aa387a77330c474",
      "63af0ee7db414c48a8d52b0d4f4075bf",
      "7b52f8376e444e3ca2057c6d55d8455e",
      "1f879b6a154945599f612ef03cb979c4",
      "e3c581fd727b4b6e8518fa122f046e1f",
      "74fadf498751422bb441dbc44f43e65a",
      "c7e154b66c58409a95749fa0dfc28894",
      "7ba52a77bf6c4cbfb1100bac26995aeb",
      "1bca1c5f9b15443cbea56ec63cda3bd7",
      "89f39e95d19c48869b0f7f5f2c6d2a73",
      "f2c3bff3dd1d4b64b7c62d14ba4276f8",
      "742c6dd693e04bd6bd2f6b2d089dee69",
      "bcde6bf35d2b4e4080a63daf625bdf81",
      "1d294442be7e43e68465059b27871bda",
      "ba155b14fd81406aac134b2dd2abb107",
      "0dc8b33a6b124c0d8bf2b94953982567",
      "8a9621b7ab3d4947876ffbc7f7f0e776",
      "16cdc341b4e14ad3b99fc88f700c4b23",
      "252a29b1b52d499fb7401a9987a366b6",
      "b71eb171dd41408db13ae49bd2f541f0",
      "f6c044b651734567afc55bbd7da86175",
      "ac32a96a10b14af68977229998034e38",
      "21a67c1f4170484b97abc1353e55caee",
      "d526470cc0fb430e879eef36fcff1f21",
      "2cdf14a6caba4856bfe7ab0eff0948cf",
      "f44133af99a64f74a4b1ad7c36f296f9",
      "96c1b5aff6cb4278bb76ac4ca74fe8b1",
      "42e0bd2e544b4f59be27eacd8c2692cf",
      "04de25ef0ae342698247e8408ca97d3e",
      "b805c0ee16b54609a6765f8359c9a0bc",
      "1c9ef4c5b8dc470fa8039f096c83c2f3",
      "a1389025091741c4b55dfa64a2e3651f",
      "5c2653a10f364819920c44d62703aed0",
      "c24286823daa47eabfaba3b358650deb",
      "0ac0f84838634b64863df019fe81b385",
      "3726963c2f4f4e64a9573f55fc96fa8c",
      "6c4feaae4ea14e35839925be89e2d39e",
      "be305523edf04e25b2356bbb32e1f1e8",
      "bea2408404624b2d9357c8bd4af61eb9",
      "d6be3f828e004062929540a4727831cf",
      "891724b908384397941acd51f2af9ef9",
      "e7840d5f6ba343e78482cc31ccf803be",
      "b788b364f86243dd87443433ac878a60",
      "bbe8a0b4aa294219bb64b10cec8aed74",
      "b888d7d82f8e479b8262892c096636c4",
      "a5c01866f02948b1a33e8dae921c3502",
      "2756a6901913420cbc6d0888079f64dc",
      "4db71391f6bb4c0190061856e2e831f7",
      "f80715c45b164874b899d9f81285b152",
      "3f9d69bb96d84bc78f470b69aa3b3d92",
      "47f21d47b1cd4e8a95d99fb18162629f",
      "8b4deee5718d4ee6aed85b032da94791",
      "51f8c042a168450ca805dd13eb464bf4",
      "426047db9d89492c9525dfdb0d8848d8",
      "3119cf079d0842e3b750180bd5365ba5",
      "890445c5b507444da8f79c0939b900c1",
      "252b8138d8fd4fc0a2551079887c0094",
      "dd74125e104542bbab18b9799475e436",
      "bb473e144ffe421eb1ebbc32d3bfecaf",
      "b866a5ef7f4942e7ae92891b27476664",
      "d24e50f3629a4d8194daeaf03ae1d1df",
      "7d820ed5530a45ffb1e097624c5d7d1f",
      "49b3b5f9f13843b7b7419ede3dcbf2ba",
      "f5c98add9f7e4ceea17ed9d9bb227a49",
      "18d0c9368b57404e972582aec1767559",
      "2b8f239d96d149719a9a2114f69c0bf2",
      "2309669f57b54b4f824f347dd16ff710",
      "c09ca9c87a1c441b8743924031547618",
      "1b23ff9bf14444c6a57185e85ce3b791",
      "2bd83314eabb4ed2b008390eb73e9e08",
      "a13a84cb79254c0e85eb41189b178546",
      "cf0d75d4cf31440ea7da290b60a494d5",
      "f2e3c05832ad481cb17a97ef24f15a63",
      "b3cc38b54b7c4eb88088382c7a684718",
      "78c0ac9d274e4169aff9a07c6d6a1ca0",
      "071c60637da744cdbc5df65de93350aa",
      "432bbdfc8e2f48f8ab1cd1dc989e4ba3",
      "fb14f9826831446f9fbf2fe2fe9a9502",
      "4a8b676c5d6a4e72a87990b0e83b35db",
      "d8fa4a19a89446d590a6b2d6c582969d",
      "68beafaf81914ebd8e72111dfba01410",
      "9aba3b00d0554cf1b0a4ec07bf115ec2",
      "ff7f5c590eee4278942cf85946f7c857",
      "588b4a27cf6f44f18c9da5368a16fa1d",
      "93841c45130449e19adc7af7be63bd93",
      "39aa3ec9b98540a99e5368faae54b261",
      "844e29381669488dbfa702eb4dd102fd",
      "2e4be7329e44497cb183d0eb855024ea",
      "e160b994408e48e8a6e5d42a063664d4",
      "36010950dcb546c9b67f6348bff200dc",
      "a2e4721da8624b619d12b3d2d10a9736",
      "cc43ddab097b40b4ba8e98aac6b82229",
      "100c97d3c7a54a9cb44ba70131de2230",
      "92f061433bb540da8b9974093540e055",
      "9bd4e7029df046bcb407f6a35a4f0a25",
      "fbdecc01355e4262aa4b3bbe2b68d368",
      "1ae3e5015beb4105b79bf97ea94f3611",
      "770be2f0c7d4476783faa6472f2ba8b1"
     ]
    },
    "id": "ksmtGi0ffBN4",
    "outputId": "1eb6e150-47b6-40c9-f0bb-cfe1adbb46bd"
   },
   "outputs": [
    {
     "name": "stderr",
     "output_type": "stream",
     "text": [
      "GPU available: True (mps), used: True\n",
      "TPU available: False, using: 0 TPU cores\n",
      "HPU available: False, using: 0 HPUs\n",
      "\n",
      "  | Name | Type              | Params | Mode \n",
      "---------------------------------------------------\n",
      "0 | gnn  | DiscriminativeGNN | 22.9 K | train\n",
      "---------------------------------------------------\n",
      "22.9 K    Trainable params\n",
      "0         Non-trainable params\n",
      "22.9 K    Total params\n",
      "0.092     Total estimated model params size (MB)\n",
      "22        Modules in train mode\n",
      "0         Modules in eval mode\n"
     ]
    },
    {
     "name": "stdout",
     "output_type": "stream",
     "text": [
      "                                                                           "
     ]
    },
    {
     "name": "stderr",
     "output_type": "stream",
     "text": [
      "/Users/joschkagross/projects/hodge-screen/.venv/lib/python3.12/site-packages/pytorch_lightning/trainer/connectors/data_connector.py:424: The 'val_dataloader' does not have many workers which may be a bottleneck. Consider increasing the value of the `num_workers` argument` to `num_workers=11` in the `DataLoader` to improve performance.\n",
      "/Users/joschkagross/projects/hodge-screen/.venv/lib/python3.12/site-packages/pytorch_lightning/trainer/connectors/data_connector.py:424: The 'train_dataloader' does not have many workers which may be a bottleneck. Consider increasing the value of the `num_workers` argument` to `num_workers=11` in the `DataLoader` to improve performance.\n"
     ]
    },
    {
     "name": "stdout",
     "output_type": "stream",
     "text": [
      "Epoch 5:  50%|████▉     | 62/125 [00:01<00:01, 32.92it/s, val/loss=0.859] "
     ]
    }
   ],
   "source": [
    "logger = DictLogger()\n",
    "trainer = pl.Trainer(\n",
    "    max_epochs=10,\n",
    "    accelerator=\"auto\",  # NOTE: some GPUs (especially non-NVIDIA GPUs) might not support scattering\n",
    "    logger=logger,\n",
    "    enable_checkpointing=False,\n",
    ")\n",
    "data_module = DataModule(dataset)\n",
    "gnn = DiscriminativeGNN(batch.x.size(1), batch.edge_attr.size(1), 32, 3)\n",
    "model = RegressionModule(gnn)\n",
    "trainer.fit(model, data_module)"
   ]
  },
  {
   "cell_type": "code",
   "execution_count": 26,
   "metadata": {
    "colab": {
     "base_uri": "https://localhost:8080/",
     "height": 467
    },
    "id": "Qfikmjx6fBN4",
    "outputId": "5899308f-c5fc-4957-eaa9-f683389e659c"
   },
   "outputs": [
    {
     "data": {
      "text/plain": [
       "<Axes: xlabel='epoch', ylabel='loss'>"
      ]
     },
     "execution_count": 26,
     "metadata": {},
     "output_type": "execute_result"
    },
    {
     "data": {
      "image/png": "[encoded data removed]",
      "text/plain": [
       "<Figure size 640x480 with 1 Axes>"
      ]
     },
     "metadata": {},
     "output_type": "display_data"
    }
   ],
   "source": [
    "sns.lineplot(\n",
    "    pd.DataFrame(\n",
    "        {\n",
    "            \"loss\": logger.data[\"train/loss\"] + logger.data[\"val/loss\"],\n",
    "            \"key\": [\"train\"] * 10 + [\"val\"] * 10,\n",
    "            \"epoch\": list(range(10)) * 2,\n",
    "        }\n",
    "    ),\n",
    "    x=\"epoch\",\n",
    "    y=\"loss\",\n",
    "    hue=\"key\",\n",
    ")"
   ]
  },
  {
   "cell_type": "code",
   "execution_count": 27,
   "metadata": {
    "colab": {
     "base_uri": "https://localhost:8080/",
     "height": 168,
     "referenced_widgets": [
      "b85b51023b404dc894654096eaad6392",
      "ab1f3ecc78bc47fe9b5c4f3e3abdec7f",
      "fcf66bf4d9fa4799bba3765b2aa7747c",
      "8a373d48259743eea12d2102bcde6678",
      "b961faac64484ccbb45b5df9699226f1",
      "0e6863574d4e4ddd8ce11b696ba88390",
      "a0438d8fa97e4e69930faf766559f3f6",
      "b5eceab4d74d4c13945e633f598e45b1",
      "c638dbca08ad492daaa548765284e914",
      "e796bc4ba8f74b2683900e2fb59a6a32",
      "5d5c1fedd14347f3bff1c450276f12bd"
     ]
    },
    "id": "2dMRxViBfBN4",
    "outputId": "1266f079-0462-4e10-8d49-0a98ea142540"
   },
   "outputs": [
    {
     "name": "stderr",
     "output_type": "stream",
     "text": [
      "/Users/joschkagross/projects/hodge-screen/.venv/lib/python3.12/site-packages/pytorch_lightning/trainer/connectors/data_connector.py:424: The 'test_dataloader' does not have many workers which may be a bottleneck. Consider increasing the value of the `num_workers` argument` to `num_workers=11` in the `DataLoader` to improve performance.\n"
     ]
    },
    {
     "name": "stdout",
     "output_type": "stream",
     "text": [
      "Testing DataLoader 0: 100%|██████████| 16/16 [00:00<00:00, 59.79it/s]\n",
      "────────────────────────────────────────────────────────────────────────────────────────────────────────────────────────\n",
      "       Test metric             DataLoader 0\n",
      "────────────────────────────────────────────────────────────────────────────────────────────────────────────────────────\n",
      "        test/loss           0.6475538611412048\n",
      "────────────────────────────────────────────────────────────────────────────────────────────────────────────────────────\n"
     ]
    },
    {
     "data": {
      "text/plain": [
       "[{'test/loss': 0.6475538611412048}]"
      ]
     },
     "execution_count": 27,
     "metadata": {},
     "output_type": "execute_result"
    }
   ],
   "source": [
    "trainer.test(model, data_module)"
   ]
  },
  {
   "cell_type": "code",
   "execution_count": 28,
   "metadata": {
    "colab": {
     "base_uri": "https://localhost:8080/",
     "height": 499,
     "referenced_widgets": [
      "ed5ec83fe2914542aedf0d679f31ef8b",
      "4cc9217459e7473d9e0214a3c81c8543",
      "51049d593bff444a9c9b8e339e1972cb",
      "a0d9315de8354b0b9348370f7f81acbf",
      "47365a8b79204198b1a082b6ebc8cf8c",
      "ac8603981b4f4ff780f637efe1a600b9",
      "e37c85fa63ef44249e1c068be93e2189",
      "85a3fd38d4ef41c49761f7ccd3ac47d0",
      "9cd83dd2c4b24a2888d12ec28609c69b",
      "7283e41b78bf4c7cb322f9f37db46be6",
      "e57dd07c219042f688a2bddb72e569d1"
     ]
    },
    "id": "3zQrpz-3fBN4",
    "outputId": "6fc578a8-2d80-4a3d-fc95-79dec962bad4"
   },
   "outputs": [
    {
     "name": "stderr",
     "output_type": "stream",
     "text": [
      "/Users/joschkagross/projects/hodge-screen/.venv/lib/python3.12/site-packages/pytorch_lightning/trainer/connectors/data_connector.py:424: The 'predict_dataloader' does not have many workers which may be a bottleneck. Consider increasing the value of the `num_workers` argument` to `num_workers=11` in the `DataLoader` to improve performance.\n"
     ]
    },
    {
     "name": "stdout",
     "output_type": "stream",
     "text": [
      "Predicting DataLoader 0: 100%|██████████| 16/16 [00:00<00:00, 187.71it/s]\n"
     ]
    },
    {
     "data": {
      "image/png": "[encoded data removed]",
      "text/plain": [
       "<Figure size 640x480 with 1 Axes>"
      ]
     },
     "metadata": {},
     "output_type": "display_data"
    }
   ],
   "source": [
    "predictions = trainer.predict(model, data_module.test_dataloader())\n",
    "y_hat = torch.cat([pred[\"y_hat\"] for pred in predictions]).numpy()\n",
    "y = torch.cat([pred[\"y\"] for pred in predictions]).numpy()\n",
    "ax = sns.scatterplot(x=y, y=y_hat, alpha=0.8)\n",
    "_ = ax.set(xlabel=\"True logP\", ylabel=\"Predicted logP\")"
   ]
  },
  {
   "cell_type": "markdown",
   "metadata": {
    "id": "VLbZ7c1MfBN5"
   },
   "source": [
    "## Discussion"
   ]
  },
  {
   "cell_type": "markdown",
   "metadata": {
    "id": "ciRpo0yRfBN5"
   },
   "source": [
    "<div class=\"alert alert-block alert-info\">\n",
    "    \n",
    "<b>Discussion</b>:\n",
    "Wrap up the talktorial's content here and discuss pros/cons and open questions.\n",
    "Potentially disccus which aspects of the topic were not covered and suggest resources for further reading/learning if apppropriate.\n",
    "\n",
    "</div>"
   ]
  },
  {
   "cell_type": "markdown",
   "metadata": {
    "id": "xBzkQj5nfBN5"
   },
   "source": [
    "## Quiz\n",
    "1. What is the meaning of the output `Data(edge_index=[2, 6], x=[6, 3])`?\n",
    "2. What are the main differences between the sparse and dense tensor representations of graphs?\n",
    "3. How could you implement code that verifies the permutation invariance of the `DiscriminativeGNN` class?"
   ]
  },
  {
   "cell_type": "markdown",
   "metadata": {
    "id": "ND10Wb7jfBN5"
   },
   "source": [
    "<div class=\"alert alert-block alert-info\">\n",
    "    \n",
    "<b>Quiz</b>:\n",
    "Ask *at least three questions* that the user should be able to answer after doing this talktorial. Choose important take-aways from this talktorial for your questions.\n",
    "</div>"
   ]
  },
  {
   "cell_type": "markdown",
   "metadata": {
    "id": "XapoFXmPfBN5"
   },
   "source": [
    "<div class=\"alert alert-block alert-info\">\n",
    "\n",
    "<b>Useful checks at the end</b>:\n",
    "    \n",
    "<ul>\n",
    "<li>Clear output and rerun your complete notebook. Does it finish without errors?</li>\n",
    "<li>If you need to use Google colab for compute, do the same there.</li>\n",
    "<li>Check if your talktorial's runtime is as excepted. If not, try to find out which step(s) take unexpectedly long.</li>\n",
    "<li>Rerun the black formatter on all cells.</li>\n",
    "</ul>\n",
    "\n",
    "</div>"
   ]
  }
 ],
 "metadata": {
  "accelerator": "GPU",
  "colab": {
   "gpuType": "T4",
   "provenance": []
  },
  "kernelspec": {
   "display_name": "talktorial",
   "language": "python",
   "name": "python3"
  },
  "language_info": {
   "codemirror_mode": {
    "name": "ipython",
    "version": 3
   },
   "file_extension": ".py",
   "mimetype": "text/x-python",
   "name": "python",
   "nbconvert_exporter": "python",
   "pygments_lexer": "ipython3",
   "version": "3.11.5"
  },
  "widgets": {
   "application/vnd.jupyter.widget-state+json": {
    "04de25ef0ae342698247e8408ca97d3e": {
     "model_module": "@jupyter-widgets/base",
     "model_module_version": "1.2.0",
     "model_name": "LayoutModel",
     "state": {
      "_model_module": "@jupyter-widgets/base",
      "_model_module_version": "1.2.0",
      "_model_name": "LayoutModel",
      "_view_count": null,
      "_view_module": "@jupyter-widgets/base",
      "_view_module_version": "1.2.0",
      "_view_name": "LayoutView",
      "align_content": null,
      "align_items": null,
      "align_self": null,
      "border": null,
      "bottom": null,
      "display": null,
      "flex": "2",
      "flex_flow": null,
      "grid_area": null,
      "grid_auto_columns": null,
      "grid_auto_flow": null,
      "grid_auto_rows": null,
      "grid_column": null,
      "grid_gap": null,
      "grid_row": null,
      "grid_template_areas": null,
      "grid_template_columns": null,
      "grid_template_rows": null,
      "height": null,
      "justify_content": null,
      "justify_items": null,
      "left": null,
      "margin": null,
      "max_height": null,
      "max_width": null,
      "min_height": null,
      "min_width": null,
      "object_fit": null,
      "object_position": null,
      "order": null,
      "overflow": null,
      "overflow_x": null,
      "overflow_y": null,
      "padding": null,
      "right": null,
      "top": null,
      "visibility": null,
      "width": null
     }
    },
    "071c60637da744cdbc5df65de93350aa": {
     "model_module": "@jupyter-widgets/controls",
     "model_module_version": "1.5.0",
     "model_name": "DescriptionStyleModel",
     "state": {
      "_model_module": "@jupyter-widgets/controls",
      "_model_module_version": "1.5.0",
      "_model_name": "DescriptionStyleModel",
      "_view_count": null,
      "_view_module": "@jupyter-widgets/base",
      "_view_module_version": "1.2.0",
      "_view_name": "StyleView",
      "description_width": ""
     }
    },
    "0ac0f84838634b64863df019fe81b385": {
     "model_module": "@jupyter-widgets/controls",
     "model_module_version": "1.5.0",
     "model_name": "FloatProgressModel",
     "state": {
      "_dom_classes": [],
      "_model_module": "@jupyter-widgets/controls",
      "_model_module_version": "1.5.0",
      "_model_name": "FloatProgressModel",
      "_view_count": null,
      "_view_module": "@jupyter-widgets/controls",
      "_view_module_version": "1.5.0",
      "_view_name": "ProgressView",
      "bar_style": "",
      "description": "",
      "description_tooltip": null,
      "layout": "IPY_MODEL_d6be3f828e004062929540a4727831cf",
      "max": 16,
      "min": 0,
      "orientation": "horizontal",
      "style": "IPY_MODEL_891724b908384397941acd51f2af9ef9",
      "value": 16
     }
    },
    "0dc8b33a6b124c0d8bf2b94953982567": {
     "model_module": "@jupyter-widgets/base",
     "model_module_version": "1.2.0",
     "model_name": "LayoutModel",
     "state": {
      "_model_module": "@jupyter-widgets/base",
      "_model_module_version": "1.2.0",
      "_model_name": "LayoutModel",
      "_view_count": null,
      "_view_module": "@jupyter-widgets/base",
      "_view_module_version": "1.2.0",
      "_view_name": "LayoutView",
      "align_content": null,
      "align_items": null,
      "align_self": null,
      "border": null,
      "bottom": null,
      "display": null,
      "flex": null,
      "flex_flow": null,
      "grid_area": null,
      "grid_auto_columns": null,
      "grid_auto_flow": null,
      "grid_auto_rows": null,
      "grid_column": null,
      "grid_gap": null,
      "grid_row": null,
      "grid_template_areas": null,
      "grid_template_columns": null,
      "grid_template_rows": null,
      "height": null,
      "justify_content": null,
      "justify_items": null,
      "left": null,
      "margin": null,
      "max_height": null,
      "max_width": null,
      "min_height": null,
      "min_width": null,
      "object_fit": null,
      "object_position": null,
      "order": null,
      "overflow": null,
      "overflow_x": null,
      "overflow_y": null,
      "padding": null,
      "right": null,
      "top": null,
      "visibility": null,
      "width": null
     }
    },
    "0e6863574d4e4ddd8ce11b696ba88390": {
     "model_module": "@jupyter-widgets/base",
     "model_module_version": "1.2.0",
     "model_name": "LayoutModel",
     "state": {
      "_model_module": "@jupyter-widgets/base",
      "_model_module_version": "1.2.0",
      "_model_name": "LayoutModel",
      "_view_count": null,
      "_view_module": "@jupyter-widgets/base",
      "_view_module_version": "1.2.0",
      "_view_name": "LayoutView",
      "align_content": null,
      "align_items": null,
      "align_self": null,
      "border": null,
      "bottom": null,
      "display": null,
      "flex": null,
      "flex_flow": null,
      "grid_area": null,
      "grid_auto_columns": null,
      "grid_auto_flow": null,
      "grid_auto_rows": null,
      "grid_column": null,
      "grid_gap": null,
      "grid_row": null,
      "grid_template_areas": null,
      "grid_template_columns": null,
      "grid_template_rows": null,
      "height": null,
      "justify_content": null,
      "justify_items": null,
      "left": null,
      "margin": null,
      "max_height": null,
      "max_width": null,
      "min_height": null,
      "min_width": null,
      "object_fit": null,
      "object_position": null,
      "order": null,
      "overflow": null,
      "overflow_x": null,
      "overflow_y": null,
      "padding": null,
      "right": null,
      "top": null,
      "visibility": null,
      "width": null
     }
    },
    "100c97d3c7a54a9cb44ba70131de2230": {
     "model_module": "@jupyter-widgets/base",
     "model_module_version": "1.2.0",
     "model_name": "LayoutModel",
     "state": {
      "_model_module": "@jupyter-widgets/base",
      "_model_module_version": "1.2.0",
      "_model_name": "LayoutModel",
      "_view_count": null,
      "_view_module": "@jupyter-widgets/base",
      "_view_module_version": "1.2.0",
      "_view_name": "LayoutView",
      "align_content": null,
      "align_items": null,
      "align_self": null,
      "border": null,
      "bottom": null,
      "display": null,
      "flex": null,
      "flex_flow": null,
      "grid_area": null,
      "grid_auto_columns": null,
      "grid_auto_flow": null,
      "grid_auto_rows": null,
      "grid_column": null,
      "grid_gap": null,
      "grid_row": null,
      "grid_template_areas": null,
      "grid_template_columns": null,
      "grid_template_rows": null,
      "height": null,
      "justify_content": null,
      "justify_items": null,
      "left": null,
      "margin": null,
      "max_height": null,
      "max_width": null,
      "min_height": null,
      "min_width": null,
      "object_fit": null,
      "object_position": null,
      "order": null,
      "overflow": null,
      "overflow_x": null,
      "overflow_y": null,
      "padding": null,
      "right": null,
      "top": null,
      "visibility": null,
      "width": null
     }
    },
    "130b302776774a0785b501dff4f2cc0f": {
     "model_module": "@jupyter-widgets/base",
     "model_module_version": "1.2.0",
     "model_name": "LayoutModel",
     "state": {
      "_model_module": "@jupyter-widgets/base",
      "_model_module_version": "1.2.0",
      "_model_name": "LayoutModel",
      "_view_count": null,
      "_view_module": "@jupyter-widgets/base",
      "_view_module_version": "1.2.0",
      "_view_name": "LayoutView",
      "align_content": null,
      "align_items": null,
      "align_self": null,
      "border": null,
      "bottom": null,
      "display": "inline-flex",
      "flex": null,
      "flex_flow": "row wrap",
      "grid_area": null,
      "grid_auto_columns": null,
      "grid_auto_flow": null,
      "grid_auto_rows": null,
      "grid_column": null,
      "grid_gap": null,
      "grid_row": null,
      "grid_template_areas": null,
      "grid_template_columns": null,
      "grid_template_rows": null,
      "height": null,
      "justify_content": null,
      "justify_items": null,
      "left": null,
      "margin": null,
      "max_height": null,
      "max_width": null,
      "min_height": null,
      "min_width": null,
      "object_fit": null,
      "object_position": null,
      "order": null,
      "overflow": null,
      "overflow_x": null,
      "overflow_y": null,
      "padding": null,
      "right": null,
      "top": null,
      "visibility": null,
      "width": "100%"
     }
    },
    "149d9d8e0ea44ef19ccc92aaac84e775": {
     "model_module": "@jupyter-widgets/controls",
     "model_module_version": "1.5.0",
     "model_name": "HTMLModel",
     "state": {
      "_dom_classes": [],
      "_model_module": "@jupyter-widgets/controls",
      "_model_module_version": "1.5.0",
      "_model_name": "HTMLModel",
      "_view_count": null,
      "_view_module": "@jupyter-widgets/controls",
      "_view_module_version": "1.5.0",
      "_view_name": "HTMLView",
      "description": "",
      "description_tooltip": null,
      "layout": "IPY_MODEL_7ac0666c390d4d51b7498b855cd51f94",
      "placeholder": "​",
      "style": "IPY_MODEL_1bf1a45acf514003a91f273f0737aa07",
      "value": " 16/16 [00:00&lt;00:00, 169.44it/s]"
     }
    },
    "16cdc341b4e14ad3b99fc88f700c4b23": {
     "model_module": "@jupyter-widgets/base",
     "model_module_version": "1.2.0",
     "model_name": "LayoutModel",
     "state": {
      "_model_module": "@jupyter-widgets/base",
      "_model_module_version": "1.2.0",
      "_model_name": "LayoutModel",
      "_view_count": null,
      "_view_module": "@jupyter-widgets/base",
      "_view_module_version": "1.2.0",
      "_view_name": "LayoutView",
      "align_content": null,
      "align_items": null,
      "align_self": null,
      "border": null,
      "bottom": null,
      "display": null,
      "flex": "2",
      "flex_flow": null,
      "grid_area": null,
      "grid_auto_columns": null,
      "grid_auto_flow": null,
      "grid_auto_rows": null,
      "grid_column": null,
      "grid_gap": null,
      "grid_row": null,
      "grid_template_areas": null,
      "grid_template_columns": null,
      "grid_template_rows": null,
      "height": null,
      "justify_content": null,
      "justify_items": null,
      "left": null,
      "margin": null,
      "max_height": null,
      "max_width": null,
      "min_height": null,
      "min_width": null,
      "object_fit": null,
      "object_position": null,
      "order": null,
      "overflow": null,
      "overflow_x": null,
      "overflow_y": null,
      "padding": null,
      "right": null,
      "top": null,
      "visibility": null,
      "width": null
     }
    },
    "18d0c9368b57404e972582aec1767559": {
     "model_module": "@jupyter-widgets/controls",
     "model_module_version": "1.5.0",
     "model_name": "DescriptionStyleModel",
     "state": {
      "_model_module": "@jupyter-widgets/controls",
      "_model_module_version": "1.5.0",
      "_model_name": "DescriptionStyleModel",
      "_view_count": null,
      "_view_module": "@jupyter-widgets/base",
      "_view_module_version": "1.2.0",
      "_view_name": "StyleView",
      "description_width": ""
     }
    },
    "1ae3e5015beb4105b79bf97ea94f3611": {
     "model_module": "@jupyter-widgets/base",
     "model_module_version": "1.2.0",
     "model_name": "LayoutModel",
     "state": {
      "_model_module": "@jupyter-widgets/base",
      "_model_module_version": "1.2.0",
      "_model_name": "LayoutModel",
      "_view_count": null,
      "_view_module": "@jupyter-widgets/base",
      "_view_module_version": "1.2.0",
      "_view_name": "LayoutView",
      "align_content": null,
      "align_items": null,
      "align_self": null,
      "border": null,
      "bottom": null,
      "display": null,
      "flex": null,
      "flex_flow": null,
      "grid_area": null,
      "grid_auto_columns": null,
      "grid_auto_flow": null,
      "grid_auto_rows": null,
      "grid_column": null,
      "grid_gap": null,
      "grid_row": null,
      "grid_template_areas": null,
      "grid_template_columns": null,
      "grid_template_rows": null,
      "height": null,
      "justify_content": null,
      "justify_items": null,
      "left": null,
      "margin": null,
      "max_height": null,
      "max_width": null,
      "min_height": null,
      "min_width": null,
      "object_fit": null,
      "object_position": null,
      "order": null,
      "overflow": null,
      "overflow_x": null,
      "overflow_y": null,
      "padding": null,
      "right": null,
      "top": null,
      "visibility": null,
      "width": null
     }
    },
    "1b23ff9bf14444c6a57185e85ce3b791": {
     "model_module": "@jupyter-widgets/controls",
     "model_module_version": "1.5.0",
     "model_name": "HTMLModel",
     "state": {
      "_dom_classes": [],
      "_model_module": "@jupyter-widgets/controls",
      "_model_module_version": "1.5.0",
      "_model_name": "HTMLModel",
      "_view_count": null,
      "_view_module": "@jupyter-widgets/controls",
      "_view_module_version": "1.5.0",
      "_view_name": "HTMLView",
      "description": "",
      "description_tooltip": null,
      "layout": "IPY_MODEL_78c0ac9d274e4169aff9a07c6d6a1ca0",
      "placeholder": "​",
      "style": "IPY_MODEL_071c60637da744cdbc5df65de93350aa",
      "value": " 16/16 [00:00&lt;00:00, 176.03it/s]"
     }
    },
    "1bca1c5f9b15443cbea56ec63cda3bd7": {
     "model_module": "@jupyter-widgets/base",
     "model_module_version": "1.2.0",
     "model_name": "LayoutModel",
     "state": {
      "_model_module": "@jupyter-widgets/base",
      "_model_module_version": "1.2.0",
      "_model_name": "LayoutModel",
      "_view_count": null,
      "_view_module": "@jupyter-widgets/base",
      "_view_module_version": "1.2.0",
      "_view_name": "LayoutView",
      "align_content": null,
      "align_items": null,
      "align_self": null,
      "border": null,
      "bottom": null,
      "display": null,
      "flex": null,
      "flex_flow": null,
      "grid_area": null,
      "grid_auto_columns": null,
      "grid_auto_flow": null,
      "grid_auto_rows": null,
      "grid_column": null,
      "grid_gap": null,
      "grid_row": null,
      "grid_template_areas": null,
      "grid_template_columns": null,
      "grid_template_rows": null,
      "height": null,
      "justify_content": null,
      "justify_items": null,
      "left": null,
      "margin": null,
      "max_height": null,
      "max_width": null,
      "min_height": null,
      "min_width": null,
      "object_fit": null,
      "object_position": null,
      "order": null,
      "overflow": null,
      "overflow_x": null,
      "overflow_y": null,
      "padding": null,
      "right": null,
      "top": null,
      "visibility": null,
      "width": null
     }
    },
    "1bf1a45acf514003a91f273f0737aa07": {
     "model_module": "@jupyter-widgets/controls",
     "model_module_version": "1.5.0",
     "model_name": "DescriptionStyleModel",
     "state": {
      "_model_module": "@jupyter-widgets/controls",
      "_model_module_version": "1.5.0",
      "_model_name": "DescriptionStyleModel",
      "_view_count": null,
      "_view_module": "@jupyter-widgets/base",
      "_view_module_version": "1.2.0",
      "_view_name": "StyleView",
      "description_width": ""
     }
    },
    "1c315ba2d4ce446e8dd518fcc9ef520a": {
     "model_module": "@jupyter-widgets/base",
     "model_module_version": "1.2.0",
     "model_name": "LayoutModel",
     "state": {
      "_model_module": "@jupyter-widgets/base",
      "_model_module_version": "1.2.0",
      "_model_name": "LayoutModel",
      "_view_count": null,
      "_view_module": "@jupyter-widgets/base",
      "_view_module_version": "1.2.0",
      "_view_name": "LayoutView",
      "align_content": null,
      "align_items": null,
      "align_self": null,
      "border": null,
      "bottom": null,
      "display": null,
      "flex": null,
      "flex_flow": null,
      "grid_area": null,
      "grid_auto_columns": null,
      "grid_auto_flow": null,
      "grid_auto_rows": null,
      "grid_column": null,
      "grid_gap": null,
      "grid_row": null,
      "grid_template_areas": null,
      "grid_template_columns": null,
      "grid_template_rows": null,
      "height": null,
      "justify_content": null,
      "justify_items": null,
      "left": null,
      "margin": null,
      "max_height": null,
      "max_width": null,
      "min_height": null,
      "min_width": null,
      "object_fit": null,
      "object_position": null,
      "order": null,
      "overflow": null,
      "overflow_x": null,
      "overflow_y": null,
      "padding": null,
      "right": null,
      "top": null,
      "visibility": null,
      "width": null
     }
    },
    "1c9ef4c5b8dc470fa8039f096c83c2f3": {
     "model_module": "@jupyter-widgets/base",
     "model_module_version": "1.2.0",
     "model_name": "LayoutModel",
     "state": {
      "_model_module": "@jupyter-widgets/base",
      "_model_module_version": "1.2.0",
      "_model_name": "LayoutModel",
      "_view_count": null,
      "_view_module": "@jupyter-widgets/base",
      "_view_module_version": "1.2.0",
      "_view_name": "LayoutView",
      "align_content": null,
      "align_items": null,
      "align_self": null,
      "border": null,
      "bottom": null,
      "display": null,
      "flex": null,
      "flex_flow": null,
      "grid_area": null,
      "grid_auto_columns": null,
      "grid_auto_flow": null,
      "grid_auto_rows": null,
      "grid_column": null,
      "grid_gap": null,
      "grid_row": null,
      "grid_template_areas": null,
      "grid_template_columns": null,
      "grid_template_rows": null,
      "height": null,
      "justify_content": null,
      "justify_items": null,
      "left": null,
      "margin": null,
      "max_height": null,
      "max_width": null,
      "min_height": null,
      "min_width": null,
      "object_fit": null,
      "object_position": null,
      "order": null,
      "overflow": null,
      "overflow_x": null,
      "overflow_y": null,
      "padding": null,
      "right": null,
      "top": null,
      "visibility": null,
      "width": null
     }
    },
    "1d294442be7e43e68465059b27871bda": {
     "model_module": "@jupyter-widgets/controls",
     "model_module_version": "1.5.0",
     "model_name": "HTMLModel",
     "state": {
      "_dom_classes": [],
      "_model_module": "@jupyter-widgets/controls",
      "_model_module_version": "1.5.0",
      "_model_name": "HTMLModel",
      "_view_count": null,
      "_view_module": "@jupyter-widgets/controls",
      "_view_module_version": "1.5.0",
      "_view_name": "HTMLView",
      "description": "",
      "description_tooltip": null,
      "layout": "IPY_MODEL_b71eb171dd41408db13ae49bd2f541f0",
      "placeholder": "​",
      "style": "IPY_MODEL_f6c044b651734567afc55bbd7da86175",
      "value": " 16/16 [00:00&lt;00:00, 179.28it/s]"
     }
    },
    "1f879b6a154945599f612ef03cb979c4": {
     "model_module": "@jupyter-widgets/base",
     "model_module_version": "1.2.0",
     "model_name": "LayoutModel",
     "state": {
      "_model_module": "@jupyter-widgets/base",
      "_model_module_version": "1.2.0",
      "_model_name": "LayoutModel",
      "_view_count": null,
      "_view_module": "@jupyter-widgets/base",
      "_view_module_version": "1.2.0",
      "_view_name": "LayoutView",
      "align_content": null,
      "align_items": null,
      "align_self": null,
      "border": null,
      "bottom": null,
      "display": "inline-flex",
      "flex": null,
      "flex_flow": "row wrap",
      "grid_area": null,
      "grid_auto_columns": null,
      "grid_auto_flow": null,
      "grid_auto_rows": null,
      "grid_column": null,
      "grid_gap": null,
      "grid_row": null,
      "grid_template_areas": null,
      "grid_template_columns": null,
      "grid_template_rows": null,
      "height": null,
      "justify_content": null,
      "justify_items": null,
      "left": null,
      "margin": null,
      "max_height": null,
      "max_width": null,
      "min_height": null,
      "min_width": null,
      "object_fit": null,
      "object_position": null,
      "order": null,
      "overflow": null,
      "overflow_x": null,
      "overflow_y": null,
      "padding": null,
      "right": null,
      "top": null,
      "visibility": "hidden",
      "width": "100%"
     }
    },
    "21a67c1f4170484b97abc1353e55caee": {
     "model_module": "@jupyter-widgets/controls",
     "model_module_version": "1.5.0",
     "model_name": "HTMLModel",
     "state": {
      "_dom_classes": [],
      "_model_module": "@jupyter-widgets/controls",
      "_model_module_version": "1.5.0",
      "_model_name": "HTMLModel",
      "_view_count": null,
      "_view_module": "@jupyter-widgets/controls",
      "_view_module_version": "1.5.0",
      "_view_name": "HTMLView",
      "description": "",
      "description_tooltip": null,
      "layout": "IPY_MODEL_96c1b5aff6cb4278bb76ac4ca74fe8b1",
      "placeholder": "​",
      "style": "IPY_MODEL_42e0bd2e544b4f59be27eacd8c2692cf",
      "value": "Validation DataLoader 0: 100%"
     }
    },
    "2309669f57b54b4f824f347dd16ff710": {
     "model_module": "@jupyter-widgets/controls",
     "model_module_version": "1.5.0",
     "model_name": "HTMLModel",
     "state": {
      "_dom_classes": [],
      "_model_module": "@jupyter-widgets/controls",
      "_model_module_version": "1.5.0",
      "_model_name": "HTMLModel",
      "_view_count": null,
      "_view_module": "@jupyter-widgets/controls",
      "_view_module_version": "1.5.0",
      "_view_name": "HTMLView",
      "description": "",
      "description_tooltip": null,
      "layout": "IPY_MODEL_a13a84cb79254c0e85eb41189b178546",
      "placeholder": "​",
      "style": "IPY_MODEL_cf0d75d4cf31440ea7da290b60a494d5",
      "value": "Validation DataLoader 0: 100%"
     }
    },
    "252a29b1b52d499fb7401a9987a366b6": {
     "model_module": "@jupyter-widgets/controls",
     "model_module_version": "1.5.0",
     "model_name": "ProgressStyleModel",
     "state": {
      "_model_module": "@jupyter-widgets/controls",
      "_model_module_version": "1.5.0",
      "_model_name": "ProgressStyleModel",
      "_view_count": null,
      "_view_module": "@jupyter-widgets/base",
      "_view_module_version": "1.2.0",
      "_view_name": "StyleView",
      "bar_color": null,
      "description_width": ""
     }
    },
    "252b8138d8fd4fc0a2551079887c0094": {
     "model_module": "@jupyter-widgets/controls",
     "model_module_version": "1.5.0",
     "model_name": "FloatProgressModel",
     "state": {
      "_dom_classes": [],
      "_model_module": "@jupyter-widgets/controls",
      "_model_module_version": "1.5.0",
      "_model_name": "FloatProgressModel",
      "_view_count": null,
      "_view_module": "@jupyter-widgets/controls",
      "_view_module_version": "1.5.0",
      "_view_name": "ProgressView",
      "bar_style": "",
      "description": "",
      "description_tooltip": null,
      "layout": "IPY_MODEL_7d820ed5530a45ffb1e097624c5d7d1f",
      "max": 16,
      "min": 0,
      "orientation": "horizontal",
      "style": "IPY_MODEL_49b3b5f9f13843b7b7419ede3dcbf2ba",
      "value": 16
     }
    },
    "2756a6901913420cbc6d0888079f64dc": {
     "model_module": "@jupyter-widgets/controls",
     "model_module_version": "1.5.0",
     "model_name": "HTMLModel",
     "state": {
      "_dom_classes": [],
      "_model_module": "@jupyter-widgets/controls",
      "_model_module_version": "1.5.0",
      "_model_name": "HTMLModel",
      "_view_count": null,
      "_view_module": "@jupyter-widgets/controls",
      "_view_module_version": "1.5.0",
      "_view_name": "HTMLView",
      "description": "",
      "description_tooltip": null,
      "layout": "IPY_MODEL_51f8c042a168450ca805dd13eb464bf4",
      "placeholder": "​",
      "style": "IPY_MODEL_426047db9d89492c9525dfdb0d8848d8",
      "value": " 16/16 [00:00&lt;00:00, 181.72it/s]"
     }
    },
    "2b3315e09f5640e5a9912ea34ba08d56": {
     "model_module": "@jupyter-widgets/controls",
     "model_module_version": "1.5.0",
     "model_name": "HBoxModel",
     "state": {
      "_dom_classes": [],
      "_model_module": "@jupyter-widgets/controls",
      "_model_module_version": "1.5.0",
      "_model_name": "HBoxModel",
      "_view_count": null,
      "_view_module": "@jupyter-widgets/controls",
      "_view_module_version": "1.5.0",
      "_view_name": "HBoxView",
      "box_style": "",
      "children": [
       "IPY_MODEL_b5d7042653f141df89d1a140b6ac41d0",
       "IPY_MODEL_2c526c7db4b84be3bfdc864b40cbe56a",
       "IPY_MODEL_149d9d8e0ea44ef19ccc92aaac84e775"
      ],
      "layout": "IPY_MODEL_ef8dc1815fa44771b3dcbd5d2653dc33"
     }
    },
    "2b8f239d96d149719a9a2114f69c0bf2": {
     "model_module": "@jupyter-widgets/controls",
     "model_module_version": "1.5.0",
     "model_name": "HBoxModel",
     "state": {
      "_dom_classes": [],
      "_model_module": "@jupyter-widgets/controls",
      "_model_module_version": "1.5.0",
      "_model_name": "HBoxModel",
      "_view_count": null,
      "_view_module": "@jupyter-widgets/controls",
      "_view_module_version": "1.5.0",
      "_view_name": "HBoxView",
      "box_style": "",
      "children": [
       "IPY_MODEL_2309669f57b54b4f824f347dd16ff710",
       "IPY_MODEL_c09ca9c87a1c441b8743924031547618",
       "IPY_MODEL_1b23ff9bf14444c6a57185e85ce3b791"
      ],
      "layout": "IPY_MODEL_2bd83314eabb4ed2b008390eb73e9e08"
     }
    },
    "2bd83314eabb4ed2b008390eb73e9e08": {
     "model_module": "@jupyter-widgets/base",
     "model_module_version": "1.2.0",
     "model_name": "LayoutModel",
     "state": {
      "_model_module": "@jupyter-widgets/base",
      "_model_module_version": "1.2.0",
      "_model_name": "LayoutModel",
      "_view_count": null,
      "_view_module": "@jupyter-widgets/base",
      "_view_module_version": "1.2.0",
      "_view_name": "LayoutView",
      "align_content": null,
      "align_items": null,
      "align_self": null,
      "border": null,
      "bottom": null,
      "display": "inline-flex",
      "flex": null,
      "flex_flow": "row wrap",
      "grid_area": null,
      "grid_auto_columns": null,
      "grid_auto_flow": null,
      "grid_auto_rows": null,
      "grid_column": null,
      "grid_gap": null,
      "grid_row": null,
      "grid_template_areas": null,
      "grid_template_columns": null,
      "grid_template_rows": null,
      "height": null,
      "justify_content": null,
      "justify_items": null,
      "left": null,
      "margin": null,
      "max_height": null,
      "max_width": null,
      "min_height": null,
      "min_width": null,
      "object_fit": null,
      "object_position": null,
      "order": null,
      "overflow": null,
      "overflow_x": null,
      "overflow_y": null,
      "padding": null,
      "right": null,
      "top": null,
      "visibility": "hidden",
      "width": "100%"
     }
    },
    "2c526c7db4b84be3bfdc864b40cbe56a": {
     "model_module": "@jupyter-widgets/controls",
     "model_module_version": "1.5.0",
     "model_name": "FloatProgressModel",
     "state": {
      "_dom_classes": [],
      "_model_module": "@jupyter-widgets/controls",
      "_model_module_version": "1.5.0",
      "_model_name": "FloatProgressModel",
      "_view_count": null,
      "_view_module": "@jupyter-widgets/controls",
      "_view_module_version": "1.5.0",
      "_view_name": "ProgressView",
      "bar_style": "",
      "description": "",
      "description_tooltip": null,
      "layout": "IPY_MODEL_be6879a284654b6e87bb3da74910d474",
      "max": 16,
      "min": 0,
      "orientation": "horizontal",
      "style": "IPY_MODEL_970851078864459eabaee24b8e8b6ebf",
      "value": 16
     }
    },
    "2cdf14a6caba4856bfe7ab0eff0948cf": {
     "model_module": "@jupyter-widgets/controls",
     "model_module_version": "1.5.0",
     "model_name": "HTMLModel",
     "state": {
      "_dom_classes": [],
      "_model_module": "@jupyter-widgets/controls",
      "_model_module_version": "1.5.0",
      "_model_name": "HTMLModel",
      "_view_count": null,
      "_view_module": "@jupyter-widgets/controls",
      "_view_module_version": "1.5.0",
      "_view_name": "HTMLView",
      "description": "",
      "description_tooltip": null,
      "layout": "IPY_MODEL_1c9ef4c5b8dc470fa8039f096c83c2f3",
      "placeholder": "​",
      "style": "IPY_MODEL_a1389025091741c4b55dfa64a2e3651f",
      "value": " 16/16 [00:00&lt;00:00, 111.35it/s]"
     }
    },
    "2e4be7329e44497cb183d0eb855024ea": {
     "model_module": "@jupyter-widgets/controls",
     "model_module_version": "1.5.0",
     "model_name": "HBoxModel",
     "state": {
      "_dom_classes": [],
      "_model_module": "@jupyter-widgets/controls",
      "_model_module_version": "1.5.0",
      "_model_name": "HBoxModel",
      "_view_count": null,
      "_view_module": "@jupyter-widgets/controls",
      "_view_module_version": "1.5.0",
      "_view_name": "HBoxView",
      "box_style": "",
      "children": [
       "IPY_MODEL_e160b994408e48e8a6e5d42a063664d4",
       "IPY_MODEL_36010950dcb546c9b67f6348bff200dc",
       "IPY_MODEL_a2e4721da8624b619d12b3d2d10a9736"
      ],
      "layout": "IPY_MODEL_cc43ddab097b40b4ba8e98aac6b82229"
     }
    },
    "301b7be27788488ab8130bfca2921d5a": {
     "model_module": "@jupyter-widgets/controls",
     "model_module_version": "1.5.0",
     "model_name": "ProgressStyleModel",
     "state": {
      "_model_module": "@jupyter-widgets/controls",
      "_model_module_version": "1.5.0",
      "_model_name": "ProgressStyleModel",
      "_view_count": null,
      "_view_module": "@jupyter-widgets/base",
      "_view_module_version": "1.2.0",
      "_view_name": "StyleView",
      "bar_color": null,
      "description_width": ""
     }
    },
    "3119cf079d0842e3b750180bd5365ba5": {
     "model_module": "@jupyter-widgets/controls",
     "model_module_version": "1.5.0",
     "model_name": "HBoxModel",
     "state": {
      "_dom_classes": [],
      "_model_module": "@jupyter-widgets/controls",
      "_model_module_version": "1.5.0",
      "_model_name": "HBoxModel",
      "_view_count": null,
      "_view_module": "@jupyter-widgets/controls",
      "_view_module_version": "1.5.0",
      "_view_name": "HBoxView",
      "box_style": "",
      "children": [
       "IPY_MODEL_890445c5b507444da8f79c0939b900c1",
       "IPY_MODEL_252b8138d8fd4fc0a2551079887c0094",
       "IPY_MODEL_dd74125e104542bbab18b9799475e436"
      ],
      "layout": "IPY_MODEL_bb473e144ffe421eb1ebbc32d3bfecaf"
     }
    },
    "36010950dcb546c9b67f6348bff200dc": {
     "model_module": "@jupyter-widgets/controls",
     "model_module_version": "1.5.0",
     "model_name": "FloatProgressModel",
     "state": {
      "_dom_classes": [],
      "_model_module": "@jupyter-widgets/controls",
      "_model_module_version": "1.5.0",
      "_model_name": "FloatProgressModel",
      "_view_count": null,
      "_view_module": "@jupyter-widgets/controls",
      "_view_module_version": "1.5.0",
      "_view_name": "ProgressView",
      "bar_style": "",
      "description": "",
      "description_tooltip": null,
      "layout": "IPY_MODEL_9bd4e7029df046bcb407f6a35a4f0a25",
      "max": 16,
      "min": 0,
      "orientation": "horizontal",
      "style": "IPY_MODEL_fbdecc01355e4262aa4b3bbe2b68d368",
      "value": 16
     }
    },
    "3726963c2f4f4e64a9573f55fc96fa8c": {
     "model_module": "@jupyter-widgets/controls",
     "model_module_version": "1.5.0",
     "model_name": "HTMLModel",
     "state": {
      "_dom_classes": [],
      "_model_module": "@jupyter-widgets/controls",
      "_model_module_version": "1.5.0",
      "_model_name": "HTMLModel",
      "_view_count": null,
      "_view_module": "@jupyter-widgets/controls",
      "_view_module_version": "1.5.0",
      "_view_name": "HTMLView",
      "description": "",
      "description_tooltip": null,
      "layout": "IPY_MODEL_e7840d5f6ba343e78482cc31ccf803be",
      "placeholder": "​",
      "style": "IPY_MODEL_b788b364f86243dd87443433ac878a60",
      "value": " 16/16 [00:00&lt;00:00, 112.08it/s]"
     }
    },
    "38abce7cfbda4ff08c20814cfc401704": {
     "model_module": "@jupyter-widgets/controls",
     "model_module_version": "1.5.0",
     "model_name": "HTMLModel",
     "state": {
      "_dom_classes": [],
      "_model_module": "@jupyter-widgets/controls",
      "_model_module_version": "1.5.0",
      "_model_name": "HTMLModel",
      "_view_count": null,
      "_view_module": "@jupyter-widgets/controls",
      "_view_module_version": "1.5.0",
      "_view_name": "HTMLView",
      "description": "",
      "description_tooltip": null,
      "layout": "IPY_MODEL_fc63d706a6134627b58f9977bdc471a2",
      "placeholder": "​",
      "style": "IPY_MODEL_dee2ff672a88431aa25591462ffe6784",
      "value": "Epoch 9: 100%"
     }
    },
    "39aa3ec9b98540a99e5368faae54b261": {
     "model_module": "@jupyter-widgets/base",
     "model_module_version": "1.2.0",
     "model_name": "LayoutModel",
     "state": {
      "_model_module": "@jupyter-widgets/base",
      "_model_module_version": "1.2.0",
      "_model_name": "LayoutModel",
      "_view_count": null,
      "_view_module": "@jupyter-widgets/base",
      "_view_module_version": "1.2.0",
      "_view_name": "LayoutView",
      "align_content": null,
      "align_items": null,
      "align_self": null,
      "border": null,
      "bottom": null,
      "display": null,
      "flex": null,
      "flex_flow": null,
      "grid_area": null,
      "grid_auto_columns": null,
      "grid_auto_flow": null,
      "grid_auto_rows": null,
      "grid_column": null,
      "grid_gap": null,
      "grid_row": null,
      "grid_template_areas": null,
      "grid_template_columns": null,
      "grid_template_rows": null,
      "height": null,
      "justify_content": null,
      "justify_items": null,
      "left": null,
      "margin": null,
      "max_height": null,
      "max_width": null,
      "min_height": null,
      "min_width": null,
      "object_fit": null,
      "object_position": null,
      "order": null,
      "overflow": null,
      "overflow_x": null,
      "overflow_y": null,
      "padding": null,
      "right": null,
      "top": null,
      "visibility": null,
      "width": null
     }
    },
    "3f9d69bb96d84bc78f470b69aa3b3d92": {
     "model_module": "@jupyter-widgets/controls",
     "model_module_version": "1.5.0",
     "model_name": "DescriptionStyleModel",
     "state": {
      "_model_module": "@jupyter-widgets/controls",
      "_model_module_version": "1.5.0",
      "_model_name": "DescriptionStyleModel",
      "_view_count": null,
      "_view_module": "@jupyter-widgets/base",
      "_view_module_version": "1.2.0",
      "_view_name": "StyleView",
      "description_width": ""
     }
    },
    "426047db9d89492c9525dfdb0d8848d8": {
     "model_module": "@jupyter-widgets/controls",
     "model_module_version": "1.5.0",
     "model_name": "DescriptionStyleModel",
     "state": {
      "_model_module": "@jupyter-widgets/controls",
      "_model_module_version": "1.5.0",
      "_model_name": "DescriptionStyleModel",
      "_view_count": null,
      "_view_module": "@jupyter-widgets/base",
      "_view_module_version": "1.2.0",
      "_view_name": "StyleView",
      "description_width": ""
     }
    },
    "42e0bd2e544b4f59be27eacd8c2692cf": {
     "model_module": "@jupyter-widgets/controls",
     "model_module_version": "1.5.0",
     "model_name": "DescriptionStyleModel",
     "state": {
      "_model_module": "@jupyter-widgets/controls",
      "_model_module_version": "1.5.0",
      "_model_name": "DescriptionStyleModel",
      "_view_count": null,
      "_view_module": "@jupyter-widgets/base",
      "_view_module_version": "1.2.0",
      "_view_name": "StyleView",
      "description_width": ""
     }
    },
    "432bbdfc8e2f48f8ab1cd1dc989e4ba3": {
     "model_module": "@jupyter-widgets/controls",
     "model_module_version": "1.5.0",
     "model_name": "HBoxModel",
     "state": {
      "_dom_classes": [],
      "_model_module": "@jupyter-widgets/controls",
      "_model_module_version": "1.5.0",
      "_model_name": "HBoxModel",
      "_view_count": null,
      "_view_module": "@jupyter-widgets/controls",
      "_view_module_version": "1.5.0",
      "_view_name": "HBoxView",
      "box_style": "",
      "children": [
       "IPY_MODEL_fb14f9826831446f9fbf2fe2fe9a9502",
       "IPY_MODEL_4a8b676c5d6a4e72a87990b0e83b35db",
       "IPY_MODEL_d8fa4a19a89446d590a6b2d6c582969d"
      ],
      "layout": "IPY_MODEL_68beafaf81914ebd8e72111dfba01410"
     }
    },
    "47365a8b79204198b1a082b6ebc8cf8c": {
     "model_module": "@jupyter-widgets/base",
     "model_module_version": "1.2.0",
     "model_name": "LayoutModel",
     "state": {
      "_model_module": "@jupyter-widgets/base",
      "_model_module_version": "1.2.0",
      "_model_name": "LayoutModel",
      "_view_count": null,
      "_view_module": "@jupyter-widgets/base",
      "_view_module_version": "1.2.0",
      "_view_name": "LayoutView",
      "align_content": null,
      "align_items": null,
      "align_self": null,
      "border": null,
      "bottom": null,
      "display": "inline-flex",
      "flex": null,
      "flex_flow": "row wrap",
      "grid_area": null,
      "grid_auto_columns": null,
      "grid_auto_flow": null,
      "grid_auto_rows": null,
      "grid_column": null,
      "grid_gap": null,
      "grid_row": null,
      "grid_template_areas": null,
      "grid_template_columns": null,
      "grid_template_rows": null,
      "height": null,
      "justify_content": null,
      "justify_items": null,
      "left": null,
      "margin": null,
      "max_height": null,
      "max_width": null,
      "min_height": null,
      "min_width": null,
      "object_fit": null,
      "object_position": null,
      "order": null,
      "overflow": null,
      "overflow_x": null,
      "overflow_y": null,
      "padding": null,
      "right": null,
      "top": null,
      "visibility": null,
      "width": "100%"
     }
    },
    "47f21d47b1cd4e8a95d99fb18162629f": {
     "model_module": "@jupyter-widgets/base",
     "model_module_version": "1.2.0",
     "model_name": "LayoutModel",
     "state": {
      "_model_module": "@jupyter-widgets/base",
      "_model_module_version": "1.2.0",
      "_model_name": "LayoutModel",
      "_view_count": null,
      "_view_module": "@jupyter-widgets/base",
      "_view_module_version": "1.2.0",
      "_view_name": "LayoutView",
      "align_content": null,
      "align_items": null,
      "align_self": null,
      "border": null,
      "bottom": null,
      "display": null,
      "flex": "2",
      "flex_flow": null,
      "grid_area": null,
      "grid_auto_columns": null,
      "grid_auto_flow": null,
      "grid_auto_rows": null,
      "grid_column": null,
      "grid_gap": null,
      "grid_row": null,
      "grid_template_areas": null,
      "grid_template_columns": null,
      "grid_template_rows": null,
      "height": null,
      "justify_content": null,
      "justify_items": null,
      "left": null,
      "margin": null,
      "max_height": null,
      "max_width": null,
      "min_height": null,
      "min_width": null,
      "object_fit": null,
      "object_position": null,
      "order": null,
      "overflow": null,
      "overflow_x": null,
      "overflow_y": null,
      "padding": null,
      "right": null,
      "top": null,
      "visibility": null,
      "width": null
     }
    },
    "49b3b5f9f13843b7b7419ede3dcbf2ba": {
     "model_module": "@jupyter-widgets/controls",
     "model_module_version": "1.5.0",
     "model_name": "ProgressStyleModel",
     "state": {
      "_model_module": "@jupyter-widgets/controls",
      "_model_module_version": "1.5.0",
      "_model_name": "ProgressStyleModel",
      "_view_count": null,
      "_view_module": "@jupyter-widgets/base",
      "_view_module_version": "1.2.0",
      "_view_name": "StyleView",
      "bar_color": null,
      "description_width": ""
     }
    },
    "4a8b676c5d6a4e72a87990b0e83b35db": {
     "model_module": "@jupyter-widgets/controls",
     "model_module_version": "1.5.0",
     "model_name": "FloatProgressModel",
     "state": {
      "_dom_classes": [],
      "_model_module": "@jupyter-widgets/controls",
      "_model_module_version": "1.5.0",
      "_model_name": "FloatProgressModel",
      "_view_count": null,
      "_view_module": "@jupyter-widgets/controls",
      "_view_module_version": "1.5.0",
      "_view_name": "ProgressView",
      "bar_style": "",
      "description": "",
      "description_tooltip": null,
      "layout": "IPY_MODEL_588b4a27cf6f44f18c9da5368a16fa1d",
      "max": 16,
      "min": 0,
      "orientation": "horizontal",
      "style": "IPY_MODEL_93841c45130449e19adc7af7be63bd93",
      "value": 16
     }
    },
    "4aeb007be23e4b5fa39ed80f068869f9": {
     "model_module": "@jupyter-widgets/controls",
     "model_module_version": "1.5.0",
     "model_name": "HTMLModel",
     "state": {
      "_dom_classes": [],
      "_model_module": "@jupyter-widgets/controls",
      "_model_module_version": "1.5.0",
      "_model_name": "HTMLModel",
      "_view_count": null,
      "_view_module": "@jupyter-widgets/controls",
      "_view_module_version": "1.5.0",
      "_view_name": "HTMLView",
      "description": "",
      "description_tooltip": null,
      "layout": "IPY_MODEL_9735583d80c9466d9ab5d589a85e33b3",
      "placeholder": "​",
      "style": "IPY_MODEL_ad123064d54649578118ecbef4548387",
      "value": "Sanity Checking DataLoader 0: 100%"
     }
    },
    "4b27742f05cb40768c8b3fd8729ae70f": {
     "model_module": "@jupyter-widgets/controls",
     "model_module_version": "1.5.0",
     "model_name": "DescriptionStyleModel",
     "state": {
      "_model_module": "@jupyter-widgets/controls",
      "_model_module_version": "1.5.0",
      "_model_name": "DescriptionStyleModel",
      "_view_count": null,
      "_view_module": "@jupyter-widgets/base",
      "_view_module_version": "1.2.0",
      "_view_name": "StyleView",
      "description_width": ""
     }
    },
    "4cc9217459e7473d9e0214a3c81c8543": {
     "model_module": "@jupyter-widgets/controls",
     "model_module_version": "1.5.0",
     "model_name": "HTMLModel",
     "state": {
      "_dom_classes": [],
      "_model_module": "@jupyter-widgets/controls",
      "_model_module_version": "1.5.0",
      "_model_name": "HTMLModel",
      "_view_count": null,
      "_view_module": "@jupyter-widgets/controls",
      "_view_module_version": "1.5.0",
      "_view_name": "HTMLView",
      "description": "",
      "description_tooltip": null,
      "layout": "IPY_MODEL_ac8603981b4f4ff780f637efe1a600b9",
      "placeholder": "​",
      "style": "IPY_MODEL_e37c85fa63ef44249e1c068be93e2189",
      "value": "Predicting DataLoader 0: 100%"
     }
    },
    "4db71391f6bb4c0190061856e2e831f7": {
     "model_module": "@jupyter-widgets/base",
     "model_module_version": "1.2.0",
     "model_name": "LayoutModel",
     "state": {
      "_model_module": "@jupyter-widgets/base",
      "_model_module_version": "1.2.0",
      "_model_name": "LayoutModel",
      "_view_count": null,
      "_view_module": "@jupyter-widgets/base",
      "_view_module_version": "1.2.0",
      "_view_name": "LayoutView",
      "align_content": null,
      "align_items": null,
      "align_self": null,
      "border": null,
      "bottom": null,
      "display": "inline-flex",
      "flex": null,
      "flex_flow": "row wrap",
      "grid_area": null,
      "grid_auto_columns": null,
      "grid_auto_flow": null,
      "grid_auto_rows": null,
      "grid_column": null,
      "grid_gap": null,
      "grid_row": null,
      "grid_template_areas": null,
      "grid_template_columns": null,
      "grid_template_rows": null,
      "height": null,
      "justify_content": null,
      "justify_items": null,
      "left": null,
      "margin": null,
      "max_height": null,
      "max_width": null,
      "min_height": null,
      "min_width": null,
      "object_fit": null,
      "object_position": null,
      "order": null,
      "overflow": null,
      "overflow_x": null,
      "overflow_y": null,
      "padding": null,
      "right": null,
      "top": null,
      "visibility": "hidden",
      "width": "100%"
     }
    },
    "51049d593bff444a9c9b8e339e1972cb": {
     "model_module": "@jupyter-widgets/controls",
     "model_module_version": "1.5.0",
     "model_name": "FloatProgressModel",
     "state": {
      "_dom_classes": [],
      "_model_module": "@jupyter-widgets/controls",
      "_model_module_version": "1.5.0",
      "_model_name": "FloatProgressModel",
      "_view_count": null,
      "_view_module": "@jupyter-widgets/controls",
      "_view_module_version": "1.5.0",
      "_view_name": "ProgressView",
      "bar_style": "success",
      "description": "",
      "description_tooltip": null,
      "layout": "IPY_MODEL_85a3fd38d4ef41c49761f7ccd3ac47d0",
      "max": 16,
      "min": 0,
      "orientation": "horizontal",
      "style": "IPY_MODEL_9cd83dd2c4b24a2888d12ec28609c69b",
      "value": 16
     }
    },
    "51f8c042a168450ca805dd13eb464bf4": {
     "model_module": "@jupyter-widgets/base",
     "model_module_version": "1.2.0",
     "model_name": "LayoutModel",
     "state": {
      "_model_module": "@jupyter-widgets/base",
      "_model_module_version": "1.2.0",
      "_model_name": "LayoutModel",
      "_view_count": null,
      "_view_module": "@jupyter-widgets/base",
      "_view_module_version": "1.2.0",
      "_view_name": "LayoutView",
      "align_content": null,
      "align_items": null,
      "align_self": null,
      "border": null,
      "bottom": null,
      "display": null,
      "flex": null,
      "flex_flow": null,
      "grid_area": null,
      "grid_auto_columns": null,
      "grid_auto_flow": null,
      "grid_auto_rows": null,
      "grid_column": null,
      "grid_gap": null,
      "grid_row": null,
      "grid_template_areas": null,
      "grid_template_columns": null,
      "grid_template_rows": null,
      "height": null,
      "justify_content": null,
      "justify_items": null,
      "left": null,
      "margin": null,
      "max_height": null,
      "max_width": null,
      "min_height": null,
      "min_width": null,
      "object_fit": null,
      "object_position": null,
      "order": null,
      "overflow": null,
      "overflow_x": null,
      "overflow_y": null,
      "padding": null,
      "right": null,
      "top": null,
      "visibility": null,
      "width": null
     }
    },
    "55220660c9ef4decb430a6ccd5406965": {
     "model_module": "@jupyter-widgets/controls",
     "model_module_version": "1.5.0",
     "model_name": "FloatProgressModel",
     "state": {
      "_dom_classes": [],
      "_model_module": "@jupyter-widgets/controls",
      "_model_module_version": "1.5.0",
      "_model_name": "FloatProgressModel",
      "_view_count": null,
      "_view_module": "@jupyter-widgets/controls",
      "_view_module_version": "1.5.0",
      "_view_name": "ProgressView",
      "bar_style": "success",
      "description": "",
      "description_tooltip": null,
      "layout": "IPY_MODEL_a0baefff772243b7bb500a894752a1a3",
      "max": 125,
      "min": 0,
      "orientation": "horizontal",
      "style": "IPY_MODEL_adf0854905a042e9be5ad64020541ade",
      "value": 125
     }
    },
    "588b4a27cf6f44f18c9da5368a16fa1d": {
     "model_module": "@jupyter-widgets/base",
     "model_module_version": "1.2.0",
     "model_name": "LayoutModel",
     "state": {
      "_model_module": "@jupyter-widgets/base",
      "_model_module_version": "1.2.0",
      "_model_name": "LayoutModel",
      "_view_count": null,
      "_view_module": "@jupyter-widgets/base",
      "_view_module_version": "1.2.0",
      "_view_name": "LayoutView",
      "align_content": null,
      "align_items": null,
      "align_self": null,
      "border": null,
      "bottom": null,
      "display": null,
      "flex": "2",
      "flex_flow": null,
      "grid_area": null,
      "grid_auto_columns": null,
      "grid_auto_flow": null,
      "grid_auto_rows": null,
      "grid_column": null,
      "grid_gap": null,
      "grid_row": null,
      "grid_template_areas": null,
      "grid_template_columns": null,
      "grid_template_rows": null,
      "height": null,
      "justify_content": null,
      "justify_items": null,
      "left": null,
      "margin": null,
      "max_height": null,
      "max_width": null,
      "min_height": null,
      "min_width": null,
      "object_fit": null,
      "object_position": null,
      "order": null,
      "overflow": null,
      "overflow_x": null,
      "overflow_y": null,
      "padding": null,
      "right": null,
      "top": null,
      "visibility": null,
      "width": null
     }
    },
    "5ae01e44589349b093c686893aa817fc": {
     "model_module": "@jupyter-widgets/controls",
     "model_module_version": "1.5.0",
     "model_name": "DescriptionStyleModel",
     "state": {
      "_model_module": "@jupyter-widgets/controls",
      "_model_module_version": "1.5.0",
      "_model_name": "DescriptionStyleModel",
      "_view_count": null,
      "_view_module": "@jupyter-widgets/base",
      "_view_module_version": "1.2.0",
      "_view_name": "StyleView",
      "description_width": ""
     }
    },
    "5c2653a10f364819920c44d62703aed0": {
     "model_module": "@jupyter-widgets/controls",
     "model_module_version": "1.5.0",
     "model_name": "HBoxModel",
     "state": {
      "_dom_classes": [],
      "_model_module": "@jupyter-widgets/controls",
      "_model_module_version": "1.5.0",
      "_model_name": "HBoxModel",
      "_view_count": null,
      "_view_module": "@jupyter-widgets/controls",
      "_view_module_version": "1.5.0",
      "_view_name": "HBoxView",
      "box_style": "",
      "children": [
       "IPY_MODEL_c24286823daa47eabfaba3b358650deb",
       "IPY_MODEL_0ac0f84838634b64863df019fe81b385",
       "IPY_MODEL_3726963c2f4f4e64a9573f55fc96fa8c"
      ],
      "layout": "IPY_MODEL_6c4feaae4ea14e35839925be89e2d39e"
     }
    },
    "5d5c1fedd14347f3bff1c450276f12bd": {
     "model_module": "@jupyter-widgets/controls",
     "model_module_version": "1.5.0",
     "model_name": "DescriptionStyleModel",
     "state": {
      "_model_module": "@jupyter-widgets/controls",
      "_model_module_version": "1.5.0",
      "_model_name": "DescriptionStyleModel",
      "_view_count": null,
      "_view_module": "@jupyter-widgets/base",
      "_view_module_version": "1.2.0",
      "_view_name": "StyleView",
      "description_width": ""
     }
    },
    "60113245ddf54346890fbdd26585c30d": {
     "model_module": "@jupyter-widgets/base",
     "model_module_version": "1.2.0",
     "model_name": "LayoutModel",
     "state": {
      "_model_module": "@jupyter-widgets/base",
      "_model_module_version": "1.2.0",
      "_model_name": "LayoutModel",
      "_view_count": null,
      "_view_module": "@jupyter-widgets/base",
      "_view_module_version": "1.2.0",
      "_view_name": "LayoutView",
      "align_content": null,
      "align_items": null,
      "align_self": null,
      "border": null,
      "bottom": null,
      "display": null,
      "flex": null,
      "flex_flow": null,
      "grid_area": null,
      "grid_auto_columns": null,
      "grid_auto_flow": null,
      "grid_auto_rows": null,
      "grid_column": null,
      "grid_gap": null,
      "grid_row": null,
      "grid_template_areas": null,
      "grid_template_columns": null,
      "grid_template_rows": null,
      "height": null,
      "justify_content": null,
      "justify_items": null,
      "left": null,
      "margin": null,
      "max_height": null,
      "max_width": null,
      "min_height": null,
      "min_width": null,
      "object_fit": null,
      "object_position": null,
      "order": null,
      "overflow": null,
      "overflow_x": null,
      "overflow_y": null,
      "padding": null,
      "right": null,
      "top": null,
      "visibility": null,
      "width": null
     }
    },
    "63af0ee7db414c48a8d52b0d4f4075bf": {
     "model_module": "@jupyter-widgets/controls",
     "model_module_version": "1.5.0",
     "model_name": "FloatProgressModel",
     "state": {
      "_dom_classes": [],
      "_model_module": "@jupyter-widgets/controls",
      "_model_module_version": "1.5.0",
      "_model_name": "FloatProgressModel",
      "_view_count": null,
      "_view_module": "@jupyter-widgets/controls",
      "_view_module_version": "1.5.0",
      "_view_name": "ProgressView",
      "bar_style": "",
      "description": "",
      "description_tooltip": null,
      "layout": "IPY_MODEL_c7e154b66c58409a95749fa0dfc28894",
      "max": 16,
      "min": 0,
      "orientation": "horizontal",
      "style": "IPY_MODEL_7ba52a77bf6c4cbfb1100bac26995aeb",
      "value": 16
     }
    },
    "68beafaf81914ebd8e72111dfba01410": {
     "model_module": "@jupyter-widgets/base",
     "model_module_version": "1.2.0",
     "model_name": "LayoutModel",
     "state": {
      "_model_module": "@jupyter-widgets/base",
      "_model_module_version": "1.2.0",
      "_model_name": "LayoutModel",
      "_view_count": null,
      "_view_module": "@jupyter-widgets/base",
      "_view_module_version": "1.2.0",
      "_view_name": "LayoutView",
      "align_content": null,
      "align_items": null,
      "align_self": null,
      "border": null,
      "bottom": null,
      "display": "inline-flex",
      "flex": null,
      "flex_flow": "row wrap",
      "grid_area": null,
      "grid_auto_columns": null,
      "grid_auto_flow": null,
      "grid_auto_rows": null,
      "grid_column": null,
      "grid_gap": null,
      "grid_row": null,
      "grid_template_areas": null,
      "grid_template_columns": null,
      "grid_template_rows": null,
      "height": null,
      "justify_content": null,
      "justify_items": null,
      "left": null,
      "margin": null,
      "max_height": null,
      "max_width": null,
      "min_height": null,
      "min_width": null,
      "object_fit": null,
      "object_position": null,
      "order": null,
      "overflow": null,
      "overflow_x": null,
      "overflow_y": null,
      "padding": null,
      "right": null,
      "top": null,
      "visibility": "hidden",
      "width": "100%"
     }
    },
    "6c4feaae4ea14e35839925be89e2d39e": {
     "model_module": "@jupyter-widgets/base",
     "model_module_version": "1.2.0",
     "model_name": "LayoutModel",
     "state": {
      "_model_module": "@jupyter-widgets/base",
      "_model_module_version": "1.2.0",
      "_model_name": "LayoutModel",
      "_view_count": null,
      "_view_module": "@jupyter-widgets/base",
      "_view_module_version": "1.2.0",
      "_view_name": "LayoutView",
      "align_content": null,
      "align_items": null,
      "align_self": null,
      "border": null,
      "bottom": null,
      "display": "inline-flex",
      "flex": null,
      "flex_flow": "row wrap",
      "grid_area": null,
      "grid_auto_columns": null,
      "grid_auto_flow": null,
      "grid_auto_rows": null,
      "grid_column": null,
      "grid_gap": null,
      "grid_row": null,
      "grid_template_areas": null,
      "grid_template_columns": null,
      "grid_template_rows": null,
      "height": null,
      "justify_content": null,
      "justify_items": null,
      "left": null,
      "margin": null,
      "max_height": null,
      "max_width": null,
      "min_height": null,
      "min_width": null,
      "object_fit": null,
      "object_position": null,
      "order": null,
      "overflow": null,
      "overflow_x": null,
      "overflow_y": null,
      "padding": null,
      "right": null,
      "top": null,
      "visibility": "hidden",
      "width": "100%"
     }
    },
    "6cbb215ed9da49d9b16a49551caf91e1": {
     "model_module": "@jupyter-widgets/controls",
     "model_module_version": "1.5.0",
     "model_name": "HTMLModel",
     "state": {
      "_dom_classes": [],
      "_model_module": "@jupyter-widgets/controls",
      "_model_module_version": "1.5.0",
      "_model_name": "HTMLModel",
      "_view_count": null,
      "_view_module": "@jupyter-widgets/controls",
      "_view_module_version": "1.5.0",
      "_view_name": "HTMLView",
      "description": "",
      "description_tooltip": null,
      "layout": "IPY_MODEL_1c315ba2d4ce446e8dd518fcc9ef520a",
      "placeholder": "​",
      "style": "IPY_MODEL_723c6ccf66e242eb993f4f4a48944386",
      "value": " 125/125 [00:01&lt;00:00, 90.67it/s, val/loss=0.474]"
     }
    },
    "723c6ccf66e242eb993f4f4a48944386": {
     "model_module": "@jupyter-widgets/controls",
     "model_module_version": "1.5.0",
     "model_name": "DescriptionStyleModel",
     "state": {
      "_model_module": "@jupyter-widgets/controls",
      "_model_module_version": "1.5.0",
      "_model_name": "DescriptionStyleModel",
      "_view_count": null,
      "_view_module": "@jupyter-widgets/base",
      "_view_module_version": "1.2.0",
      "_view_name": "StyleView",
      "description_width": ""
     }
    },
    "7283e41b78bf4c7cb322f9f37db46be6": {
     "model_module": "@jupyter-widgets/base",
     "model_module_version": "1.2.0",
     "model_name": "LayoutModel",
     "state": {
      "_model_module": "@jupyter-widgets/base",
      "_model_module_version": "1.2.0",
      "_model_name": "LayoutModel",
      "_view_count": null,
      "_view_module": "@jupyter-widgets/base",
      "_view_module_version": "1.2.0",
      "_view_name": "LayoutView",
      "align_content": null,
      "align_items": null,
      "align_self": null,
      "border": null,
      "bottom": null,
      "display": null,
      "flex": null,
      "flex_flow": null,
      "grid_area": null,
      "grid_auto_columns": null,
      "grid_auto_flow": null,
      "grid_auto_rows": null,
      "grid_column": null,
      "grid_gap": null,
      "grid_row": null,
      "grid_template_areas": null,
      "grid_template_columns": null,
      "grid_template_rows": null,
      "height": null,
      "justify_content": null,
      "justify_items": null,
      "left": null,
      "margin": null,
      "max_height": null,
      "max_width": null,
      "min_height": null,
      "min_width": null,
      "object_fit": null,
      "object_position": null,
      "order": null,
      "overflow": null,
      "overflow_x": null,
      "overflow_y": null,
      "padding": null,
      "right": null,
      "top": null,
      "visibility": null,
      "width": null
     }
    },
    "742c6dd693e04bd6bd2f6b2d089dee69": {
     "model_module": "@jupyter-widgets/controls",
     "model_module_version": "1.5.0",
     "model_name": "HTMLModel",
     "state": {
      "_dom_classes": [],
      "_model_module": "@jupyter-widgets/controls",
      "_model_module_version": "1.5.0",
      "_model_name": "HTMLModel",
      "_view_count": null,
      "_view_module": "@jupyter-widgets/controls",
      "_view_module_version": "1.5.0",
      "_view_name": "HTMLView",
      "description": "",
      "description_tooltip": null,
      "layout": "IPY_MODEL_0dc8b33a6b124c0d8bf2b94953982567",
      "placeholder": "​",
      "style": "IPY_MODEL_8a9621b7ab3d4947876ffbc7f7f0e776",
      "value": "Validation DataLoader 0: 100%"
     }
    },
    "74fadf498751422bb441dbc44f43e65a": {
     "model_module": "@jupyter-widgets/controls",
     "model_module_version": "1.5.0",
     "model_name": "DescriptionStyleModel",
     "state": {
      "_model_module": "@jupyter-widgets/controls",
      "_model_module_version": "1.5.0",
      "_model_name": "DescriptionStyleModel",
      "_view_count": null,
      "_view_module": "@jupyter-widgets/base",
      "_view_module_version": "1.2.0",
      "_view_name": "StyleView",
      "description_width": ""
     }
    },
    "770be2f0c7d4476783faa6472f2ba8b1": {
     "model_module": "@jupyter-widgets/controls",
     "model_module_version": "1.5.0",
     "model_name": "DescriptionStyleModel",
     "state": {
      "_model_module": "@jupyter-widgets/controls",
      "_model_module_version": "1.5.0",
      "_model_name": "DescriptionStyleModel",
      "_view_count": null,
      "_view_module": "@jupyter-widgets/base",
      "_view_module_version": "1.2.0",
      "_view_name": "StyleView",
      "description_width": ""
     }
    },
    "78c0ac9d274e4169aff9a07c6d6a1ca0": {
     "model_module": "@jupyter-widgets/base",
     "model_module_version": "1.2.0",
     "model_name": "LayoutModel",
     "state": {
      "_model_module": "@jupyter-widgets/base",
      "_model_module_version": "1.2.0",
      "_model_name": "LayoutModel",
      "_view_count": null,
      "_view_module": "@jupyter-widgets/base",
      "_view_module_version": "1.2.0",
      "_view_name": "LayoutView",
      "align_content": null,
      "align_items": null,
      "align_self": null,
      "border": null,
      "bottom": null,
      "display": null,
      "flex": null,
      "flex_flow": null,
      "grid_area": null,
      "grid_auto_columns": null,
      "grid_auto_flow": null,
      "grid_auto_rows": null,
      "grid_column": null,
      "grid_gap": null,
      "grid_row": null,
      "grid_template_areas": null,
      "grid_template_columns": null,
      "grid_template_rows": null,
      "height": null,
      "justify_content": null,
      "justify_items": null,
      "left": null,
      "margin": null,
      "max_height": null,
      "max_width": null,
      "min_height": null,
      "min_width": null,
      "object_fit": null,
      "object_position": null,
      "order": null,
      "overflow": null,
      "overflow_x": null,
      "overflow_y": null,
      "padding": null,
      "right": null,
      "top": null,
      "visibility": null,
      "width": null
     }
    },
    "7ac0666c390d4d51b7498b855cd51f94": {
     "model_module": "@jupyter-widgets/base",
     "model_module_version": "1.2.0",
     "model_name": "LayoutModel",
     "state": {
      "_model_module": "@jupyter-widgets/base",
      "_model_module_version": "1.2.0",
      "_model_name": "LayoutModel",
      "_view_count": null,
      "_view_module": "@jupyter-widgets/base",
      "_view_module_version": "1.2.0",
      "_view_name": "LayoutView",
      "align_content": null,
      "align_items": null,
      "align_self": null,
      "border": null,
      "bottom": null,
      "display": null,
      "flex": null,
      "flex_flow": null,
      "grid_area": null,
      "grid_auto_columns": null,
      "grid_auto_flow": null,
      "grid_auto_rows": null,
      "grid_column": null,
      "grid_gap": null,
      "grid_row": null,
      "grid_template_areas": null,
      "grid_template_columns": null,
      "grid_template_rows": null,
      "height": null,
      "justify_content": null,
      "justify_items": null,
      "left": null,
      "margin": null,
      "max_height": null,
      "max_width": null,
      "min_height": null,
      "min_width": null,
      "object_fit": null,
      "object_position": null,
      "order": null,
      "overflow": null,
      "overflow_x": null,
      "overflow_y": null,
      "padding": null,
      "right": null,
      "top": null,
      "visibility": null,
      "width": null
     }
    },
    "7b52f8376e444e3ca2057c6d55d8455e": {
     "model_module": "@jupyter-widgets/controls",
     "model_module_version": "1.5.0",
     "model_name": "HTMLModel",
     "state": {
      "_dom_classes": [],
      "_model_module": "@jupyter-widgets/controls",
      "_model_module_version": "1.5.0",
      "_model_name": "HTMLModel",
      "_view_count": null,
      "_view_module": "@jupyter-widgets/controls",
      "_view_module_version": "1.5.0",
      "_view_name": "HTMLView",
      "description": "",
      "description_tooltip": null,
      "layout": "IPY_MODEL_1bca1c5f9b15443cbea56ec63cda3bd7",
      "placeholder": "​",
      "style": "IPY_MODEL_89f39e95d19c48869b0f7f5f2c6d2a73",
      "value": " 16/16 [00:00&lt;00:00, 159.46it/s]"
     }
    },
    "7ba52a77bf6c4cbfb1100bac26995aeb": {
     "model_module": "@jupyter-widgets/controls",
     "model_module_version": "1.5.0",
     "model_name": "ProgressStyleModel",
     "state": {
      "_model_module": "@jupyter-widgets/controls",
      "_model_module_version": "1.5.0",
      "_model_name": "ProgressStyleModel",
      "_view_count": null,
      "_view_module": "@jupyter-widgets/base",
      "_view_module_version": "1.2.0",
      "_view_name": "StyleView",
      "bar_color": null,
      "description_width": ""
     }
    },
    "7d820ed5530a45ffb1e097624c5d7d1f": {
     "model_module": "@jupyter-widgets/base",
     "model_module_version": "1.2.0",
     "model_name": "LayoutModel",
     "state": {
      "_model_module": "@jupyter-widgets/base",
      "_model_module_version": "1.2.0",
      "_model_name": "LayoutModel",
      "_view_count": null,
      "_view_module": "@jupyter-widgets/base",
      "_view_module_version": "1.2.0",
      "_view_name": "LayoutView",
      "align_content": null,
      "align_items": null,
      "align_self": null,
      "border": null,
      "bottom": null,
      "display": null,
      "flex": "2",
      "flex_flow": null,
      "grid_area": null,
      "grid_auto_columns": null,
      "grid_auto_flow": null,
      "grid_auto_rows": null,
      "grid_column": null,
      "grid_gap": null,
      "grid_row": null,
      "grid_template_areas": null,
      "grid_template_columns": null,
      "grid_template_rows": null,
      "height": null,
      "justify_content": null,
      "justify_items": null,
      "left": null,
      "margin": null,
      "max_height": null,
      "max_width": null,
      "min_height": null,
      "min_width": null,
      "object_fit": null,
      "object_position": null,
      "order": null,
      "overflow": null,
      "overflow_x": null,
      "overflow_y": null,
      "padding": null,
      "right": null,
      "top": null,
      "visibility": null,
      "width": null
     }
    },
    "7e267abec14a4119b7706ef37a838a6b": {
     "model_module": "@jupyter-widgets/controls",
     "model_module_version": "1.5.0",
     "model_name": "HTMLModel",
     "state": {
      "_dom_classes": [],
      "_model_module": "@jupyter-widgets/controls",
      "_model_module_version": "1.5.0",
      "_model_name": "HTMLModel",
      "_view_count": null,
      "_view_module": "@jupyter-widgets/controls",
      "_view_module_version": "1.5.0",
      "_view_name": "HTMLView",
      "description": "",
      "description_tooltip": null,
      "layout": "IPY_MODEL_e9aa5da2f136403194c36c5bbcdfe0be",
      "placeholder": "​",
      "style": "IPY_MODEL_5ae01e44589349b093c686893aa817fc",
      "value": " 2/2 [00:00&lt;00:00,  2.43it/s]"
     }
    },
    "844e29381669488dbfa702eb4dd102fd": {
     "model_module": "@jupyter-widgets/controls",
     "model_module_version": "1.5.0",
     "model_name": "DescriptionStyleModel",
     "state": {
      "_model_module": "@jupyter-widgets/controls",
      "_model_module_version": "1.5.0",
      "_model_name": "DescriptionStyleModel",
      "_view_count": null,
      "_view_module": "@jupyter-widgets/base",
      "_view_module_version": "1.2.0",
      "_view_name": "StyleView",
      "description_width": ""
     }
    },
    "85a3fd38d4ef41c49761f7ccd3ac47d0": {
     "model_module": "@jupyter-widgets/base",
     "model_module_version": "1.2.0",
     "model_name": "LayoutModel",
     "state": {
      "_model_module": "@jupyter-widgets/base",
      "_model_module_version": "1.2.0",
      "_model_name": "LayoutModel",
      "_view_count": null,
      "_view_module": "@jupyter-widgets/base",
      "_view_module_version": "1.2.0",
      "_view_name": "LayoutView",
      "align_content": null,
      "align_items": null,
      "align_self": null,
      "border": null,
      "bottom": null,
      "display": null,
      "flex": "2",
      "flex_flow": null,
      "grid_area": null,
      "grid_auto_columns": null,
      "grid_auto_flow": null,
      "grid_auto_rows": null,
      "grid_column": null,
      "grid_gap": null,
      "grid_row": null,
      "grid_template_areas": null,
      "grid_template_columns": null,
      "grid_template_rows": null,
      "height": null,
      "justify_content": null,
      "justify_items": null,
      "left": null,
      "margin": null,
      "max_height": null,
      "max_width": null,
      "min_height": null,
      "min_width": null,
      "object_fit": null,
      "object_position": null,
      "order": null,
      "overflow": null,
      "overflow_x": null,
      "overflow_y": null,
      "padding": null,
      "right": null,
      "top": null,
      "visibility": null,
      "width": null
     }
    },
    "85e01770bfaf4244a3089c411153bb8f": {
     "model_module": "@jupyter-widgets/base",
     "model_module_version": "1.2.0",
     "model_name": "LayoutModel",
     "state": {
      "_model_module": "@jupyter-widgets/base",
      "_model_module_version": "1.2.0",
      "_model_name": "LayoutModel",
      "_view_count": null,
      "_view_module": "@jupyter-widgets/base",
      "_view_module_version": "1.2.0",
      "_view_name": "LayoutView",
      "align_content": null,
      "align_items": null,
      "align_self": null,
      "border": null,
      "bottom": null,
      "display": "inline-flex",
      "flex": null,
      "flex_flow": "row wrap",
      "grid_area": null,
      "grid_auto_columns": null,
      "grid_auto_flow": null,
      "grid_auto_rows": null,
      "grid_column": null,
      "grid_gap": null,
      "grid_row": null,
      "grid_template_areas": null,
      "grid_template_columns": null,
      "grid_template_rows": null,
      "height": null,
      "justify_content": null,
      "justify_items": null,
      "left": null,
      "margin": null,
      "max_height": null,
      "max_width": null,
      "min_height": null,
      "min_width": null,
      "object_fit": null,
      "object_position": null,
      "order": null,
      "overflow": null,
      "overflow_x": null,
      "overflow_y": null,
      "padding": null,
      "right": null,
      "top": null,
      "visibility": "hidden",
      "width": "100%"
     }
    },
    "890445c5b507444da8f79c0939b900c1": {
     "model_module": "@jupyter-widgets/controls",
     "model_module_version": "1.5.0",
     "model_name": "HTMLModel",
     "state": {
      "_dom_classes": [],
      "_model_module": "@jupyter-widgets/controls",
      "_model_module_version": "1.5.0",
      "_model_name": "HTMLModel",
      "_view_count": null,
      "_view_module": "@jupyter-widgets/controls",
      "_view_module_version": "1.5.0",
      "_view_name": "HTMLView",
      "description": "",
      "description_tooltip": null,
      "layout": "IPY_MODEL_b866a5ef7f4942e7ae92891b27476664",
      "placeholder": "​",
      "style": "IPY_MODEL_d24e50f3629a4d8194daeaf03ae1d1df",
      "value": "Validation DataLoader 0: 100%"
     }
    },
    "891724b908384397941acd51f2af9ef9": {
     "model_module": "@jupyter-widgets/controls",
     "model_module_version": "1.5.0",
     "model_name": "ProgressStyleModel",
     "state": {
      "_model_module": "@jupyter-widgets/controls",
      "_model_module_version": "1.5.0",
      "_model_name": "ProgressStyleModel",
      "_view_count": null,
      "_view_module": "@jupyter-widgets/base",
      "_view_module_version": "1.2.0",
      "_view_name": "StyleView",
      "bar_color": null,
      "description_width": ""
     }
    },
    "89f39e95d19c48869b0f7f5f2c6d2a73": {
     "model_module": "@jupyter-widgets/controls",
     "model_module_version": "1.5.0",
     "model_name": "DescriptionStyleModel",
     "state": {
      "_model_module": "@jupyter-widgets/controls",
      "_model_module_version": "1.5.0",
      "_model_name": "DescriptionStyleModel",
      "_view_count": null,
      "_view_module": "@jupyter-widgets/base",
      "_view_module_version": "1.2.0",
      "_view_name": "StyleView",
      "description_width": ""
     }
    },
    "8a373d48259743eea12d2102bcde6678": {
     "model_module": "@jupyter-widgets/controls",
     "model_module_version": "1.5.0",
     "model_name": "HTMLModel",
     "state": {
      "_dom_classes": [],
      "_model_module": "@jupyter-widgets/controls",
      "_model_module_version": "1.5.0",
      "_model_name": "HTMLModel",
      "_view_count": null,
      "_view_module": "@jupyter-widgets/controls",
      "_view_module_version": "1.5.0",
      "_view_name": "HTMLView",
      "description": "",
      "description_tooltip": null,
      "layout": "IPY_MODEL_e796bc4ba8f74b2683900e2fb59a6a32",
      "placeholder": "​",
      "style": "IPY_MODEL_5d5c1fedd14347f3bff1c450276f12bd",
      "value": " 16/16 [00:00&lt;00:00, 141.16it/s]"
     }
    },
    "8a9621b7ab3d4947876ffbc7f7f0e776": {
     "model_module": "@jupyter-widgets/controls",
     "model_module_version": "1.5.0",
     "model_name": "DescriptionStyleModel",
     "state": {
      "_model_module": "@jupyter-widgets/controls",
      "_model_module_version": "1.5.0",
      "_model_name": "DescriptionStyleModel",
      "_view_count": null,
      "_view_module": "@jupyter-widgets/base",
      "_view_module_version": "1.2.0",
      "_view_name": "StyleView",
      "description_width": ""
     }
    },
    "8b4deee5718d4ee6aed85b032da94791": {
     "model_module": "@jupyter-widgets/controls",
     "model_module_version": "1.5.0",
     "model_name": "ProgressStyleModel",
     "state": {
      "_model_module": "@jupyter-widgets/controls",
      "_model_module_version": "1.5.0",
      "_model_name": "ProgressStyleModel",
      "_view_count": null,
      "_view_module": "@jupyter-widgets/base",
      "_view_module_version": "1.2.0",
      "_view_name": "StyleView",
      "bar_color": null,
      "description_width": ""
     }
    },
    "92f061433bb540da8b9974093540e055": {
     "model_module": "@jupyter-widgets/controls",
     "model_module_version": "1.5.0",
     "model_name": "DescriptionStyleModel",
     "state": {
      "_model_module": "@jupyter-widgets/controls",
      "_model_module_version": "1.5.0",
      "_model_name": "DescriptionStyleModel",
      "_view_count": null,
      "_view_module": "@jupyter-widgets/base",
      "_view_module_version": "1.2.0",
      "_view_name": "StyleView",
      "description_width": ""
     }
    },
    "93841c45130449e19adc7af7be63bd93": {
     "model_module": "@jupyter-widgets/controls",
     "model_module_version": "1.5.0",
     "model_name": "ProgressStyleModel",
     "state": {
      "_model_module": "@jupyter-widgets/controls",
      "_model_module_version": "1.5.0",
      "_model_name": "ProgressStyleModel",
      "_view_count": null,
      "_view_module": "@jupyter-widgets/base",
      "_view_module_version": "1.2.0",
      "_view_name": "StyleView",
      "bar_color": null,
      "description_width": ""
     }
    },
    "96c1b5aff6cb4278bb76ac4ca74fe8b1": {
     "model_module": "@jupyter-widgets/base",
     "model_module_version": "1.2.0",
     "model_name": "LayoutModel",
     "state": {
      "_model_module": "@jupyter-widgets/base",
      "_model_module_version": "1.2.0",
      "_model_name": "LayoutModel",
      "_view_count": null,
      "_view_module": "@jupyter-widgets/base",
      "_view_module_version": "1.2.0",
      "_view_name": "LayoutView",
      "align_content": null,
      "align_items": null,
      "align_self": null,
      "border": null,
      "bottom": null,
      "display": null,
      "flex": null,
      "flex_flow": null,
      "grid_area": null,
      "grid_auto_columns": null,
      "grid_auto_flow": null,
      "grid_auto_rows": null,
      "grid_column": null,
      "grid_gap": null,
      "grid_row": null,
      "grid_template_areas": null,
      "grid_template_columns": null,
      "grid_template_rows": null,
      "height": null,
      "justify_content": null,
      "justify_items": null,
      "left": null,
      "margin": null,
      "max_height": null,
      "max_width": null,
      "min_height": null,
      "min_width": null,
      "object_fit": null,
      "object_position": null,
      "order": null,
      "overflow": null,
      "overflow_x": null,
      "overflow_y": null,
      "padding": null,
      "right": null,
      "top": null,
      "visibility": null,
      "width": null
     }
    },
    "970851078864459eabaee24b8e8b6ebf": {
     "model_module": "@jupyter-widgets/controls",
     "model_module_version": "1.5.0",
     "model_name": "ProgressStyleModel",
     "state": {
      "_model_module": "@jupyter-widgets/controls",
      "_model_module_version": "1.5.0",
      "_model_name": "ProgressStyleModel",
      "_view_count": null,
      "_view_module": "@jupyter-widgets/base",
      "_view_module_version": "1.2.0",
      "_view_name": "StyleView",
      "bar_color": null,
      "description_width": ""
     }
    },
    "9735583d80c9466d9ab5d589a85e33b3": {
     "model_module": "@jupyter-widgets/base",
     "model_module_version": "1.2.0",
     "model_name": "LayoutModel",
     "state": {
      "_model_module": "@jupyter-widgets/base",
      "_model_module_version": "1.2.0",
      "_model_name": "LayoutModel",
      "_view_count": null,
      "_view_module": "@jupyter-widgets/base",
      "_view_module_version": "1.2.0",
      "_view_name": "LayoutView",
      "align_content": null,
      "align_items": null,
      "align_self": null,
      "border": null,
      "bottom": null,
      "display": null,
      "flex": null,
      "flex_flow": null,
      "grid_area": null,
      "grid_auto_columns": null,
      "grid_auto_flow": null,
      "grid_auto_rows": null,
      "grid_column": null,
      "grid_gap": null,
      "grid_row": null,
      "grid_template_areas": null,
      "grid_template_columns": null,
      "grid_template_rows": null,
      "height": null,
      "justify_content": null,
      "justify_items": null,
      "left": null,
      "margin": null,
      "max_height": null,
      "max_width": null,
      "min_height": null,
      "min_width": null,
      "object_fit": null,
      "object_position": null,
      "order": null,
      "overflow": null,
      "overflow_x": null,
      "overflow_y": null,
      "padding": null,
      "right": null,
      "top": null,
      "visibility": null,
      "width": null
     }
    },
    "999bbcc41bef48869ea265d65c636880": {
     "model_module": "@jupyter-widgets/controls",
     "model_module_version": "1.5.0",
     "model_name": "HBoxModel",
     "state": {
      "_dom_classes": [],
      "_model_module": "@jupyter-widgets/controls",
      "_model_module_version": "1.5.0",
      "_model_name": "HBoxModel",
      "_view_count": null,
      "_view_module": "@jupyter-widgets/controls",
      "_view_module_version": "1.5.0",
      "_view_name": "HBoxView",
      "box_style": "",
      "children": [
       "IPY_MODEL_4aeb007be23e4b5fa39ed80f068869f9",
       "IPY_MODEL_a4a53d9e17aa44ca95c1173adb684aec",
       "IPY_MODEL_7e267abec14a4119b7706ef37a838a6b"
      ],
      "layout": "IPY_MODEL_85e01770bfaf4244a3089c411153bb8f"
     }
    },
    "9aba3b00d0554cf1b0a4ec07bf115ec2": {
     "model_module": "@jupyter-widgets/base",
     "model_module_version": "1.2.0",
     "model_name": "LayoutModel",
     "state": {
      "_model_module": "@jupyter-widgets/base",
      "_model_module_version": "1.2.0",
      "_model_name": "LayoutModel",
      "_view_count": null,
      "_view_module": "@jupyter-widgets/base",
      "_view_module_version": "1.2.0",
      "_view_name": "LayoutView",
      "align_content": null,
      "align_items": null,
      "align_self": null,
      "border": null,
      "bottom": null,
      "display": null,
      "flex": null,
      "flex_flow": null,
      "grid_area": null,
      "grid_auto_columns": null,
      "grid_auto_flow": null,
      "grid_auto_rows": null,
      "grid_column": null,
      "grid_gap": null,
      "grid_row": null,
      "grid_template_areas": null,
      "grid_template_columns": null,
      "grid_template_rows": null,
      "height": null,
      "justify_content": null,
      "justify_items": null,
      "left": null,
      "margin": null,
      "max_height": null,
      "max_width": null,
      "min_height": null,
      "min_width": null,
      "object_fit": null,
      "object_position": null,
      "order": null,
      "overflow": null,
      "overflow_x": null,
      "overflow_y": null,
      "padding": null,
      "right": null,
      "top": null,
      "visibility": null,
      "width": null
     }
    },
    "9bd4e7029df046bcb407f6a35a4f0a25": {
     "model_module": "@jupyter-widgets/base",
     "model_module_version": "1.2.0",
     "model_name": "LayoutModel",
     "state": {
      "_model_module": "@jupyter-widgets/base",
      "_model_module_version": "1.2.0",
      "_model_name": "LayoutModel",
      "_view_count": null,
      "_view_module": "@jupyter-widgets/base",
      "_view_module_version": "1.2.0",
      "_view_name": "LayoutView",
      "align_content": null,
      "align_items": null,
      "align_self": null,
      "border": null,
      "bottom": null,
      "display": null,
      "flex": "2",
      "flex_flow": null,
      "grid_area": null,
      "grid_auto_columns": null,
      "grid_auto_flow": null,
      "grid_auto_rows": null,
      "grid_column": null,
      "grid_gap": null,
      "grid_row": null,
      "grid_template_areas": null,
      "grid_template_columns": null,
      "grid_template_rows": null,
      "height": null,
      "justify_content": null,
      "justify_items": null,
      "left": null,
      "margin": null,
      "max_height": null,
      "max_width": null,
      "min_height": null,
      "min_width": null,
      "object_fit": null,
      "object_position": null,
      "order": null,
      "overflow": null,
      "overflow_x": null,
      "overflow_y": null,
      "padding": null,
      "right": null,
      "top": null,
      "visibility": null,
      "width": null
     }
    },
    "9cd83dd2c4b24a2888d12ec28609c69b": {
     "model_module": "@jupyter-widgets/controls",
     "model_module_version": "1.5.0",
     "model_name": "ProgressStyleModel",
     "state": {
      "_model_module": "@jupyter-widgets/controls",
      "_model_module_version": "1.5.0",
      "_model_name": "ProgressStyleModel",
      "_view_count": null,
      "_view_module": "@jupyter-widgets/base",
      "_view_module_version": "1.2.0",
      "_view_name": "StyleView",
      "bar_color": null,
      "description_width": ""
     }
    },
    "a0438d8fa97e4e69930faf766559f3f6": {
     "model_module": "@jupyter-widgets/controls",
     "model_module_version": "1.5.0",
     "model_name": "DescriptionStyleModel",
     "state": {
      "_model_module": "@jupyter-widgets/controls",
      "_model_module_version": "1.5.0",
      "_model_name": "DescriptionStyleModel",
      "_view_count": null,
      "_view_module": "@jupyter-widgets/base",
      "_view_module_version": "1.2.0",
      "_view_name": "StyleView",
      "description_width": ""
     }
    },
    "a0baefff772243b7bb500a894752a1a3": {
     "model_module": "@jupyter-widgets/base",
     "model_module_version": "1.2.0",
     "model_name": "LayoutModel",
     "state": {
      "_model_module": "@jupyter-widgets/base",
      "_model_module_version": "1.2.0",
      "_model_name": "LayoutModel",
      "_view_count": null,
      "_view_module": "@jupyter-widgets/base",
      "_view_module_version": "1.2.0",
      "_view_name": "LayoutView",
      "align_content": null,
      "align_items": null,
      "align_self": null,
      "border": null,
      "bottom": null,
      "display": null,
      "flex": "2",
      "flex_flow": null,
      "grid_area": null,
      "grid_auto_columns": null,
      "grid_auto_flow": null,
      "grid_auto_rows": null,
      "grid_column": null,
      "grid_gap": null,
      "grid_row": null,
      "grid_template_areas": null,
      "grid_template_columns": null,
      "grid_template_rows": null,
      "height": null,
      "justify_content": null,
      "justify_items": null,
      "left": null,
      "margin": null,
      "max_height": null,
      "max_width": null,
      "min_height": null,
      "min_width": null,
      "object_fit": null,
      "object_position": null,
      "order": null,
      "overflow": null,
      "overflow_x": null,
      "overflow_y": null,
      "padding": null,
      "right": null,
      "top": null,
      "visibility": null,
      "width": null
     }
    },
    "a0d9315de8354b0b9348370f7f81acbf": {
     "model_module": "@jupyter-widgets/controls",
     "model_module_version": "1.5.0",
     "model_name": "HTMLModel",
     "state": {
      "_dom_classes": [],
      "_model_module": "@jupyter-widgets/controls",
      "_model_module_version": "1.5.0",
      "_model_name": "HTMLModel",
      "_view_count": null,
      "_view_module": "@jupyter-widgets/controls",
      "_view_module_version": "1.5.0",
      "_view_name": "HTMLView",
      "description": "",
      "description_tooltip": null,
      "layout": "IPY_MODEL_7283e41b78bf4c7cb322f9f37db46be6",
      "placeholder": "​",
      "style": "IPY_MODEL_e57dd07c219042f688a2bddb72e569d1",
      "value": " 16/16 [00:00&lt;00:00, 208.42it/s]"
     }
    },
    "a1389025091741c4b55dfa64a2e3651f": {
     "model_module": "@jupyter-widgets/controls",
     "model_module_version": "1.5.0",
     "model_name": "DescriptionStyleModel",
     "state": {
      "_model_module": "@jupyter-widgets/controls",
      "_model_module_version": "1.5.0",
      "_model_name": "DescriptionStyleModel",
      "_view_count": null,
      "_view_module": "@jupyter-widgets/base",
      "_view_module_version": "1.2.0",
      "_view_name": "StyleView",
      "description_width": ""
     }
    },
    "a13a84cb79254c0e85eb41189b178546": {
     "model_module": "@jupyter-widgets/base",
     "model_module_version": "1.2.0",
     "model_name": "LayoutModel",
     "state": {
      "_model_module": "@jupyter-widgets/base",
      "_model_module_version": "1.2.0",
      "_model_name": "LayoutModel",
      "_view_count": null,
      "_view_module": "@jupyter-widgets/base",
      "_view_module_version": "1.2.0",
      "_view_name": "LayoutView",
      "align_content": null,
      "align_items": null,
      "align_self": null,
      "border": null,
      "bottom": null,
      "display": null,
      "flex": null,
      "flex_flow": null,
      "grid_area": null,
      "grid_auto_columns": null,
      "grid_auto_flow": null,
      "grid_auto_rows": null,
      "grid_column": null,
      "grid_gap": null,
      "grid_row": null,
      "grid_template_areas": null,
      "grid_template_columns": null,
      "grid_template_rows": null,
      "height": null,
      "justify_content": null,
      "justify_items": null,
      "left": null,
      "margin": null,
      "max_height": null,
      "max_width": null,
      "min_height": null,
      "min_width": null,
      "object_fit": null,
      "object_position": null,
      "order": null,
      "overflow": null,
      "overflow_x": null,
      "overflow_y": null,
      "padding": null,
      "right": null,
      "top": null,
      "visibility": null,
      "width": null
     }
    },
    "a2e4721da8624b619d12b3d2d10a9736": {
     "model_module": "@jupyter-widgets/controls",
     "model_module_version": "1.5.0",
     "model_name": "HTMLModel",
     "state": {
      "_dom_classes": [],
      "_model_module": "@jupyter-widgets/controls",
      "_model_module_version": "1.5.0",
      "_model_name": "HTMLModel",
      "_view_count": null,
      "_view_module": "@jupyter-widgets/controls",
      "_view_module_version": "1.5.0",
      "_view_name": "HTMLView",
      "description": "",
      "description_tooltip": null,
      "layout": "IPY_MODEL_1ae3e5015beb4105b79bf97ea94f3611",
      "placeholder": "​",
      "style": "IPY_MODEL_770be2f0c7d4476783faa6472f2ba8b1",
      "value": " 16/16 [00:00&lt;00:00, 133.45it/s]"
     }
    },
    "a4a53d9e17aa44ca95c1173adb684aec": {
     "model_module": "@jupyter-widgets/controls",
     "model_module_version": "1.5.0",
     "model_name": "FloatProgressModel",
     "state": {
      "_dom_classes": [],
      "_model_module": "@jupyter-widgets/controls",
      "_model_module_version": "1.5.0",
      "_model_name": "FloatProgressModel",
      "_view_count": null,
      "_view_module": "@jupyter-widgets/controls",
      "_view_module_version": "1.5.0",
      "_view_name": "ProgressView",
      "bar_style": "",
      "description": "",
      "description_tooltip": null,
      "layout": "IPY_MODEL_af53864c032446b693e631fd0cb9484d",
      "max": 2,
      "min": 0,
      "orientation": "horizontal",
      "style": "IPY_MODEL_301b7be27788488ab8130bfca2921d5a",
      "value": 2
     }
    },
    "a5c01866f02948b1a33e8dae921c3502": {
     "model_module": "@jupyter-widgets/controls",
     "model_module_version": "1.5.0",
     "model_name": "FloatProgressModel",
     "state": {
      "_dom_classes": [],
      "_model_module": "@jupyter-widgets/controls",
      "_model_module_version": "1.5.0",
      "_model_name": "FloatProgressModel",
      "_view_count": null,
      "_view_module": "@jupyter-widgets/controls",
      "_view_module_version": "1.5.0",
      "_view_name": "ProgressView",
      "bar_style": "",
      "description": "",
      "description_tooltip": null,
      "layout": "IPY_MODEL_47f21d47b1cd4e8a95d99fb18162629f",
      "max": 16,
      "min": 0,
      "orientation": "horizontal",
      "style": "IPY_MODEL_8b4deee5718d4ee6aed85b032da94791",
      "value": 16
     }
    },
    "ab1f3ecc78bc47fe9b5c4f3e3abdec7f": {
     "model_module": "@jupyter-widgets/controls",
     "model_module_version": "1.5.0",
     "model_name": "HTMLModel",
     "state": {
      "_dom_classes": [],
      "_model_module": "@jupyter-widgets/controls",
      "_model_module_version": "1.5.0",
      "_model_name": "HTMLModel",
      "_view_count": null,
      "_view_module": "@jupyter-widgets/controls",
      "_view_module_version": "1.5.0",
      "_view_name": "HTMLView",
      "description": "",
      "description_tooltip": null,
      "layout": "IPY_MODEL_0e6863574d4e4ddd8ce11b696ba88390",
      "placeholder": "​",
      "style": "IPY_MODEL_a0438d8fa97e4e69930faf766559f3f6",
      "value": "Testing DataLoader 0: 100%"
     }
    },
    "ac32a96a10b14af68977229998034e38": {
     "model_module": "@jupyter-widgets/controls",
     "model_module_version": "1.5.0",
     "model_name": "HBoxModel",
     "state": {
      "_dom_classes": [],
      "_model_module": "@jupyter-widgets/controls",
      "_model_module_version": "1.5.0",
      "_model_name": "HBoxModel",
      "_view_count": null,
      "_view_module": "@jupyter-widgets/controls",
      "_view_module_version": "1.5.0",
      "_view_name": "HBoxView",
      "box_style": "",
      "children": [
       "IPY_MODEL_21a67c1f4170484b97abc1353e55caee",
       "IPY_MODEL_d526470cc0fb430e879eef36fcff1f21",
       "IPY_MODEL_2cdf14a6caba4856bfe7ab0eff0948cf"
      ],
      "layout": "IPY_MODEL_f44133af99a64f74a4b1ad7c36f296f9"
     }
    },
    "ac8603981b4f4ff780f637efe1a600b9": {
     "model_module": "@jupyter-widgets/base",
     "model_module_version": "1.2.0",
     "model_name": "LayoutModel",
     "state": {
      "_model_module": "@jupyter-widgets/base",
      "_model_module_version": "1.2.0",
      "_model_name": "LayoutModel",
      "_view_count": null,
      "_view_module": "@jupyter-widgets/base",
      "_view_module_version": "1.2.0",
      "_view_name": "LayoutView",
      "align_content": null,
      "align_items": null,
      "align_self": null,
      "border": null,
      "bottom": null,
      "display": null,
      "flex": null,
      "flex_flow": null,
      "grid_area": null,
      "grid_auto_columns": null,
      "grid_auto_flow": null,
      "grid_auto_rows": null,
      "grid_column": null,
      "grid_gap": null,
      "grid_row": null,
      "grid_template_areas": null,
      "grid_template_columns": null,
      "grid_template_rows": null,
      "height": null,
      "justify_content": null,
      "justify_items": null,
      "left": null,
      "margin": null,
      "max_height": null,
      "max_width": null,
      "min_height": null,
      "min_width": null,
      "object_fit": null,
      "object_position": null,
      "order": null,
      "overflow": null,
      "overflow_x": null,
      "overflow_y": null,
      "padding": null,
      "right": null,
      "top": null,
      "visibility": null,
      "width": null
     }
    },
    "ad123064d54649578118ecbef4548387": {
     "model_module": "@jupyter-widgets/controls",
     "model_module_version": "1.5.0",
     "model_name": "DescriptionStyleModel",
     "state": {
      "_model_module": "@jupyter-widgets/controls",
      "_model_module_version": "1.5.0",
      "_model_name": "DescriptionStyleModel",
      "_view_count": null,
      "_view_module": "@jupyter-widgets/base",
      "_view_module_version": "1.2.0",
      "_view_name": "StyleView",
      "description_width": ""
     }
    },
    "adf0854905a042e9be5ad64020541ade": {
     "model_module": "@jupyter-widgets/controls",
     "model_module_version": "1.5.0",
     "model_name": "ProgressStyleModel",
     "state": {
      "_model_module": "@jupyter-widgets/controls",
      "_model_module_version": "1.5.0",
      "_model_name": "ProgressStyleModel",
      "_view_count": null,
      "_view_module": "@jupyter-widgets/base",
      "_view_module_version": "1.2.0",
      "_view_name": "StyleView",
      "bar_color": null,
      "description_width": ""
     }
    },
    "af53864c032446b693e631fd0cb9484d": {
     "model_module": "@jupyter-widgets/base",
     "model_module_version": "1.2.0",
     "model_name": "LayoutModel",
     "state": {
      "_model_module": "@jupyter-widgets/base",
      "_model_module_version": "1.2.0",
      "_model_name": "LayoutModel",
      "_view_count": null,
      "_view_module": "@jupyter-widgets/base",
      "_view_module_version": "1.2.0",
      "_view_name": "LayoutView",
      "align_content": null,
      "align_items": null,
      "align_self": null,
      "border": null,
      "bottom": null,
      "display": null,
      "flex": "2",
      "flex_flow": null,
      "grid_area": null,
      "grid_auto_columns": null,
      "grid_auto_flow": null,
      "grid_auto_rows": null,
      "grid_column": null,
      "grid_gap": null,
      "grid_row": null,
      "grid_template_areas": null,
      "grid_template_columns": null,
      "grid_template_rows": null,
      "height": null,
      "justify_content": null,
      "justify_items": null,
      "left": null,
      "margin": null,
      "max_height": null,
      "max_width": null,
      "min_height": null,
      "min_width": null,
      "object_fit": null,
      "object_position": null,
      "order": null,
      "overflow": null,
      "overflow_x": null,
      "overflow_y": null,
      "padding": null,
      "right": null,
      "top": null,
      "visibility": null,
      "width": null
     }
    },
    "b3cc38b54b7c4eb88088382c7a684718": {
     "model_module": "@jupyter-widgets/controls",
     "model_module_version": "1.5.0",
     "model_name": "ProgressStyleModel",
     "state": {
      "_model_module": "@jupyter-widgets/controls",
      "_model_module_version": "1.5.0",
      "_model_name": "ProgressStyleModel",
      "_view_count": null,
      "_view_module": "@jupyter-widgets/base",
      "_view_module_version": "1.2.0",
      "_view_name": "StyleView",
      "bar_color": null,
      "description_width": ""
     }
    },
    "b5d7042653f141df89d1a140b6ac41d0": {
     "model_module": "@jupyter-widgets/controls",
     "model_module_version": "1.5.0",
     "model_name": "HTMLModel",
     "state": {
      "_dom_classes": [],
      "_model_module": "@jupyter-widgets/controls",
      "_model_module_version": "1.5.0",
      "_model_name": "HTMLModel",
      "_view_count": null,
      "_view_module": "@jupyter-widgets/controls",
      "_view_module_version": "1.5.0",
      "_view_name": "HTMLView",
      "description": "",
      "description_tooltip": null,
      "layout": "IPY_MODEL_60113245ddf54346890fbdd26585c30d",
      "placeholder": "​",
      "style": "IPY_MODEL_4b27742f05cb40768c8b3fd8729ae70f",
      "value": "Validation DataLoader 0: 100%"
     }
    },
    "b5eceab4d74d4c13945e633f598e45b1": {
     "model_module": "@jupyter-widgets/base",
     "model_module_version": "1.2.0",
     "model_name": "LayoutModel",
     "state": {
      "_model_module": "@jupyter-widgets/base",
      "_model_module_version": "1.2.0",
      "_model_name": "LayoutModel",
      "_view_count": null,
      "_view_module": "@jupyter-widgets/base",
      "_view_module_version": "1.2.0",
      "_view_name": "LayoutView",
      "align_content": null,
      "align_items": null,
      "align_self": null,
      "border": null,
      "bottom": null,
      "display": null,
      "flex": "2",
      "flex_flow": null,
      "grid_area": null,
      "grid_auto_columns": null,
      "grid_auto_flow": null,
      "grid_auto_rows": null,
      "grid_column": null,
      "grid_gap": null,
      "grid_row": null,
      "grid_template_areas": null,
      "grid_template_columns": null,
      "grid_template_rows": null,
      "height": null,
      "justify_content": null,
      "justify_items": null,
      "left": null,
      "margin": null,
      "max_height": null,
      "max_width": null,
      "min_height": null,
      "min_width": null,
      "object_fit": null,
      "object_position": null,
      "order": null,
      "overflow": null,
      "overflow_x": null,
      "overflow_y": null,
      "padding": null,
      "right": null,
      "top": null,
      "visibility": null,
      "width": null
     }
    },
    "b71eb171dd41408db13ae49bd2f541f0": {
     "model_module": "@jupyter-widgets/base",
     "model_module_version": "1.2.0",
     "model_name": "LayoutModel",
     "state": {
      "_model_module": "@jupyter-widgets/base",
      "_model_module_version": "1.2.0",
      "_model_name": "LayoutModel",
      "_view_count": null,
      "_view_module": "@jupyter-widgets/base",
      "_view_module_version": "1.2.0",
      "_view_name": "LayoutView",
      "align_content": null,
      "align_items": null,
      "align_self": null,
      "border": null,
      "bottom": null,
      "display": null,
      "flex": null,
      "flex_flow": null,
      "grid_area": null,
      "grid_auto_columns": null,
      "grid_auto_flow": null,
      "grid_auto_rows": null,
      "grid_column": null,
      "grid_gap": null,
      "grid_row": null,
      "grid_template_areas": null,
      "grid_template_columns": null,
      "grid_template_rows": null,
      "height": null,
      "justify_content": null,
      "justify_items": null,
      "left": null,
      "margin": null,
      "max_height": null,
      "max_width": null,
      "min_height": null,
      "min_width": null,
      "object_fit": null,
      "object_position": null,
      "order": null,
      "overflow": null,
      "overflow_x": null,
      "overflow_y": null,
      "padding": null,
      "right": null,
      "top": null,
      "visibility": null,
      "width": null
     }
    },
    "b788b364f86243dd87443433ac878a60": {
     "model_module": "@jupyter-widgets/controls",
     "model_module_version": "1.5.0",
     "model_name": "DescriptionStyleModel",
     "state": {
      "_model_module": "@jupyter-widgets/controls",
      "_model_module_version": "1.5.0",
      "_model_name": "DescriptionStyleModel",
      "_view_count": null,
      "_view_module": "@jupyter-widgets/base",
      "_view_module_version": "1.2.0",
      "_view_name": "StyleView",
      "description_width": ""
     }
    },
    "b805c0ee16b54609a6765f8359c9a0bc": {
     "model_module": "@jupyter-widgets/controls",
     "model_module_version": "1.5.0",
     "model_name": "ProgressStyleModel",
     "state": {
      "_model_module": "@jupyter-widgets/controls",
      "_model_module_version": "1.5.0",
      "_model_name": "ProgressStyleModel",
      "_view_count": null,
      "_view_module": "@jupyter-widgets/base",
      "_view_module_version": "1.2.0",
      "_view_name": "StyleView",
      "bar_color": null,
      "description_width": ""
     }
    },
    "b85b51023b404dc894654096eaad6392": {
     "model_module": "@jupyter-widgets/controls",
     "model_module_version": "1.5.0",
     "model_name": "HBoxModel",
     "state": {
      "_dom_classes": [],
      "_model_module": "@jupyter-widgets/controls",
      "_model_module_version": "1.5.0",
      "_model_name": "HBoxModel",
      "_view_count": null,
      "_view_module": "@jupyter-widgets/controls",
      "_view_module_version": "1.5.0",
      "_view_name": "HBoxView",
      "box_style": "",
      "children": [
       "IPY_MODEL_ab1f3ecc78bc47fe9b5c4f3e3abdec7f",
       "IPY_MODEL_fcf66bf4d9fa4799bba3765b2aa7747c",
       "IPY_MODEL_8a373d48259743eea12d2102bcde6678"
      ],
      "layout": "IPY_MODEL_b961faac64484ccbb45b5df9699226f1"
     }
    },
    "b866a5ef7f4942e7ae92891b27476664": {
     "model_module": "@jupyter-widgets/base",
     "model_module_version": "1.2.0",
     "model_name": "LayoutModel",
     "state": {
      "_model_module": "@jupyter-widgets/base",
      "_model_module_version": "1.2.0",
      "_model_name": "LayoutModel",
      "_view_count": null,
      "_view_module": "@jupyter-widgets/base",
      "_view_module_version": "1.2.0",
      "_view_name": "LayoutView",
      "align_content": null,
      "align_items": null,
      "align_self": null,
      "border": null,
      "bottom": null,
      "display": null,
      "flex": null,
      "flex_flow": null,
      "grid_area": null,
      "grid_auto_columns": null,
      "grid_auto_flow": null,
      "grid_auto_rows": null,
      "grid_column": null,
      "grid_gap": null,
      "grid_row": null,
      "grid_template_areas": null,
      "grid_template_columns": null,
      "grid_template_rows": null,
      "height": null,
      "justify_content": null,
      "justify_items": null,
      "left": null,
      "margin": null,
      "max_height": null,
      "max_width": null,
      "min_height": null,
      "min_width": null,
      "object_fit": null,
      "object_position": null,
      "order": null,
      "overflow": null,
      "overflow_x": null,
      "overflow_y": null,
      "padding": null,
      "right": null,
      "top": null,
      "visibility": null,
      "width": null
     }
    },
    "b888d7d82f8e479b8262892c096636c4": {
     "model_module": "@jupyter-widgets/controls",
     "model_module_version": "1.5.0",
     "model_name": "HTMLModel",
     "state": {
      "_dom_classes": [],
      "_model_module": "@jupyter-widgets/controls",
      "_model_module_version": "1.5.0",
      "_model_name": "HTMLModel",
      "_view_count": null,
      "_view_module": "@jupyter-widgets/controls",
      "_view_module_version": "1.5.0",
      "_view_name": "HTMLView",
      "description": "",
      "description_tooltip": null,
      "layout": "IPY_MODEL_f80715c45b164874b899d9f81285b152",
      "placeholder": "​",
      "style": "IPY_MODEL_3f9d69bb96d84bc78f470b69aa3b3d92",
      "value": "Validation DataLoader 0: 100%"
     }
    },
    "b961faac64484ccbb45b5df9699226f1": {
     "model_module": "@jupyter-widgets/base",
     "model_module_version": "1.2.0",
     "model_name": "LayoutModel",
     "state": {
      "_model_module": "@jupyter-widgets/base",
      "_model_module_version": "1.2.0",
      "_model_name": "LayoutModel",
      "_view_count": null,
      "_view_module": "@jupyter-widgets/base",
      "_view_module_version": "1.2.0",
      "_view_name": "LayoutView",
      "align_content": null,
      "align_items": null,
      "align_self": null,
      "border": null,
      "bottom": null,
      "display": "inline-flex",
      "flex": null,
      "flex_flow": "row wrap",
      "grid_area": null,
      "grid_auto_columns": null,
      "grid_auto_flow": null,
      "grid_auto_rows": null,
      "grid_column": null,
      "grid_gap": null,
      "grid_row": null,
      "grid_template_areas": null,
      "grid_template_columns": null,
      "grid_template_rows": null,
      "height": null,
      "justify_content": null,
      "justify_items": null,
      "left": null,
      "margin": null,
      "max_height": null,
      "max_width": null,
      "min_height": null,
      "min_width": null,
      "object_fit": null,
      "object_position": null,
      "order": null,
      "overflow": null,
      "overflow_x": null,
      "overflow_y": null,
      "padding": null,
      "right": null,
      "top": null,
      "visibility": null,
      "width": "100%"
     }
    },
    "ba155b14fd81406aac134b2dd2abb107": {
     "model_module": "@jupyter-widgets/base",
     "model_module_version": "1.2.0",
     "model_name": "LayoutModel",
     "state": {
      "_model_module": "@jupyter-widgets/base",
      "_model_module_version": "1.2.0",
      "_model_name": "LayoutModel",
      "_view_count": null,
      "_view_module": "@jupyter-widgets/base",
      "_view_module_version": "1.2.0",
      "_view_name": "LayoutView",
      "align_content": null,
      "align_items": null,
      "align_self": null,
      "border": null,
      "bottom": null,
      "display": "inline-flex",
      "flex": null,
      "flex_flow": "row wrap",
      "grid_area": null,
      "grid_auto_columns": null,
      "grid_auto_flow": null,
      "grid_auto_rows": null,
      "grid_column": null,
      "grid_gap": null,
      "grid_row": null,
      "grid_template_areas": null,
      "grid_template_columns": null,
      "grid_template_rows": null,
      "height": null,
      "justify_content": null,
      "justify_items": null,
      "left": null,
      "margin": null,
      "max_height": null,
      "max_width": null,
      "min_height": null,
      "min_width": null,
      "object_fit": null,
      "object_position": null,
      "order": null,
      "overflow": null,
      "overflow_x": null,
      "overflow_y": null,
      "padding": null,
      "right": null,
      "top": null,
      "visibility": "hidden",
      "width": "100%"
     }
    },
    "bb473e144ffe421eb1ebbc32d3bfecaf": {
     "model_module": "@jupyter-widgets/base",
     "model_module_version": "1.2.0",
     "model_name": "LayoutModel",
     "state": {
      "_model_module": "@jupyter-widgets/base",
      "_model_module_version": "1.2.0",
      "_model_name": "LayoutModel",
      "_view_count": null,
      "_view_module": "@jupyter-widgets/base",
      "_view_module_version": "1.2.0",
      "_view_name": "LayoutView",
      "align_content": null,
      "align_items": null,
      "align_self": null,
      "border": null,
      "bottom": null,
      "display": "inline-flex",
      "flex": null,
      "flex_flow": "row wrap",
      "grid_area": null,
      "grid_auto_columns": null,
      "grid_auto_flow": null,
      "grid_auto_rows": null,
      "grid_column": null,
      "grid_gap": null,
      "grid_row": null,
      "grid_template_areas": null,
      "grid_template_columns": null,
      "grid_template_rows": null,
      "height": null,
      "justify_content": null,
      "justify_items": null,
      "left": null,
      "margin": null,
      "max_height": null,
      "max_width": null,
      "min_height": null,
      "min_width": null,
      "object_fit": null,
      "object_position": null,
      "order": null,
      "overflow": null,
      "overflow_x": null,
      "overflow_y": null,
      "padding": null,
      "right": null,
      "top": null,
      "visibility": "hidden",
      "width": "100%"
     }
    },
    "bbe8a0b4aa294219bb64b10cec8aed74": {
     "model_module": "@jupyter-widgets/controls",
     "model_module_version": "1.5.0",
     "model_name": "HBoxModel",
     "state": {
      "_dom_classes": [],
      "_model_module": "@jupyter-widgets/controls",
      "_model_module_version": "1.5.0",
      "_model_name": "HBoxModel",
      "_view_count": null,
      "_view_module": "@jupyter-widgets/controls",
      "_view_module_version": "1.5.0",
      "_view_name": "HBoxView",
      "box_style": "",
      "children": [
       "IPY_MODEL_b888d7d82f8e479b8262892c096636c4",
       "IPY_MODEL_a5c01866f02948b1a33e8dae921c3502",
       "IPY_MODEL_2756a6901913420cbc6d0888079f64dc"
      ],
      "layout": "IPY_MODEL_4db71391f6bb4c0190061856e2e831f7"
     }
    },
    "bcde6bf35d2b4e4080a63daf625bdf81": {
     "model_module": "@jupyter-widgets/controls",
     "model_module_version": "1.5.0",
     "model_name": "FloatProgressModel",
     "state": {
      "_dom_classes": [],
      "_model_module": "@jupyter-widgets/controls",
      "_model_module_version": "1.5.0",
      "_model_name": "FloatProgressModel",
      "_view_count": null,
      "_view_module": "@jupyter-widgets/controls",
      "_view_module_version": "1.5.0",
      "_view_name": "ProgressView",
      "bar_style": "",
      "description": "",
      "description_tooltip": null,
      "layout": "IPY_MODEL_16cdc341b4e14ad3b99fc88f700c4b23",
      "max": 16,
      "min": 0,
      "orientation": "horizontal",
      "style": "IPY_MODEL_252a29b1b52d499fb7401a9987a366b6",
      "value": 16
     }
    },
    "be305523edf04e25b2356bbb32e1f1e8": {
     "model_module": "@jupyter-widgets/base",
     "model_module_version": "1.2.0",
     "model_name": "LayoutModel",
     "state": {
      "_model_module": "@jupyter-widgets/base",
      "_model_module_version": "1.2.0",
      "_model_name": "LayoutModel",
      "_view_count": null,
      "_view_module": "@jupyter-widgets/base",
      "_view_module_version": "1.2.0",
      "_view_name": "LayoutView",
      "align_content": null,
      "align_items": null,
      "align_self": null,
      "border": null,
      "bottom": null,
      "display": null,
      "flex": null,
      "flex_flow": null,
      "grid_area": null,
      "grid_auto_columns": null,
      "grid_auto_flow": null,
      "grid_auto_rows": null,
      "grid_column": null,
      "grid_gap": null,
      "grid_row": null,
      "grid_template_areas": null,
      "grid_template_columns": null,
      "grid_template_rows": null,
      "height": null,
      "justify_content": null,
      "justify_items": null,
      "left": null,
      "margin": null,
      "max_height": null,
      "max_width": null,
      "min_height": null,
      "min_width": null,
      "object_fit": null,
      "object_position": null,
      "order": null,
      "overflow": null,
      "overflow_x": null,
      "overflow_y": null,
      "padding": null,
      "right": null,
      "top": null,
      "visibility": null,
      "width": null
     }
    },
    "be6879a284654b6e87bb3da74910d474": {
     "model_module": "@jupyter-widgets/base",
     "model_module_version": "1.2.0",
     "model_name": "LayoutModel",
     "state": {
      "_model_module": "@jupyter-widgets/base",
      "_model_module_version": "1.2.0",
      "_model_name": "LayoutModel",
      "_view_count": null,
      "_view_module": "@jupyter-widgets/base",
      "_view_module_version": "1.2.0",
      "_view_name": "LayoutView",
      "align_content": null,
      "align_items": null,
      "align_self": null,
      "border": null,
      "bottom": null,
      "display": null,
      "flex": "2",
      "flex_flow": null,
      "grid_area": null,
      "grid_auto_columns": null,
      "grid_auto_flow": null,
      "grid_auto_rows": null,
      "grid_column": null,
      "grid_gap": null,
      "grid_row": null,
      "grid_template_areas": null,
      "grid_template_columns": null,
      "grid_template_rows": null,
      "height": null,
      "justify_content": null,
      "justify_items": null,
      "left": null,
      "margin": null,
      "max_height": null,
      "max_width": null,
      "min_height": null,
      "min_width": null,
      "object_fit": null,
      "object_position": null,
      "order": null,
      "overflow": null,
      "overflow_x": null,
      "overflow_y": null,
      "padding": null,
      "right": null,
      "top": null,
      "visibility": null,
      "width": null
     }
    },
    "bea2408404624b2d9357c8bd4af61eb9": {
     "model_module": "@jupyter-widgets/controls",
     "model_module_version": "1.5.0",
     "model_name": "DescriptionStyleModel",
     "state": {
      "_model_module": "@jupyter-widgets/controls",
      "_model_module_version": "1.5.0",
      "_model_name": "DescriptionStyleModel",
      "_view_count": null,
      "_view_module": "@jupyter-widgets/base",
      "_view_module_version": "1.2.0",
      "_view_name": "StyleView",
      "description_width": ""
     }
    },
    "c09ca9c87a1c441b8743924031547618": {
     "model_module": "@jupyter-widgets/controls",
     "model_module_version": "1.5.0",
     "model_name": "FloatProgressModel",
     "state": {
      "_dom_classes": [],
      "_model_module": "@jupyter-widgets/controls",
      "_model_module_version": "1.5.0",
      "_model_name": "FloatProgressModel",
      "_view_count": null,
      "_view_module": "@jupyter-widgets/controls",
      "_view_module_version": "1.5.0",
      "_view_name": "ProgressView",
      "bar_style": "",
      "description": "",
      "description_tooltip": null,
      "layout": "IPY_MODEL_f2e3c05832ad481cb17a97ef24f15a63",
      "max": 16,
      "min": 0,
      "orientation": "horizontal",
      "style": "IPY_MODEL_b3cc38b54b7c4eb88088382c7a684718",
      "value": 16
     }
    },
    "c24286823daa47eabfaba3b358650deb": {
     "model_module": "@jupyter-widgets/controls",
     "model_module_version": "1.5.0",
     "model_name": "HTMLModel",
     "state": {
      "_dom_classes": [],
      "_model_module": "@jupyter-widgets/controls",
      "_model_module_version": "1.5.0",
      "_model_name": "HTMLModel",
      "_view_count": null,
      "_view_module": "@jupyter-widgets/controls",
      "_view_module_version": "1.5.0",
      "_view_name": "HTMLView",
      "description": "",
      "description_tooltip": null,
      "layout": "IPY_MODEL_be305523edf04e25b2356bbb32e1f1e8",
      "placeholder": "​",
      "style": "IPY_MODEL_bea2408404624b2d9357c8bd4af61eb9",
      "value": "Validation DataLoader 0: 100%"
     }
    },
    "c638dbca08ad492daaa548765284e914": {
     "model_module": "@jupyter-widgets/controls",
     "model_module_version": "1.5.0",
     "model_name": "ProgressStyleModel",
     "state": {
      "_model_module": "@jupyter-widgets/controls",
      "_model_module_version": "1.5.0",
      "_model_name": "ProgressStyleModel",
      "_view_count": null,
      "_view_module": "@jupyter-widgets/base",
      "_view_module_version": "1.2.0",
      "_view_name": "StyleView",
      "bar_color": null,
      "description_width": ""
     }
    },
    "c7e154b66c58409a95749fa0dfc28894": {
     "model_module": "@jupyter-widgets/base",
     "model_module_version": "1.2.0",
     "model_name": "LayoutModel",
     "state": {
      "_model_module": "@jupyter-widgets/base",
      "_model_module_version": "1.2.0",
      "_model_name": "LayoutModel",
      "_view_count": null,
      "_view_module": "@jupyter-widgets/base",
      "_view_module_version": "1.2.0",
      "_view_name": "LayoutView",
      "align_content": null,
      "align_items": null,
      "align_self": null,
      "border": null,
      "bottom": null,
      "display": null,
      "flex": "2",
      "flex_flow": null,
      "grid_area": null,
      "grid_auto_columns": null,
      "grid_auto_flow": null,
      "grid_auto_rows": null,
      "grid_column": null,
      "grid_gap": null,
      "grid_row": null,
      "grid_template_areas": null,
      "grid_template_columns": null,
      "grid_template_rows": null,
      "height": null,
      "justify_content": null,
      "justify_items": null,
      "left": null,
      "margin": null,
      "max_height": null,
      "max_width": null,
      "min_height": null,
      "min_width": null,
      "object_fit": null,
      "object_position": null,
      "order": null,
      "overflow": null,
      "overflow_x": null,
      "overflow_y": null,
      "padding": null,
      "right": null,
      "top": null,
      "visibility": null,
      "width": null
     }
    },
    "cc43ddab097b40b4ba8e98aac6b82229": {
     "model_module": "@jupyter-widgets/base",
     "model_module_version": "1.2.0",
     "model_name": "LayoutModel",
     "state": {
      "_model_module": "@jupyter-widgets/base",
      "_model_module_version": "1.2.0",
      "_model_name": "LayoutModel",
      "_view_count": null,
      "_view_module": "@jupyter-widgets/base",
      "_view_module_version": "1.2.0",
      "_view_name": "LayoutView",
      "align_content": null,
      "align_items": null,
      "align_self": null,
      "border": null,
      "bottom": null,
      "display": "inline-flex",
      "flex": null,
      "flex_flow": "row wrap",
      "grid_area": null,
      "grid_auto_columns": null,
      "grid_auto_flow": null,
      "grid_auto_rows": null,
      "grid_column": null,
      "grid_gap": null,
      "grid_row": null,
      "grid_template_areas": null,
      "grid_template_columns": null,
      "grid_template_rows": null,
      "height": null,
      "justify_content": null,
      "justify_items": null,
      "left": null,
      "margin": null,
      "max_height": null,
      "max_width": null,
      "min_height": null,
      "min_width": null,
      "object_fit": null,
      "object_position": null,
      "order": null,
      "overflow": null,
      "overflow_x": null,
      "overflow_y": null,
      "padding": null,
      "right": null,
      "top": null,
      "visibility": "hidden",
      "width": "100%"
     }
    },
    "cca8187bd7c449aaa33ec3fbaa9353bf": {
     "model_module": "@jupyter-widgets/controls",
     "model_module_version": "1.5.0",
     "model_name": "HBoxModel",
     "state": {
      "_dom_classes": [],
      "_model_module": "@jupyter-widgets/controls",
      "_model_module_version": "1.5.0",
      "_model_name": "HBoxModel",
      "_view_count": null,
      "_view_module": "@jupyter-widgets/controls",
      "_view_module_version": "1.5.0",
      "_view_name": "HBoxView",
      "box_style": "",
      "children": [
       "IPY_MODEL_fd38fed2db2c4c158aa387a77330c474",
       "IPY_MODEL_63af0ee7db414c48a8d52b0d4f4075bf",
       "IPY_MODEL_7b52f8376e444e3ca2057c6d55d8455e"
      ],
      "layout": "IPY_MODEL_1f879b6a154945599f612ef03cb979c4"
     }
    },
    "cf0d75d4cf31440ea7da290b60a494d5": {
     "model_module": "@jupyter-widgets/controls",
     "model_module_version": "1.5.0",
     "model_name": "DescriptionStyleModel",
     "state": {
      "_model_module": "@jupyter-widgets/controls",
      "_model_module_version": "1.5.0",
      "_model_name": "DescriptionStyleModel",
      "_view_count": null,
      "_view_module": "@jupyter-widgets/base",
      "_view_module_version": "1.2.0",
      "_view_name": "StyleView",
      "description_width": ""
     }
    },
    "d24e50f3629a4d8194daeaf03ae1d1df": {
     "model_module": "@jupyter-widgets/controls",
     "model_module_version": "1.5.0",
     "model_name": "DescriptionStyleModel",
     "state": {
      "_model_module": "@jupyter-widgets/controls",
      "_model_module_version": "1.5.0",
      "_model_name": "DescriptionStyleModel",
      "_view_count": null,
      "_view_module": "@jupyter-widgets/base",
      "_view_module_version": "1.2.0",
      "_view_name": "StyleView",
      "description_width": ""
     }
    },
    "d526470cc0fb430e879eef36fcff1f21": {
     "model_module": "@jupyter-widgets/controls",
     "model_module_version": "1.5.0",
     "model_name": "FloatProgressModel",
     "state": {
      "_dom_classes": [],
      "_model_module": "@jupyter-widgets/controls",
      "_model_module_version": "1.5.0",
      "_model_name": "FloatProgressModel",
      "_view_count": null,
      "_view_module": "@jupyter-widgets/controls",
      "_view_module_version": "1.5.0",
      "_view_name": "ProgressView",
      "bar_style": "",
      "description": "",
      "description_tooltip": null,
      "layout": "IPY_MODEL_04de25ef0ae342698247e8408ca97d3e",
      "max": 16,
      "min": 0,
      "orientation": "horizontal",
      "style": "IPY_MODEL_b805c0ee16b54609a6765f8359c9a0bc",
      "value": 16
     }
    },
    "d6be3f828e004062929540a4727831cf": {
     "model_module": "@jupyter-widgets/base",
     "model_module_version": "1.2.0",
     "model_name": "LayoutModel",
     "state": {
      "_model_module": "@jupyter-widgets/base",
      "_model_module_version": "1.2.0",
      "_model_name": "LayoutModel",
      "_view_count": null,
      "_view_module": "@jupyter-widgets/base",
      "_view_module_version": "1.2.0",
      "_view_name": "LayoutView",
      "align_content": null,
      "align_items": null,
      "align_self": null,
      "border": null,
      "bottom": null,
      "display": null,
      "flex": "2",
      "flex_flow": null,
      "grid_area": null,
      "grid_auto_columns": null,
      "grid_auto_flow": null,
      "grid_auto_rows": null,
      "grid_column": null,
      "grid_gap": null,
      "grid_row": null,
      "grid_template_areas": null,
      "grid_template_columns": null,
      "grid_template_rows": null,
      "height": null,
      "justify_content": null,
      "justify_items": null,
      "left": null,
      "margin": null,
      "max_height": null,
      "max_width": null,
      "min_height": null,
      "min_width": null,
      "object_fit": null,
      "object_position": null,
      "order": null,
      "overflow": null,
      "overflow_x": null,
      "overflow_y": null,
      "padding": null,
      "right": null,
      "top": null,
      "visibility": null,
      "width": null
     }
    },
    "d8fa4a19a89446d590a6b2d6c582969d": {
     "model_module": "@jupyter-widgets/controls",
     "model_module_version": "1.5.0",
     "model_name": "HTMLModel",
     "state": {
      "_dom_classes": [],
      "_model_module": "@jupyter-widgets/controls",
      "_model_module_version": "1.5.0",
      "_model_name": "HTMLModel",
      "_view_count": null,
      "_view_module": "@jupyter-widgets/controls",
      "_view_module_version": "1.5.0",
      "_view_name": "HTMLView",
      "description": "",
      "description_tooltip": null,
      "layout": "IPY_MODEL_39aa3ec9b98540a99e5368faae54b261",
      "placeholder": "​",
      "style": "IPY_MODEL_844e29381669488dbfa702eb4dd102fd",
      "value": " 16/16 [00:00&lt;00:00, 175.84it/s]"
     }
    },
    "dd74125e104542bbab18b9799475e436": {
     "model_module": "@jupyter-widgets/controls",
     "model_module_version": "1.5.0",
     "model_name": "HTMLModel",
     "state": {
      "_dom_classes": [],
      "_model_module": "@jupyter-widgets/controls",
      "_model_module_version": "1.5.0",
      "_model_name": "HTMLModel",
      "_view_count": null,
      "_view_module": "@jupyter-widgets/controls",
      "_view_module_version": "1.5.0",
      "_view_name": "HTMLView",
      "description": "",
      "description_tooltip": null,
      "layout": "IPY_MODEL_f5c98add9f7e4ceea17ed9d9bb227a49",
      "placeholder": "​",
      "style": "IPY_MODEL_18d0c9368b57404e972582aec1767559",
      "value": " 16/16 [00:00&lt;00:00, 143.70it/s]"
     }
    },
    "dee2ff672a88431aa25591462ffe6784": {
     "model_module": "@jupyter-widgets/controls",
     "model_module_version": "1.5.0",
     "model_name": "DescriptionStyleModel",
     "state": {
      "_model_module": "@jupyter-widgets/controls",
      "_model_module_version": "1.5.0",
      "_model_name": "DescriptionStyleModel",
      "_view_count": null,
      "_view_module": "@jupyter-widgets/base",
      "_view_module_version": "1.2.0",
      "_view_name": "StyleView",
      "description_width": ""
     }
    },
    "e160b994408e48e8a6e5d42a063664d4": {
     "model_module": "@jupyter-widgets/controls",
     "model_module_version": "1.5.0",
     "model_name": "HTMLModel",
     "state": {
      "_dom_classes": [],
      "_model_module": "@jupyter-widgets/controls",
      "_model_module_version": "1.5.0",
      "_model_name": "HTMLModel",
      "_view_count": null,
      "_view_module": "@jupyter-widgets/controls",
      "_view_module_version": "1.5.0",
      "_view_name": "HTMLView",
      "description": "",
      "description_tooltip": null,
      "layout": "IPY_MODEL_100c97d3c7a54a9cb44ba70131de2230",
      "placeholder": "​",
      "style": "IPY_MODEL_92f061433bb540da8b9974093540e055",
      "value": "Validation DataLoader 0: 100%"
     }
    },
    "e37c85fa63ef44249e1c068be93e2189": {
     "model_module": "@jupyter-widgets/controls",
     "model_module_version": "1.5.0",
     "model_name": "DescriptionStyleModel",
     "state": {
      "_model_module": "@jupyter-widgets/controls",
      "_model_module_version": "1.5.0",
      "_model_name": "DescriptionStyleModel",
      "_view_count": null,
      "_view_module": "@jupyter-widgets/base",
      "_view_module_version": "1.2.0",
      "_view_name": "StyleView",
      "description_width": ""
     }
    },
    "e3c581fd727b4b6e8518fa122f046e1f": {
     "model_module": "@jupyter-widgets/base",
     "model_module_version": "1.2.0",
     "model_name": "LayoutModel",
     "state": {
      "_model_module": "@jupyter-widgets/base",
      "_model_module_version": "1.2.0",
      "_model_name": "LayoutModel",
      "_view_count": null,
      "_view_module": "@jupyter-widgets/base",
      "_view_module_version": "1.2.0",
      "_view_name": "LayoutView",
      "align_content": null,
      "align_items": null,
      "align_self": null,
      "border": null,
      "bottom": null,
      "display": null,
      "flex": null,
      "flex_flow": null,
      "grid_area": null,
      "grid_auto_columns": null,
      "grid_auto_flow": null,
      "grid_auto_rows": null,
      "grid_column": null,
      "grid_gap": null,
      "grid_row": null,
      "grid_template_areas": null,
      "grid_template_columns": null,
      "grid_template_rows": null,
      "height": null,
      "justify_content": null,
      "justify_items": null,
      "left": null,
      "margin": null,
      "max_height": null,
      "max_width": null,
      "min_height": null,
      "min_width": null,
      "object_fit": null,
      "object_position": null,
      "order": null,
      "overflow": null,
      "overflow_x": null,
      "overflow_y": null,
      "padding": null,
      "right": null,
      "top": null,
      "visibility": null,
      "width": null
     }
    },
    "e57dd07c219042f688a2bddb72e569d1": {
     "model_module": "@jupyter-widgets/controls",
     "model_module_version": "1.5.0",
     "model_name": "DescriptionStyleModel",
     "state": {
      "_model_module": "@jupyter-widgets/controls",
      "_model_module_version": "1.5.0",
      "_model_name": "DescriptionStyleModel",
      "_view_count": null,
      "_view_module": "@jupyter-widgets/base",
      "_view_module_version": "1.2.0",
      "_view_name": "StyleView",
      "description_width": ""
     }
    },
    "e7840d5f6ba343e78482cc31ccf803be": {
     "model_module": "@jupyter-widgets/base",
     "model_module_version": "1.2.0",
     "model_name": "LayoutModel",
     "state": {
      "_model_module": "@jupyter-widgets/base",
      "_model_module_version": "1.2.0",
      "_model_name": "LayoutModel",
      "_view_count": null,
      "_view_module": "@jupyter-widgets/base",
      "_view_module_version": "1.2.0",
      "_view_name": "LayoutView",
      "align_content": null,
      "align_items": null,
      "align_self": null,
      "border": null,
      "bottom": null,
      "display": null,
      "flex": null,
      "flex_flow": null,
      "grid_area": null,
      "grid_auto_columns": null,
      "grid_auto_flow": null,
      "grid_auto_rows": null,
      "grid_column": null,
      "grid_gap": null,
      "grid_row": null,
      "grid_template_areas": null,
      "grid_template_columns": null,
      "grid_template_rows": null,
      "height": null,
      "justify_content": null,
      "justify_items": null,
      "left": null,
      "margin": null,
      "max_height": null,
      "max_width": null,
      "min_height": null,
      "min_width": null,
      "object_fit": null,
      "object_position": null,
      "order": null,
      "overflow": null,
      "overflow_x": null,
      "overflow_y": null,
      "padding": null,
      "right": null,
      "top": null,
      "visibility": null,
      "width": null
     }
    },
    "e796bc4ba8f74b2683900e2fb59a6a32": {
     "model_module": "@jupyter-widgets/base",
     "model_module_version": "1.2.0",
     "model_name": "LayoutModel",
     "state": {
      "_model_module": "@jupyter-widgets/base",
      "_model_module_version": "1.2.0",
      "_model_name": "LayoutModel",
      "_view_count": null,
      "_view_module": "@jupyter-widgets/base",
      "_view_module_version": "1.2.0",
      "_view_name": "LayoutView",
      "align_content": null,
      "align_items": null,
      "align_self": null,
      "border": null,
      "bottom": null,
      "display": null,
      "flex": null,
      "flex_flow": null,
      "grid_area": null,
      "grid_auto_columns": null,
      "grid_auto_flow": null,
      "grid_auto_rows": null,
      "grid_column": null,
      "grid_gap": null,
      "grid_row": null,
      "grid_template_areas": null,
      "grid_template_columns": null,
      "grid_template_rows": null,
      "height": null,
      "justify_content": null,
      "justify_items": null,
      "left": null,
      "margin": null,
      "max_height": null,
      "max_width": null,
      "min_height": null,
      "min_width": null,
      "object_fit": null,
      "object_position": null,
      "order": null,
      "overflow": null,
      "overflow_x": null,
      "overflow_y": null,
      "padding": null,
      "right": null,
      "top": null,
      "visibility": null,
      "width": null
     }
    },
    "e9aa5da2f136403194c36c5bbcdfe0be": {
     "model_module": "@jupyter-widgets/base",
     "model_module_version": "1.2.0",
     "model_name": "LayoutModel",
     "state": {
      "_model_module": "@jupyter-widgets/base",
      "_model_module_version": "1.2.0",
      "_model_name": "LayoutModel",
      "_view_count": null,
      "_view_module": "@jupyter-widgets/base",
      "_view_module_version": "1.2.0",
      "_view_name": "LayoutView",
      "align_content": null,
      "align_items": null,
      "align_self": null,
      "border": null,
      "bottom": null,
      "display": null,
      "flex": null,
      "flex_flow": null,
      "grid_area": null,
      "grid_auto_columns": null,
      "grid_auto_flow": null,
      "grid_auto_rows": null,
      "grid_column": null,
      "grid_gap": null,
      "grid_row": null,
      "grid_template_areas": null,
      "grid_template_columns": null,
      "grid_template_rows": null,
      "height": null,
      "justify_content": null,
      "justify_items": null,
      "left": null,
      "margin": null,
      "max_height": null,
      "max_width": null,
      "min_height": null,
      "min_width": null,
      "object_fit": null,
      "object_position": null,
      "order": null,
      "overflow": null,
      "overflow_x": null,
      "overflow_y": null,
      "padding": null,
      "right": null,
      "top": null,
      "visibility": null,
      "width": null
     }
    },
    "ed5ec83fe2914542aedf0d679f31ef8b": {
     "model_module": "@jupyter-widgets/controls",
     "model_module_version": "1.5.0",
     "model_name": "HBoxModel",
     "state": {
      "_dom_classes": [],
      "_model_module": "@jupyter-widgets/controls",
      "_model_module_version": "1.5.0",
      "_model_name": "HBoxModel",
      "_view_count": null,
      "_view_module": "@jupyter-widgets/controls",
      "_view_module_version": "1.5.0",
      "_view_name": "HBoxView",
      "box_style": "",
      "children": [
       "IPY_MODEL_4cc9217459e7473d9e0214a3c81c8543",
       "IPY_MODEL_51049d593bff444a9c9b8e339e1972cb",
       "IPY_MODEL_a0d9315de8354b0b9348370f7f81acbf"
      ],
      "layout": "IPY_MODEL_47365a8b79204198b1a082b6ebc8cf8c"
     }
    },
    "ef8dc1815fa44771b3dcbd5d2653dc33": {
     "model_module": "@jupyter-widgets/base",
     "model_module_version": "1.2.0",
     "model_name": "LayoutModel",
     "state": {
      "_model_module": "@jupyter-widgets/base",
      "_model_module_version": "1.2.0",
      "_model_name": "LayoutModel",
      "_view_count": null,
      "_view_module": "@jupyter-widgets/base",
      "_view_module_version": "1.2.0",
      "_view_name": "LayoutView",
      "align_content": null,
      "align_items": null,
      "align_self": null,
      "border": null,
      "bottom": null,
      "display": "inline-flex",
      "flex": null,
      "flex_flow": "row wrap",
      "grid_area": null,
      "grid_auto_columns": null,
      "grid_auto_flow": null,
      "grid_auto_rows": null,
      "grid_column": null,
      "grid_gap": null,
      "grid_row": null,
      "grid_template_areas": null,
      "grid_template_columns": null,
      "grid_template_rows": null,
      "height": null,
      "justify_content": null,
      "justify_items": null,
      "left": null,
      "margin": null,
      "max_height": null,
      "max_width": null,
      "min_height": null,
      "min_width": null,
      "object_fit": null,
      "object_position": null,
      "order": null,
      "overflow": null,
      "overflow_x": null,
      "overflow_y": null,
      "padding": null,
      "right": null,
      "top": null,
      "visibility": "hidden",
      "width": "100%"
     }
    },
    "f2c3bff3dd1d4b64b7c62d14ba4276f8": {
     "model_module": "@jupyter-widgets/controls",
     "model_module_version": "1.5.0",
     "model_name": "HBoxModel",
     "state": {
      "_dom_classes": [],
      "_model_module": "@jupyter-widgets/controls",
      "_model_module_version": "1.5.0",
      "_model_name": "HBoxModel",
      "_view_count": null,
      "_view_module": "@jupyter-widgets/controls",
      "_view_module_version": "1.5.0",
      "_view_name": "HBoxView",
      "box_style": "",
      "children": [
       "IPY_MODEL_742c6dd693e04bd6bd2f6b2d089dee69",
       "IPY_MODEL_bcde6bf35d2b4e4080a63daf625bdf81",
       "IPY_MODEL_1d294442be7e43e68465059b27871bda"
      ],
      "layout": "IPY_MODEL_ba155b14fd81406aac134b2dd2abb107"
     }
    },
    "f2e3c05832ad481cb17a97ef24f15a63": {
     "model_module": "@jupyter-widgets/base",
     "model_module_version": "1.2.0",
     "model_name": "LayoutModel",
     "state": {
      "_model_module": "@jupyter-widgets/base",
      "_model_module_version": "1.2.0",
      "_model_name": "LayoutModel",
      "_view_count": null,
      "_view_module": "@jupyter-widgets/base",
      "_view_module_version": "1.2.0",
      "_view_name": "LayoutView",
      "align_content": null,
      "align_items": null,
      "align_self": null,
      "border": null,
      "bottom": null,
      "display": null,
      "flex": "2",
      "flex_flow": null,
      "grid_area": null,
      "grid_auto_columns": null,
      "grid_auto_flow": null,
      "grid_auto_rows": null,
      "grid_column": null,
      "grid_gap": null,
      "grid_row": null,
      "grid_template_areas": null,
      "grid_template_columns": null,
      "grid_template_rows": null,
      "height": null,
      "justify_content": null,
      "justify_items": null,
      "left": null,
      "margin": null,
      "max_height": null,
      "max_width": null,
      "min_height": null,
      "min_width": null,
      "object_fit": null,
      "object_position": null,
      "order": null,
      "overflow": null,
      "overflow_x": null,
      "overflow_y": null,
      "padding": null,
      "right": null,
      "top": null,
      "visibility": null,
      "width": null
     }
    },
    "f40e29b0d4c24af0a2bf8a98d90fac25": {
     "model_module": "@jupyter-widgets/controls",
     "model_module_version": "1.5.0",
     "model_name": "HBoxModel",
     "state": {
      "_dom_classes": [],
      "_model_module": "@jupyter-widgets/controls",
      "_model_module_version": "1.5.0",
      "_model_name": "HBoxModel",
      "_view_count": null,
      "_view_module": "@jupyter-widgets/controls",
      "_view_module_version": "1.5.0",
      "_view_name": "HBoxView",
      "box_style": "",
      "children": [
       "IPY_MODEL_38abce7cfbda4ff08c20814cfc401704",
       "IPY_MODEL_55220660c9ef4decb430a6ccd5406965",
       "IPY_MODEL_6cbb215ed9da49d9b16a49551caf91e1"
      ],
      "layout": "IPY_MODEL_130b302776774a0785b501dff4f2cc0f"
     }
    },
    "f44133af99a64f74a4b1ad7c36f296f9": {
     "model_module": "@jupyter-widgets/base",
     "model_module_version": "1.2.0",
     "model_name": "LayoutModel",
     "state": {
      "_model_module": "@jupyter-widgets/base",
      "_model_module_version": "1.2.0",
      "_model_name": "LayoutModel",
      "_view_count": null,
      "_view_module": "@jupyter-widgets/base",
      "_view_module_version": "1.2.0",
      "_view_name": "LayoutView",
      "align_content": null,
      "align_items": null,
      "align_self": null,
      "border": null,
      "bottom": null,
      "display": "inline-flex",
      "flex": null,
      "flex_flow": "row wrap",
      "grid_area": null,
      "grid_auto_columns": null,
      "grid_auto_flow": null,
      "grid_auto_rows": null,
      "grid_column": null,
      "grid_gap": null,
      "grid_row": null,
      "grid_template_areas": null,
      "grid_template_columns": null,
      "grid_template_rows": null,
      "height": null,
      "justify_content": null,
      "justify_items": null,
      "left": null,
      "margin": null,
      "max_height": null,
      "max_width": null,
      "min_height": null,
      "min_width": null,
      "object_fit": null,
      "object_position": null,
      "order": null,
      "overflow": null,
      "overflow_x": null,
      "overflow_y": null,
      "padding": null,
      "right": null,
      "top": null,
      "visibility": "hidden",
      "width": "100%"
     }
    },
    "f5c98add9f7e4ceea17ed9d9bb227a49": {
     "model_module": "@jupyter-widgets/base",
     "model_module_version": "1.2.0",
     "model_name": "LayoutModel",
     "state": {
      "_model_module": "@jupyter-widgets/base",
      "_model_module_version": "1.2.0",
      "_model_name": "LayoutModel",
      "_view_count": null,
      "_view_module": "@jupyter-widgets/base",
      "_view_module_version": "1.2.0",
      "_view_name": "LayoutView",
      "align_content": null,
      "align_items": null,
      "align_self": null,
      "border": null,
      "bottom": null,
      "display": null,
      "flex": null,
      "flex_flow": null,
      "grid_area": null,
      "grid_auto_columns": null,
      "grid_auto_flow": null,
      "grid_auto_rows": null,
      "grid_column": null,
      "grid_gap": null,
      "grid_row": null,
      "grid_template_areas": null,
      "grid_template_columns": null,
      "grid_template_rows": null,
      "height": null,
      "justify_content": null,
      "justify_items": null,
      "left": null,
      "margin": null,
      "max_height": null,
      "max_width": null,
      "min_height": null,
      "min_width": null,
      "object_fit": null,
      "object_position": null,
      "order": null,
      "overflow": null,
      "overflow_x": null,
      "overflow_y": null,
      "padding": null,
      "right": null,
      "top": null,
      "visibility": null,
      "width": null
     }
    },
    "f6c044b651734567afc55bbd7da86175": {
     "model_module": "@jupyter-widgets/controls",
     "model_module_version": "1.5.0",
     "model_name": "DescriptionStyleModel",
     "state": {
      "_model_module": "@jupyter-widgets/controls",
      "_model_module_version": "1.5.0",
      "_model_name": "DescriptionStyleModel",
      "_view_count": null,
      "_view_module": "@jupyter-widgets/base",
      "_view_module_version": "1.2.0",
      "_view_name": "StyleView",
      "description_width": ""
     }
    },
    "f80715c45b164874b899d9f81285b152": {
     "model_module": "@jupyter-widgets/base",
     "model_module_version": "1.2.0",
     "model_name": "LayoutModel",
     "state": {
      "_model_module": "@jupyter-widgets/base",
      "_model_module_version": "1.2.0",
      "_model_name": "LayoutModel",
      "_view_count": null,
      "_view_module": "@jupyter-widgets/base",
      "_view_module_version": "1.2.0",
      "_view_name": "LayoutView",
      "align_content": null,
      "align_items": null,
      "align_self": null,
      "border": null,
      "bottom": null,
      "display": null,
      "flex": null,
      "flex_flow": null,
      "grid_area": null,
      "grid_auto_columns": null,
      "grid_auto_flow": null,
      "grid_auto_rows": null,
      "grid_column": null,
      "grid_gap": null,
      "grid_row": null,
      "grid_template_areas": null,
      "grid_template_columns": null,
      "grid_template_rows": null,
      "height": null,
      "justify_content": null,
      "justify_items": null,
      "left": null,
      "margin": null,
      "max_height": null,
      "max_width": null,
      "min_height": null,
      "min_width": null,
      "object_fit": null,
      "object_position": null,
      "order": null,
      "overflow": null,
      "overflow_x": null,
      "overflow_y": null,
      "padding": null,
      "right": null,
      "top": null,
      "visibility": null,
      "width": null
     }
    },
    "fb14f9826831446f9fbf2fe2fe9a9502": {
     "model_module": "@jupyter-widgets/controls",
     "model_module_version": "1.5.0",
     "model_name": "HTMLModel",
     "state": {
      "_dom_classes": [],
      "_model_module": "@jupyter-widgets/controls",
      "_model_module_version": "1.5.0",
      "_model_name": "HTMLModel",
      "_view_count": null,
      "_view_module": "@jupyter-widgets/controls",
      "_view_module_version": "1.5.0",
      "_view_name": "HTMLView",
      "description": "",
      "description_tooltip": null,
      "layout": "IPY_MODEL_9aba3b00d0554cf1b0a4ec07bf115ec2",
      "placeholder": "​",
      "style": "IPY_MODEL_ff7f5c590eee4278942cf85946f7c857",
      "value": "Validation DataLoader 0: 100%"
     }
    },
    "fbdecc01355e4262aa4b3bbe2b68d368": {
     "model_module": "@jupyter-widgets/controls",
     "model_module_version": "1.5.0",
     "model_name": "ProgressStyleModel",
     "state": {
      "_model_module": "@jupyter-widgets/controls",
      "_model_module_version": "1.5.0",
      "_model_name": "ProgressStyleModel",
      "_view_count": null,
      "_view_module": "@jupyter-widgets/base",
      "_view_module_version": "1.2.0",
      "_view_name": "StyleView",
      "bar_color": null,
      "description_width": ""
     }
    },
    "fc63d706a6134627b58f9977bdc471a2": {
     "model_module": "@jupyter-widgets/base",
     "model_module_version": "1.2.0",
     "model_name": "LayoutModel",
     "state": {
      "_model_module": "@jupyter-widgets/base",
      "_model_module_version": "1.2.0",
      "_model_name": "LayoutModel",
      "_view_count": null,
      "_view_module": "@jupyter-widgets/base",
      "_view_module_version": "1.2.0",
      "_view_name": "LayoutView",
      "align_content": null,
      "align_items": null,
      "align_self": null,
      "border": null,
      "bottom": null,
      "display": null,
      "flex": null,
      "flex_flow": null,
      "grid_area": null,
      "grid_auto_columns": null,
      "grid_auto_flow": null,
      "grid_auto_rows": null,
      "grid_column": null,
      "grid_gap": null,
      "grid_row": null,
      "grid_template_areas": null,
      "grid_template_columns": null,
      "grid_template_rows": null,
      "height": null,
      "justify_content": null,
      "justify_items": null,
      "left": null,
      "margin": null,
      "max_height": null,
      "max_width": null,
      "min_height": null,
      "min_width": null,
      "object_fit": null,
      "object_position": null,
      "order": null,
      "overflow": null,
      "overflow_x": null,
      "overflow_y": null,
      "padding": null,
      "right": null,
      "top": null,
      "visibility": null,
      "width": null
     }
    },
    "fcf66bf4d9fa4799bba3765b2aa7747c": {
     "model_module": "@jupyter-widgets/controls",
     "model_module_version": "1.5.0",
     "model_name": "FloatProgressModel",
     "state": {
      "_dom_classes": [],
      "_model_module": "@jupyter-widgets/controls",
      "_model_module_version": "1.5.0",
      "_model_name": "FloatProgressModel",
      "_view_count": null,
      "_view_module": "@jupyter-widgets/controls",
      "_view_module_version": "1.5.0",
      "_view_name": "ProgressView",
      "bar_style": "success",
      "description": "",
      "description_tooltip": null,
      "layout": "IPY_MODEL_b5eceab4d74d4c13945e633f598e45b1",
      "max": 16,
      "min": 0,
      "orientation": "horizontal",
      "style": "IPY_MODEL_c638dbca08ad492daaa548765284e914",
      "value": 16
     }
    },
    "fd38fed2db2c4c158aa387a77330c474": {
     "model_module": "@jupyter-widgets/controls",
     "model_module_version": "1.5.0",
     "model_name": "HTMLModel",
     "state": {
      "_dom_classes": [],
      "_model_module": "@jupyter-widgets/controls",
      "_model_module_version": "1.5.0",
      "_model_name": "HTMLModel",
      "_view_count": null,
      "_view_module": "@jupyter-widgets/controls",
      "_view_module_version": "1.5.0",
      "_view_name": "HTMLView",
      "description": "",
      "description_tooltip": null,
      "layout": "IPY_MODEL_e3c581fd727b4b6e8518fa122f046e1f",
      "placeholder": "​",
      "style": "IPY_MODEL_74fadf498751422bb441dbc44f43e65a",
      "value": "Validation DataLoader 0: 100%"
     }
    },
    "ff7f5c590eee4278942cf85946f7c857": {
     "model_module": "@jupyter-widgets/controls",
     "model_module_version": "1.5.0",
     "model_name": "DescriptionStyleModel",
     "state": {
      "_model_module": "@jupyter-widgets/controls",
      "_model_module_version": "1.5.0",
      "_model_name": "DescriptionStyleModel",
      "_view_count": null,
      "_view_module": "@jupyter-widgets/base",
      "_view_module_version": "1.2.0",
      "_view_name": "StyleView",
      "description_width": ""
     }
    }
   }
  }
 },
 "nbformat": 4,
 "nbformat_minor": 4
}
